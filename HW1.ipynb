{
 "cells": [
  {
   "cell_type": "markdown",
   "metadata": {},
   "source": [
    "## Homework 1 - Finding similar items"
   ]
  },
  {
   "cell_type": "markdown",
   "metadata": {},
   "source": [
    "## Shingling / Shingles\n",
    "\n",
    "> **Lab description**: *A class Shingling that constructs k–shingles of a given length k (e.g., 10) from a given document, computes a hash value for each unique shingle and represents the document in the form of an ordered set of its hashed k-shingles.*\n",
    "\n",
    "The first part of this homework is to implement the shingling algorithm. The shingling algorithm takes a document and breaks it into a set of k-shingles. For example, if we have the document \"Hello World\" and we use a k-shingle size of 3, we would get the following shingles:\n",
    "```bash\n",
    "    {Hel, ell, llo, lo ,o W, Wo, or, rl, ld}\n",
    "```\n",
    "The shingling algorithm is implemented in the `shingling` class. The function takes a document and a k-shingle size and returns a set of shingles. The function is implemented in the cell below.\n",
    "\n",
    "Notable details of our implementation:\n",
    "- We use Python's native hash function to compute the hash value of each shingle and modulo max value of an unsigned int $(2^32 - 1)$.\n",
    "- We use a set to store the shingles, which is a data structure that only stores unique elements. This is useful because we don't want to store duplicate shingles. It also allows for convinient set operations later on.\n"
   ]
  },
  {
   "cell_type": "code",
   "execution_count": 19,
   "metadata": {},
   "outputs": [],
   "source": [
    "class Shingling:\n",
    "  def __init__(self, text, k):\n",
    "    self.shingles = self.constructShingles(text, k)\n",
    "    self.hashed_shingles = self.constructHashedShingles(text, k)\n",
    "\n",
    "  def constructShingles(self, s, k=5):\n",
    "    \"\"\"\n",
    "    Split a (lower case) string into k equal sizes.\n",
    "    \"\"\"\n",
    "    return set([s[i:(i+k)].lower() for i in range(0, len(s)-k+1)])\n",
    "\n",
    "  def constructHashedShingles(self, text, k=5, hashBoundary=((2**32)-1)):\n",
    "    \"\"\"\n",
    "    Using above function to construct shingles, and then hash them.\n",
    "    \"\"\"\n",
    "    shingles = self.constructShingles(text, k)\n",
    "    hashed_shingles = [hash(shingle) % hashBoundary for shingle in shingles]\n",
    "    return set(hashed_shingles)\n"
   ]
  },
  {
   "cell_type": "markdown",
   "metadata": {},
   "source": [
    "By using the examples provided in the lecture (`factorial` vs `editorial`), we demonstrate our `Shingling` class in the next cell."
   ]
  },
  {
   "cell_type": "code",
   "execution_count": 20,
   "metadata": {},
   "outputs": [
    {
     "name": "stdout",
     "output_type": "stream",
     "text": [
      "Shingles for editorial:  {'orial', 'ditor', 'edito', 'itori', 'toria'}\n",
      "Shingles for factorial:  {'facto', 'orial', 'actor', 'ctori', 'toria'}\n",
      "Matching:  {'toria', 'orial'}\n",
      "\n",
      "Hashed shingles for editorial:  {2045878978, 3516216712, 786809002, 1523537460, 112851898}\n",
      "Hashed shingles for factorial:  {3131635656, 786809002, 856325643, 400798385, 1523537460}\n",
      "Matching:  {786809002, 1523537460}\n"
     ]
    }
   ],
   "source": [
    "# examples from lecture\n",
    "editorial = \"editorial\"\n",
    "factorial = \"factorial\"\n",
    "\n",
    "shingle_length = 5\n",
    "\n",
    "shingling_editorial = Shingling(editorial, shingle_length)\n",
    "shingling_factorial = Shingling(factorial, shingle_length)\n",
    "\n",
    "shinglings = [shingling_editorial, shingling_factorial]\n",
    "\n",
    "print(\"Shingles for editorial: \", shinglings[0].shingles)\n",
    "print(\"Shingles for factorial: \", shinglings[1].shingles)\n",
    "print(\"Matching: \", shinglings[0].shingles & shinglings[1].shingles)\n",
    "\n",
    "print(\"\\nHashed shingles for editorial: \", shinglings[0].hashed_shingles)\n",
    "print(\"Hashed shingles for factorial: \", shinglings[1].hashed_shingles)\n",
    "print(\"Matching: \", shinglings[0].hashed_shingles & shinglings[1].hashed_shingles)"
   ]
  },
  {
   "cell_type": "markdown",
   "metadata": {},
   "source": [
    "## Compare Sets\n",
    "\n",
    "> **Lab description:** *A class CompareSets computes the Jaccard similarity of two sets of integers – two sets of hashed shingles.*\n",
    "\n",
    "The next part of this homework is to implement the Jaccard similarity. Since we implements Shingles with Python sets, we can use Python's built-in set operations. To this end it is sufficent to use `&` and `|`. The `CompareSets` class is implemented in the cell below."
   ]
  },
  {
   "cell_type": "code",
   "execution_count": 21,
   "metadata": {},
   "outputs": [],
   "source": [
    "import numpy as np\n",
    "\n",
    "class CompareSets:\n",
    "\n",
    "  def similarity(sel, A, B):\n",
    "    \"\"\"\n",
    "    Jaccardi similarity between two sets of hashed shingles.\n",
    "    \"\"\"\n",
    "    return len(A & B) / len(A | B)\n",
    "\n",
    "  def distance(self, A, B):\n",
    "      \"\"\"\n",
    "      Jaccardi distance.\n",
    "      \"\"\"\n",
    "      return 1-self.similarity(A, B)"
   ]
  },
  {
   "cell_type": "markdown",
   "metadata": {},
   "source": [
    "Now we demonstrate the class by comparing the shingles of `factorial` and `editorial`."
   ]
  },
  {
   "cell_type": "code",
   "execution_count": 22,
   "metadata": {},
   "outputs": [
    {
     "name": "stdout",
     "output_type": "stream",
     "text": [
      "Jaccardi Similarity: 0.25\n"
     ]
    }
   ],
   "source": [
    "# create a new 'compare' object\n",
    "comparer = CompareSets()\n",
    "similarity = comparer.similarity(A=shingling_editorial.hashed_shingles, \n",
    "                                 B=shingling_factorial.hashed_shingles)\n",
    "\n",
    "print('Jaccardi Similarity:', similarity)"
   ]
  },
  {
   "cell_type": "markdown",
   "metadata": {},
   "source": [
    "## MinHashing\n",
    "\n",
    "> **Lab description**: *A class MinHashing that builds a minHash signature (in the form of a vector or a set) of a given length n from a given set of integers (a set of hashed shingles).*\n",
    "\n",
    "The next part of this homework is to implement the MinHashing algorithm. We make a MinHashing class that takes a set of shingles and a returns a signature. The class is implemented in the cell below.\n",
    "Notable details of our implementation:\n",
    "- We have a method to construct the *characteristic matrix* and two different implementations of finding the signature matrix.\n",
    "    * `createSigMatPer` requries the characteristic matrix to be constructed and then finds the signature matrix by using permutations. It is slow and less space efficent.\n",
    "    * `createSigMatHash` finds the signature matrix *without* constructing the characteristic matrix. It is faster and more space efficent.\n",
    "- We use a hash function on the form of $ax+b \\mod N$, where $a$ and $b$ are random numbers ($a, b < 2^{32}-1$) and $N$ is the prime number closest to, and greater than, $2^{32}-1$ (found by table of known prime numbers)."
   ]
  },
  {
   "cell_type": "code",
   "execution_count": 23,
   "metadata": {},
   "outputs": [],
   "source": [
    "import numpy as np\n",
    "\n",
    "class MinHashing:\n",
    "\n",
    "  def constructCharMat(self, shingleList):\n",
    "    union = set().union(*shingleList)\n",
    "    return np.array([[int(e in s) for s in shingleList] for e in union])\n",
    "\n",
    "  def createSigMatPer(self, shingleList, K=100):\n",
    "    charMat = self.constructCharMat(shingleList)\n",
    "    sigMat = []\n",
    "    \n",
    "    for i in range(K):\n",
    "      perCharMat = np.take(charMat, np.random.RandomState(seed=i).permutation(charMat.shape[0]),axis=0)\n",
    "      sigMatRow = [np.where(col == 1)[0][0] for col in perCharMat.T]\n",
    "      sigMat.append(sigMatRow)\n",
    "\n",
    "    return np.array(sigMat)\n",
    "\n",
    "  def createSigMatHash(self, shingleList, K=100):\n",
    "    # assign max value to use as boundary when finding a and b\n",
    "    max_int = 2**32-1\n",
    "    # a prime number larger than max_int, but still not too large\n",
    "    prime = 4294967311\n",
    "\n",
    "    # generate K random a and b values, bounded by maxID\n",
    "    a = self.getHashCoefficients(upper_bound=max_int, K=K, seed=1)\n",
    "    b = self.getHashCoefficients(upper_bound=max_int, K=K, seed=2)\n",
    "\n",
    "    # create the signature matrix of size K x len(setList) by hashing each set and finding the minum value\n",
    "    # TODO parallellize this?\n",
    "    sigMat = np.array([[np.min([(a[i] * e + b[i]) % prime for e in s]) for s in shingleList] for i in range(K)])\n",
    "    return sigMat\n",
    "     \n",
    "  def getHashCoefficients(self, upper_bound, K=100, seed=1):\n",
    "    return np.random.RandomState(seed=seed).randint(low=0, high=upper_bound, size=K, dtype=np.uint32)\n",
    "\n",
    "\n"
   ]
  },
  {
   "cell_type": "markdown",
   "metadata": {},
   "source": [
    "Below we demonstrate our implementation of the signature matrix by comparing the signatures of `factorial` and `editorial`."
   ]
  },
  {
   "cell_type": "code",
   "execution_count": 24,
   "metadata": {},
   "outputs": [
    {
     "data": {
      "text/html": [
       "<div>\n",
       "<style scoped>\n",
       "    .dataframe tbody tr th:only-of-type {\n",
       "        vertical-align: middle;\n",
       "    }\n",
       "\n",
       "    .dataframe tbody tr th {\n",
       "        vertical-align: top;\n",
       "    }\n",
       "\n",
       "    .dataframe thead th {\n",
       "        text-align: right;\n",
       "    }\n",
       "</style>\n",
       "<table border=\"1\" class=\"dataframe\">\n",
       "  <thead>\n",
       "    <tr style=\"text-align: right;\">\n",
       "      <th></th>\n",
       "      <th>\"Editorial\"</th>\n",
       "      <th>\"Factorial\"</th>\n",
       "    </tr>\n",
       "  </thead>\n",
       "  <tbody>\n",
       "    <tr>\n",
       "      <th>facto</th>\n",
       "      <td>0</td>\n",
       "      <td>1</td>\n",
       "    </tr>\n",
       "    <tr>\n",
       "      <th>orial</th>\n",
       "      <td>1</td>\n",
       "      <td>1</td>\n",
       "    </tr>\n",
       "    <tr>\n",
       "      <th>actor</th>\n",
       "      <td>0</td>\n",
       "      <td>1</td>\n",
       "    </tr>\n",
       "    <tr>\n",
       "      <th>ditor</th>\n",
       "      <td>1</td>\n",
       "      <td>0</td>\n",
       "    </tr>\n",
       "    <tr>\n",
       "      <th>edito</th>\n",
       "      <td>1</td>\n",
       "      <td>0</td>\n",
       "    </tr>\n",
       "    <tr>\n",
       "      <th>itori</th>\n",
       "      <td>1</td>\n",
       "      <td>0</td>\n",
       "    </tr>\n",
       "    <tr>\n",
       "      <th>ctori</th>\n",
       "      <td>0</td>\n",
       "      <td>1</td>\n",
       "    </tr>\n",
       "    <tr>\n",
       "      <th>toria</th>\n",
       "      <td>1</td>\n",
       "      <td>1</td>\n",
       "    </tr>\n",
       "  </tbody>\n",
       "</table>\n",
       "</div>"
      ],
      "text/plain": [
       "       \"Editorial\"  \"Factorial\"\n",
       "facto            0            1\n",
       "orial            1            1\n",
       "actor            0            1\n",
       "ditor            1            0\n",
       "edito            1            0\n",
       "itori            1            0\n",
       "ctori            0            1\n",
       "toria            1            1"
      ]
     },
     "execution_count": 24,
     "metadata": {},
     "output_type": "execute_result"
    }
   ],
   "source": [
    "import pandas as pd\n",
    "# store the shingles in a list for convenience\n",
    "shingles = [shingling_editorial.shingles, shingling_factorial.shingles]\n",
    "\n",
    "# find their union (also called 'document vector space')\n",
    "union = set().union(*shingles)\n",
    "\n",
    "# create a new minhash object\n",
    "minHash = MinHashing()\n",
    "\n",
    "# construct the characteristic matrix\n",
    "charMat = minHash.constructCharMat(shingles)\n",
    "\n",
    "# Out of courtesy, we mask the output of 'charMat' as a Panda dataframe\n",
    "pd.DataFrame(charMat, index=list(set().union(*shingles)), columns=['\\\"Editorial\\\"', '\\\"Factorial\\\"'])\n"
   ]
  },
  {
   "cell_type": "markdown",
   "metadata": {},
   "source": [
    "Here we compare the signatures of `factorial` and `editorial` using the `createSigMatHash` method. The rows are enumerated hash functions, and the columns are the documents."
   ]
  },
  {
   "cell_type": "code",
   "execution_count": 25,
   "metadata": {},
   "outputs": [
    {
     "data": {
      "text/html": [
       "<div>\n",
       "<style scoped>\n",
       "    .dataframe tbody tr th:only-of-type {\n",
       "        vertical-align: middle;\n",
       "    }\n",
       "\n",
       "    .dataframe tbody tr th {\n",
       "        vertical-align: top;\n",
       "    }\n",
       "\n",
       "    .dataframe thead th {\n",
       "        text-align: right;\n",
       "    }\n",
       "</style>\n",
       "<table border=\"1\" class=\"dataframe\">\n",
       "  <thead>\n",
       "    <tr style=\"text-align: right;\">\n",
       "      <th></th>\n",
       "      <th>\"Editorial\"</th>\n",
       "      <th>\"Factorial\"</th>\n",
       "    </tr>\n",
       "    <tr>\n",
       "      <th>Hash function #</th>\n",
       "      <th></th>\n",
       "      <th></th>\n",
       "    </tr>\n",
       "  </thead>\n",
       "  <tbody>\n",
       "    <tr>\n",
       "      <th>0</th>\n",
       "      <td>1301443494</td>\n",
       "      <td>625465253</td>\n",
       "    </tr>\n",
       "    <tr>\n",
       "      <th>1</th>\n",
       "      <td>200381731</td>\n",
       "      <td>215242056</td>\n",
       "    </tr>\n",
       "    <tr>\n",
       "      <th>2</th>\n",
       "      <td>2051311986</td>\n",
       "      <td>983940</td>\n",
       "    </tr>\n",
       "    <tr>\n",
       "      <th>3</th>\n",
       "      <td>184034005</td>\n",
       "      <td>184034005</td>\n",
       "    </tr>\n",
       "    <tr>\n",
       "      <th>4</th>\n",
       "      <td>923525835</td>\n",
       "      <td>6961639</td>\n",
       "    </tr>\n",
       "    <tr>\n",
       "      <th>...</th>\n",
       "      <td>...</td>\n",
       "      <td>...</td>\n",
       "    </tr>\n",
       "    <tr>\n",
       "      <th>95</th>\n",
       "      <td>2327052499</td>\n",
       "      <td>2527611667</td>\n",
       "    </tr>\n",
       "    <tr>\n",
       "      <th>96</th>\n",
       "      <td>356954214</td>\n",
       "      <td>889943588</td>\n",
       "    </tr>\n",
       "    <tr>\n",
       "      <th>97</th>\n",
       "      <td>1531581531</td>\n",
       "      <td>61919623</td>\n",
       "    </tr>\n",
       "    <tr>\n",
       "      <th>98</th>\n",
       "      <td>715857034</td>\n",
       "      <td>928415418</td>\n",
       "    </tr>\n",
       "    <tr>\n",
       "      <th>99</th>\n",
       "      <td>44448799</td>\n",
       "      <td>44448799</td>\n",
       "    </tr>\n",
       "  </tbody>\n",
       "</table>\n",
       "<p>100 rows × 2 columns</p>\n",
       "</div>"
      ],
      "text/plain": [
       "                 \"Editorial\"  \"Factorial\"\n",
       "Hash function #                          \n",
       "0                 1301443494    625465253\n",
       "1                  200381731    215242056\n",
       "2                 2051311986       983940\n",
       "3                  184034005    184034005\n",
       "4                  923525835      6961639\n",
       "...                      ...          ...\n",
       "95                2327052499   2527611667\n",
       "96                 356954214    889943588\n",
       "97                1531581531     61919623\n",
       "98                 715857034    928415418\n",
       "99                  44448799     44448799\n",
       "\n",
       "[100 rows x 2 columns]"
      ]
     },
     "execution_count": 25,
     "metadata": {},
     "output_type": "execute_result"
    }
   ],
   "source": [
    "hashed_shingles = [shingling_editorial.hashed_shingles, shingling_factorial.hashed_shingles]\n",
    "union = union = set().union(*hashed_shingles)\n",
    "\n",
    "# NOTE: as number of hash functions increases, the similarity converges to the true similarity\n",
    "number_of_hash_functions = 100\n",
    "sigMat = minHash.createSigMatHash(hashed_shingles, K=number_of_hash_functions)\n",
    "\n",
    "# signature matrix is a (number of hash functions) x (number of documents) matrix\n",
    "df = pd.DataFrame(sigMat, columns=['\\\"Editorial\\\"', '\\\"Factorial\\\"'])\n",
    "df.index.name = 'Hash function #'\n",
    "df"
   ]
  },
  {
   "cell_type": "markdown",
   "metadata": {},
   "source": [
    "Since we employed two different methods to find the signature matrix, we can compare the two methods. For `editorial` vs `factorial`, the approach using hash functions has a speed-up of ~4.5x. It makes sense, because the latter approach does not require the construction of the characteristic matrix."
   ]
  },
  {
   "cell_type": "code",
   "execution_count": 26,
   "metadata": {},
   "outputs": [
    {
     "name": "stdout",
     "output_type": "stream",
     "text": [
      "Creating Signature Matrix with Permutations and K = 100\n",
      "17.5 ms ± 361 µs per loop (mean ± std. dev. of 7 runs, 100 loops each)\n",
      "\n",
      "Creating Signature Matrix with Hashing and K = 100\n",
      "4.79 ms ± 48.1 µs per loop (mean ± std. dev. of 7 runs, 100 loops each)\n"
     ]
    }
   ],
   "source": [
    "# store the shingles in a list for convenience\n",
    "shingles = [shingling_editorial.hashed_shingles, shingling_factorial.hashed_shingles]\n",
    "union = set().union(*shingles)\n",
    "\n",
    "# setup matrices\n",
    "minHash = MinHashing()\n",
    "charMat = minHash.constructCharMat(shingles)\n",
    "number_of_hash_functions = 100\n",
    "\n",
    "# ----- Creating Signature Matrix with Permutations -----\n",
    "print(\"Creating Signature Matrix with Permutations and K =\", number_of_hash_functions)\n",
    "%timeit minHash.createSigMatPer(shingles, number_of_hash_functions)\n",
    "\n",
    "# ----- Creating Signature Matrix with Hashing -----\n",
    "print(\"\\nCreating Signature Matrix with Hashing and K =\", number_of_hash_functions)\n",
    "%timeit minHash.createSigMatHash(shingles, number_of_hash_functions)"
   ]
  },
  {
   "cell_type": "markdown",
   "metadata": {},
   "source": [
    "#### Compare Signatures\n",
    "\n",
    "> **Lab description**: *A class CompareSignatures estimates the similarity of two integer vectors – minhash signatures – as a fraction of components in which they agree.*\n",
    "\n",
    "We made a short class to compare the signatures of two columns of a signature matrix. The class is implemented in the cell below."
   ]
  },
  {
   "cell_type": "code",
   "execution_count": 27,
   "metadata": {},
   "outputs": [],
   "source": [
    "import numpy as np\n",
    "\n",
    "class CompareSignatures:\n",
    "  def similarity(self, document1, document2):\n",
    "    return (np.sum(document1 == document2)) / len(document1)"
   ]
  },
  {
   "cell_type": "markdown",
   "metadata": {},
   "source": [
    "We demonstrate the class by comparing the signatures of `factorial` and `editorial`. The documents are too small for any significant difference to be observed between permutations and hash functions."
   ]
  },
  {
   "cell_type": "code",
   "execution_count": 28,
   "metadata": {},
   "outputs": [
    {
     "name": "stdout",
     "output_type": "stream",
     "text": [
      "Signature Matrix Similarity Permutation: 0.25\n",
      "Signature Matrix Similarity Hash: 0.26\n"
     ]
    }
   ],
   "source": [
    "# set up the comparer and signuture matrices of type 1) permutations, 2) hash functions\n",
    "signature_comparer = CompareSignatures()\n",
    "number_of_hash_functions = 100\n",
    "signature_permutations = minHash.createSigMatPer(shingles, number_of_hash_functions)\n",
    "signature_hash_functions = minHash.createSigMatHash(shingles, number_of_hash_functions)\n",
    "\n",
    "print('Signature Matrix Similarity Permutation:', signature_comparer.similarity(signature_permutations[:,0], signature_permutations[:,1]))\n",
    "print('Signature Matrix Similarity Hash:', signature_comparer.similarity(signature_hash_functions[:,0], signature_hash_functions[:,1]))"
   ]
  },
  {
   "cell_type": "markdown",
   "metadata": {},
   "source": [
    "## Locality-Sensitive Hashing\n",
    "\n",
    "> **Lab description:** *A class LSH that implements the LSH technique: given a collection of minhash signatures (integer vectors) and a similarity threshold t, the LSH class (using banding and hashing) finds candidate pairs of signatures agreeing on at least a fraction t of their components.*\n",
    "\n",
    "The next part of this homework is to implement the LSH algorithm. We make a LSH class that takes a signature matrix and a similarity threshold and returns a list of candidate pairs. The class is implemented in the cell below.\n",
    "\n",
    "#### Breif explanation of the LSH algorithm\n",
    " Since the vocabulary is large, and we have to compare each document pairwise, the amount of comparisons required is (N choose 2), where N is the number of documents. This is a lot of comparisons. We want to reduce the number of comparisons by locating candidate pairs that are similar. To this end, we use LSH. We divide the signature matrix into bands, and for each band we hash the rows. If two rows have the same hash value, they are likely to be similar. We then compare the rows pairwise. The class is implemented in the cell below.\n",
    "\n",
    "According to the course litterature, we assume that two slices of a given column (row = *document*) are candidate pairs if and only if they have identical elements. Thus, we don't have to implement a particular hash functions, but can use Python's. Frozen sets are a hashable data structure in Python that ensure that the hash value is independent of the order of the elements."
   ]
  },
  {
   "cell_type": "code",
   "execution_count": 29,
   "metadata": {},
   "outputs": [],
   "source": [
    "import numpy as np\n",
    "\n",
    "class LSH:\n",
    "\n",
    "  def estimateBandR(self, sigMat, simThresh=0.8):\n",
    "    # rangeMax = int(len(sigMat)/math.log(len(sigMat)))\n",
    "    rangeMax = len(sigMat)\n",
    "    brSolutions = [[b,r] for b in range(rangeMax) for r in range(rangeMax) if (b * r)==len(sigMat)]\n",
    "\n",
    "    similarities = [(1/ab[0])**(1/ab[1]) for ab in brSolutions]\n",
    "\n",
    "    closestFit = min(similarities, key=lambda x:abs(x-simThresh))\n",
    "    index = similarities.index(closestFit)\n",
    "    return brSolutions[index][0], brSolutions[index][1]\n",
    "\n",
    "  def findCandidatePairs(self, sigMat, threshold=0.80, bands=None, k=10**6):\n",
    "\n",
    "    if bands is None:\n",
    "      b, r = self.estimateBandR(sigMat, threshold)\n",
    "\n",
    "    # assume that the number of rows is evenly divisible by the number of bands\n",
    "    assert len(sigMat) % b == 0\n",
    "\n",
    "    candidate_pairs = []\n",
    "\n",
    "    for i in range(sigMat.shape[1]):\n",
    "      for j in range(sigMat.shape[1]):\n",
    "        if i == j:\n",
    "          continue\n",
    "        \n",
    "        for n in range(b):\n",
    "          # use frozen sets since it is hashable\n",
    "          hashBand1 = hash(frozenset(sigMat[n*r:(n+1)*r,i])) % k\n",
    "          hashBand2 = hash(frozenset(sigMat[n*r:(n+1)*r,j])) % k\n",
    "\n",
    "          if hashBand1 == hashBand2:\n",
    "            # print((i,j))\n",
    "            if (i,j) not in candidate_pairs and (j,i) not in candidate_pairs:\n",
    "              candidate_pairs.append((i,j))\n",
    "              # print((i,j))\n",
    "            break\n",
    "\n",
    "    print(sigMat.shape[1], 'documents have', len(candidate_pairs), 'candidate pairs')\n",
    "    print(b, 'bands and', r, 'rows per band')\n",
    "    print('Estimated similarity threshold:', (1/b)**(1/r))\n",
    "    return candidate_pairs\n"
   ]
  },
  {
   "cell_type": "code",
   "execution_count": 30,
   "metadata": {},
   "outputs": [
    {
     "name": "stdout",
     "output_type": "stream",
     "text": [
      "2 documents have 1 candidate pairs\n",
      "50 bands and 2 rows per band\n",
      "Estimated similarity threshold: 0.1414213562373095\n",
      "Estimated number of bands and rows per band: [(0, 1)]\n"
     ]
    }
   ],
   "source": [
    "lsh = LSH()\n",
    "threshold = 0.1\n",
    "print('Estimated number of bands and rows per band:', lsh.findCandidatePairs(signature_hash_functions, threshold=threshold))\n",
    "\n"
   ]
  },
  {
   "cell_type": "markdown",
   "metadata": {},
   "source": [
    "## Testing\n",
    "\n",
    "We now test our implementation with \"real-world\" data."
   ]
  },
  {
   "cell_type": "code",
   "execution_count": 37,
   "metadata": {},
   "outputs": [
    {
     "name": "stdout",
     "output_type": "stream",
     "text": [
      "225519\n",
      "179951\n",
      "822938\n",
      "766417\n"
     ]
    }
   ],
   "source": [
    "with open('./documents/bigdataprocessing.txt', 'r', encoding=\"utf8\") as f:\n",
    "    f1 = f.readlines()\n",
    "\n",
    "with open('./documents/deeplearning.txt', 'r', encoding=\"utf8\") as f:\n",
    "    f2 = f.readlines()\n",
    "\n",
    "with open('./documents/mmds.txt', 'r', encoding=\"utf8\") as f:\n",
    "    f3 = f.readlines()\n",
    "\n",
    "with open('./documents/operatingsystems.txt', 'r', encoding=\"utf8\") as f:\n",
    "    f4 = f.readlines()\n",
    "\n",
    "bigdataprocessing, deeplearning, mmds, operatingsystems = '', '', '', ''\n",
    "for substring in f1:\n",
    "  bigdataprocessing += substring\n",
    "\n",
    "for substring in f2:\n",
    "  deeplearning += substring\n",
    "\n",
    "for substring in f3:\n",
    "  mmds += substring\n",
    "\n",
    "for substring in f4:\n",
    "  operatingsystems += substring\n",
    "\n",
    "documents = [bigdataprocessing, mmds, operatingsystems, deeplearning]\n",
    "\n",
    "\n",
    "print(len(bigdataprocessing))\n",
    "print(len(deeplearning))\n",
    "print(len(mmds))\n",
    "print(len(operatingsystems))"
   ]
  },
  {
   "cell_type": "code",
   "execution_count": 38,
   "metadata": {},
   "outputs": [
    {
     "name": "stdout",
     "output_type": "stream",
     "text": [
      "Length of document #0: 47359\n",
      "Length of document #1: 65724\n",
      "Length of document #2: 31088\n",
      "Length of document #3: 41593\n"
     ]
    }
   ],
   "source": [
    "shingle_length = 5\n",
    "\n",
    "hashed_shingles = []\n",
    "\n",
    "for doc in documents:\n",
    "    hashed_shingles.append(Shingling(doc, shingle_length).hashed_shingles)\n",
    "\n",
    "vocabulary = set().union(*hashed_shingles)\n",
    "\n",
    "for i, hs in enumerate(hashed_shingles):\n",
    "    print(\"Length of document #{}:\".format(i), len(hs))"
   ]
  },
  {
   "cell_type": "markdown",
   "metadata": {},
   "source": [
    "We benchmark the implementation of `sigMatHash` by using the above documents."
   ]
  },
  {
   "cell_type": "code",
   "execution_count": 39,
   "metadata": {},
   "outputs": [
    {
     "name": "stdout",
     "output_type": "stream",
     "text": [
      "Time elapsed Hash: 68.14126420021057\n"
     ]
    },
    {
     "data": {
      "text/html": [
       "<div>\n",
       "<style scoped>\n",
       "    .dataframe tbody tr th:only-of-type {\n",
       "        vertical-align: middle;\n",
       "    }\n",
       "\n",
       "    .dataframe tbody tr th {\n",
       "        vertical-align: top;\n",
       "    }\n",
       "\n",
       "    .dataframe thead th {\n",
       "        text-align: right;\n",
       "    }\n",
       "</style>\n",
       "<table border=\"1\" class=\"dataframe\">\n",
       "  <thead>\n",
       "    <tr style=\"text-align: right;\">\n",
       "      <th></th>\n",
       "      <th>0</th>\n",
       "      <th>1</th>\n",
       "      <th>2</th>\n",
       "      <th>3</th>\n",
       "    </tr>\n",
       "  </thead>\n",
       "  <tbody>\n",
       "    <tr>\n",
       "      <th>0</th>\n",
       "      <td>68033</td>\n",
       "      <td>68033</td>\n",
       "      <td>66159</td>\n",
       "      <td>195683</td>\n",
       "    </tr>\n",
       "    <tr>\n",
       "      <th>1</th>\n",
       "      <td>92549</td>\n",
       "      <td>523579</td>\n",
       "      <td>611801</td>\n",
       "      <td>125482</td>\n",
       "    </tr>\n",
       "    <tr>\n",
       "      <th>2</th>\n",
       "      <td>152003</td>\n",
       "      <td>60778</td>\n",
       "      <td>27004</td>\n",
       "      <td>79367</td>\n",
       "    </tr>\n",
       "    <tr>\n",
       "      <th>3</th>\n",
       "      <td>291851</td>\n",
       "      <td>50738</td>\n",
       "      <td>93251</td>\n",
       "      <td>128922</td>\n",
       "    </tr>\n",
       "    <tr>\n",
       "      <th>4</th>\n",
       "      <td>1483</td>\n",
       "      <td>1483</td>\n",
       "      <td>53034</td>\n",
       "      <td>53034</td>\n",
       "    </tr>\n",
       "    <tr>\n",
       "      <th>...</th>\n",
       "      <td>...</td>\n",
       "      <td>...</td>\n",
       "      <td>...</td>\n",
       "      <td>...</td>\n",
       "    </tr>\n",
       "    <tr>\n",
       "      <th>95</th>\n",
       "      <td>31132</td>\n",
       "      <td>31132</td>\n",
       "      <td>44646</td>\n",
       "      <td>44646</td>\n",
       "    </tr>\n",
       "    <tr>\n",
       "      <th>96</th>\n",
       "      <td>18762</td>\n",
       "      <td>18762</td>\n",
       "      <td>18762</td>\n",
       "      <td>18762</td>\n",
       "    </tr>\n",
       "    <tr>\n",
       "      <th>97</th>\n",
       "      <td>163781</td>\n",
       "      <td>163781</td>\n",
       "      <td>163781</td>\n",
       "      <td>12169</td>\n",
       "    </tr>\n",
       "    <tr>\n",
       "      <th>98</th>\n",
       "      <td>288240</td>\n",
       "      <td>370712</td>\n",
       "      <td>31451</td>\n",
       "      <td>43437</td>\n",
       "    </tr>\n",
       "    <tr>\n",
       "      <th>99</th>\n",
       "      <td>22386</td>\n",
       "      <td>119348</td>\n",
       "      <td>38759</td>\n",
       "      <td>38759</td>\n",
       "    </tr>\n",
       "  </tbody>\n",
       "</table>\n",
       "<p>100 rows × 4 columns</p>\n",
       "</div>"
      ],
      "text/plain": [
       "         0       1       2       3\n",
       "0    68033   68033   66159  195683\n",
       "1    92549  523579  611801  125482\n",
       "2   152003   60778   27004   79367\n",
       "3   291851   50738   93251  128922\n",
       "4     1483    1483   53034   53034\n",
       "..     ...     ...     ...     ...\n",
       "95   31132   31132   44646   44646\n",
       "96   18762   18762   18762   18762\n",
       "97  163781  163781  163781   12169\n",
       "98  288240  370712   31451   43437\n",
       "99   22386  119348   38759   38759\n",
       "\n",
       "[100 rows x 4 columns]"
      ]
     },
     "execution_count": 39,
     "metadata": {},
     "output_type": "execute_result"
    }
   ],
   "source": [
    "import time\n",
    "\n",
    "# ----- Creating Signature Matrix with Hashing -----\n",
    "minHash = MinHashing()\n",
    "number_of_hash_functions = 100\n",
    "\n",
    "start = time.time()\n",
    "\n",
    "sigMatHash = minHash.createSigMatHash(hashed_shingles, number_of_hash_functions)\n",
    "\n",
    "end = time.time()\n",
    "print('Time elapsed Hash:', end - start)\n",
    "pd.DataFrame(sigMatHash)"
   ]
  },
  {
   "cell_type": "markdown",
   "metadata": {},
   "source": [
    "We compare the `Jaccardi Similarity` with the `Signature Matrix Similarity` of the documents."
   ]
  },
  {
   "cell_type": "code",
   "execution_count": 40,
   "metadata": {},
   "outputs": [
    {
     "data": {
      "text/html": [
       "<div>\n",
       "<style scoped>\n",
       "    .dataframe tbody tr th:only-of-type {\n",
       "        vertical-align: middle;\n",
       "    }\n",
       "\n",
       "    .dataframe tbody tr th {\n",
       "        vertical-align: top;\n",
       "    }\n",
       "\n",
       "    .dataframe thead th {\n",
       "        text-align: right;\n",
       "    }\n",
       "</style>\n",
       "<table border=\"1\" class=\"dataframe\">\n",
       "  <thead>\n",
       "    <tr style=\"text-align: right;\">\n",
       "      <th></th>\n",
       "      <th>Doc x</th>\n",
       "      <th>Doc y</th>\n",
       "      <th>Jaccardi Similarity</th>\n",
       "      <th>Signature Similarity</th>\n",
       "    </tr>\n",
       "  </thead>\n",
       "  <tbody>\n",
       "    <tr>\n",
       "      <th>0</th>\n",
       "      <td>0</td>\n",
       "      <td>1</td>\n",
       "      <td>0.36</td>\n",
       "      <td>0.33</td>\n",
       "    </tr>\n",
       "    <tr>\n",
       "      <th>1</th>\n",
       "      <td>0</td>\n",
       "      <td>2</td>\n",
       "      <td>0.21</td>\n",
       "      <td>0.17</td>\n",
       "    </tr>\n",
       "    <tr>\n",
       "      <th>2</th>\n",
       "      <td>0</td>\n",
       "      <td>3</td>\n",
       "      <td>0.21</td>\n",
       "      <td>0.20</td>\n",
       "    </tr>\n",
       "    <tr>\n",
       "      <th>3</th>\n",
       "      <td>1</td>\n",
       "      <td>2</td>\n",
       "      <td>0.19</td>\n",
       "      <td>0.19</td>\n",
       "    </tr>\n",
       "    <tr>\n",
       "      <th>4</th>\n",
       "      <td>1</td>\n",
       "      <td>3</td>\n",
       "      <td>0.19</td>\n",
       "      <td>0.18</td>\n",
       "    </tr>\n",
       "    <tr>\n",
       "      <th>5</th>\n",
       "      <td>2</td>\n",
       "      <td>3</td>\n",
       "      <td>0.19</td>\n",
       "      <td>0.26</td>\n",
       "    </tr>\n",
       "  </tbody>\n",
       "</table>\n",
       "</div>"
      ],
      "text/plain": [
       "   Doc x  Doc y  Jaccardi Similarity  Signature Similarity\n",
       "0      0      1                 0.36                  0.33\n",
       "1      0      2                 0.21                  0.17\n",
       "2      0      3                 0.21                  0.20\n",
       "3      1      2                 0.19                  0.19\n",
       "4      1      3                 0.19                  0.18\n",
       "5      2      3                 0.19                  0.26"
      ]
     },
     "execution_count": 40,
     "metadata": {},
     "output_type": "execute_result"
    }
   ],
   "source": [
    "comparer = CompareSets()\n",
    "signature_comparer = CompareSignatures()\n",
    "\n",
    "jaccardi = []\n",
    "\n",
    "for i, a in enumerate(hashed_shingles):\n",
    "    for j, b in enumerate(hashed_shingles):\n",
    "        if (a != b) and (i < j):\n",
    "            #print(\"Jaccard similarity between documents {} and {} is {}\".format(i, j, round(comparer.similarity(a, b), 2)))\n",
    "            jaccardi.append((i, j, round(comparer.similarity(a, b), 2), signature_comparer.similarity(sigMatHash[:,i], sigMatHash[:,j])))\n",
    "            #print(\"MinHash similarity between documents {} and {} is {}\".format(a, b, comparer.minhash_similarity(sigMat[a], sigMat[b])))\n",
    "\n",
    "df = pd.DataFrame(jaccardi, columns=['Doc x', 'Doc y', 'Jaccardi Similarity', 'Signature Similarity'], index=None)\n",
    "df"
   ]
  },
  {
   "cell_type": "markdown",
   "metadata": {},
   "source": [
    "The comparison is made easier to see with a heatmap"
   ]
  },
  {
   "cell_type": "code",
   "execution_count": 41,
   "metadata": {},
   "outputs": [
    {
     "data": {
      "text/plain": [
       "Text(0.5, 1.0, 'Signature Similarity')"
      ]
     },
     "execution_count": 41,
     "metadata": {},
     "output_type": "execute_result"
    },
    {
     "data": {
      "image/png": "[encoded data removed]",
      "text/plain": [
       "<Figure size 1080x432 with 4 Axes>"
      ]
     },
     "metadata": {
      "needs_background": "light"
     },
     "output_type": "display_data"
    }
   ],
   "source": [
    "import seaborn as sns\n",
    "import matplotlib.pyplot as plt\n",
    "\n",
    "table = pd.pivot_table(df, values='Jaccardi Similarity', index=['Doc x'], columns=['Doc y'])\n",
    "f, ax = plt.subplots(ncols=2, figsize=(15, 6))\n",
    "sns.heatmap(table, annot=True, linewidths=.5, ax=ax[0], cmap=\"YlGnBu\")\n",
    "\n",
    "table = pd.pivot_table(df, values='Signature Similarity', index=['Doc x'], columns=['Doc y'])\n",
    "sns.heatmap(table, annot=True, linewidths=.5, ax=ax[1], cmap=\"YlGnBu\")\n",
    "\n",
    "ax[0].set_title('Jaccardi Similarity')\n",
    "ax[1].set_title('Signature Similarity')"
   ]
  },
  {
   "cell_type": "markdown",
   "metadata": {},
   "source": [
    "`Locality Sensitive Hashing` with threshold 0.30 makes document 0 and 1 candidate pairs"
   ]
  },
  {
   "cell_type": "code",
   "execution_count": 42,
   "metadata": {},
   "outputs": [
    {
     "name": "stdout",
     "output_type": "stream",
     "text": [
      "4 documents have 1 candidate pairs\n",
      "25 bands and 4 rows per band\n",
      "Estimated similarity threshold: 0.4472135954999579\n",
      "[(0, 1)]\n"
     ]
    }
   ],
   "source": [
    "lsh = LSH()\n",
    "print(lsh.findCandidatePairs(sigMatHash, 0.30, bands=None, k=10**3))"
   ]
  }
 ],
 "metadata": {
  "kernelspec": {
   "display_name": "Python 3.8.0 64-bit",
   "language": "python",
   "name": "python3"
  },
  "language_info": {
   "codemirror_mode": {
    "name": "ipython",
    "version": 3
   },
   "file_extension": ".py",
   "mimetype": "text/x-python",
   "name": "python",
   "nbconvert_exporter": "python",
   "pygments_lexer": "ipython3",
   "version": "3.8.0"
  },
  "orig_nbformat": 4,
  "vscode": {
   "interpreter": {
    "hash": "6b75d418c9c326d7aaeaf58c1d55517f17bf57fa9a587eb451d9ce82208dc144"
   }
  }
 },
 "nbformat": 4,
 "nbformat_minor": 2
}
