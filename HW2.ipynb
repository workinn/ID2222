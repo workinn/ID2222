{
 "cells": [
  {
   "cell_type": "code",
   "execution_count": 16,
   "metadata": {},
   "outputs": [],
   "source": [
    "import numpy as np"
   ]
  },
  {
   "cell_type": "markdown",
   "metadata": {},
   "source": [
    "## Read Data"
   ]
  },
  {
   "cell_type": "code",
   "execution_count": 1,
   "metadata": {},
   "outputs": [
    {
     "data": {
      "text/plain": [
       "100000"
      ]
     },
     "execution_count": 1,
     "metadata": {},
     "output_type": "execute_result"
    }
   ],
   "source": [
    "transactionFile = open('T10I4D100K.dat', 'r')\n",
    "baskets = transactionFile.read().splitlines()\n",
    "baskets = [set(map(int, basket.split(' ')[:-1])) for basket in baskets]\n",
    "len(baskets)"
   ]
  },
  {
   "cell_type": "code",
   "execution_count": 18,
   "metadata": {},
   "outputs": [
    {
     "data": {
      "image/png": "[encoded data removed]",
      "text/plain": [
       "<Figure size 432x288 with 1 Axes>"
      ]
     },
     "metadata": {
      "needs_background": "light"
     },
     "output_type": "display_data"
    }
   ],
   "source": [
    "import matplotlib.pyplot as plt\n",
    "\n",
    "\n",
    "baskets_arr = []\n",
    "for sub_arr in baskets:\n",
    "  for e in sub_arr:\n",
    "    baskets_arr.append(e)\n",
    "\n",
    "baskets_arr\n",
    "\n",
    "plt.hist(baskets_arr, 100)\n",
    "plt.show()"
   ]
  },
  {
   "cell_type": "code",
   "execution_count": 103,
   "metadata": {},
   "outputs": [
    {
     "name": "stdout",
     "output_type": "stream",
     "text": [
      "Number of frequent 1-ton: 375\n",
      "Number of frequent 2-ton: 9\n",
      "Number of frequent 3-ton: 1\n",
      "Number of frequent 4-ton: 0\n"
     ]
    }
   ],
   "source": [
    "from itertools import combinations\n",
    "import time\n",
    "\n",
    "def getFreqSingle(transactions, threshold=0.01):\n",
    "  freq_singletons = {}\n",
    "  num_baskets = 0\n",
    "\n",
    "  for basket in transactions:\n",
    "    num_baskets += 1\n",
    "    for item in basket:\n",
    "      if frozenset([item]) in freq_singletons:\n",
    "        freq_singletons[frozenset([item])] += 1\n",
    "      else:\n",
    "        freq_singletons[frozenset([item])] = 1\n",
    "\n",
    "  freq_singletons = {key: value for key, value in freq_singletons.items() if value / num_baskets > threshold}\n",
    "  return freq_singletons\n",
    "\n",
    "\n",
    "continue_scan = True\n",
    "scan_counter = 2\n",
    "num_baskets = len(baskets)\n",
    "threshold = 0.01\n",
    "\n",
    "freqDict = {1:getFreqSingle(baskets, threshold)}\n",
    "\n",
    "print('Number of frequent 1-ton:', len(freqDict[1]))\n",
    "\n",
    "while continue_scan:\n",
    "  tempFreqDict = {}\n",
    "  prev_itemset = set(freqDict[scan_counter - 1].keys())\n",
    "\n",
    "  for basket in baskets:\n",
    "    Ct = list(set(itemset) for itemset in combinations(basket, scan_counter - 1) if {frozenset(itemset)}.issubset(prev_itemset))    \n",
    "    Ct = set(frozenset().union(*list(itemset)) for itemset in combinations(Ct, scan_counter))\n",
    "    for itemset in Ct:\n",
    "      if itemset in tempFreqDict:\n",
    "        tempFreqDict[itemset] += 1\n",
    "      else:\n",
    "        tempFreqDict[itemset] = 1\n",
    "    \n",
    "  tempFreqDict = {key: value for key, value in tempFreqDict.items() if value / num_baskets > threshold}\n",
    "  print('Number of frequent ' + str(scan_counter) + '-ton:', len(tempFreqDict))\n",
    "  if tempFreqDict:\n",
    "    freqDict[scan_counter] = tempFreqDict\n",
    "    scan_counter += 1\n",
    "  else:\n",
    "    continue_scan = False"
   ]
  },
  {
   "cell_type": "code",
   "execution_count": 98,
   "metadata": {},
   "outputs": [
    {
     "name": "stderr",
     "output_type": "stream",
     "text": [
      "100%|██████████| 100000/100000 [01:24<00:00, 1182.49it/s]"
     ]
    },
    {
     "name": "stdout",
     "output_type": "stream",
     "text": [
      "569\n",
      "569\n",
      "Errors: 0\n"
     ]
    },
    {
     "name": "stderr",
     "output_type": "stream",
     "text": [
      "\n"
     ]
    }
   ],
   "source": [
    "from tqdm import tqdm\n",
    "test = {}\n",
    "\n",
    "for i in tqdm(range(len(baskets))):\n",
    "  basket = baskets[i]\n",
    "  for itemset in set(freqDict[1].keys()):\n",
    "    all_items_present = True\n",
    "    for item in itemset:\n",
    "      if not set([item]).issubset(basket):\n",
    "        all_items_present = False\n",
    "        break\n",
    "    if all_items_present:\n",
    "      if frozenset([itemset]) in test:\n",
    "        test[frozenset([itemset])] += 1\n",
    "      else:\n",
    "        test[frozenset([itemset])] = 0\n",
    "\n",
    "errors = 0\n",
    "for key in test:\n",
    "  if test[key] / num_baskets < threshold:\n",
    "    errors += 1\n",
    "    print('ERROR:', test[key], test[key] / num_baskets)\n",
    "\n",
    "print(len(freqDict[1].keys()))\n",
    "print(len(test.keys()))\n",
    "print('Errors:', errors)"
   ]
  },
  {
   "cell_type": "code",
   "execution_count": 99,
   "metadata": {},
   "outputs": [
    {
     "name": "stderr",
     "output_type": "stream",
     "text": [
      "100%|██████████| 100000/100000 [00:48<00:00, 2042.77it/s]"
     ]
    },
    {
     "name": "stdout",
     "output_type": "stream",
     "text": [
      "339\n",
      "339\n",
      "Errors: 0\n"
     ]
    },
    {
     "name": "stderr",
     "output_type": "stream",
     "text": [
      "\n"
     ]
    }
   ],
   "source": [
    "from tqdm import tqdm\n",
    "test = {}\n",
    "\n",
    "for i in tqdm(range(len(baskets))):\n",
    "  basket = baskets[i]\n",
    "  for itemset in set(freqDict[2].keys()):\n",
    "    all_items_present = True\n",
    "    for item in itemset:\n",
    "      if not set([item]).issubset(basket):\n",
    "        all_items_present = False\n",
    "        break\n",
    "    if all_items_present:\n",
    "      if frozenset([itemset]) in test:\n",
    "        test[frozenset([itemset])] += 1\n",
    "      else:\n",
    "        test[frozenset([itemset])] = 0\n",
    "\n",
    "errors = 0\n",
    "for key in test:\n",
    "  if test[key] / num_baskets < threshold:\n",
    "    errors += 1\n",
    "    print('ERROR:', test[key], test[key] / num_baskets)\n",
    "\n",
    "print(len(freqDict[2].keys()))\n",
    "print(len(test.keys()))\n",
    "print('Errors:', errors)"
   ]
  },
  {
   "cell_type": "code",
   "execution_count": 100,
   "metadata": {},
   "outputs": [
    {
     "name": "stderr",
     "output_type": "stream",
     "text": [
      "100%|██████████| 100000/100000 [00:22<00:00, 4443.86it/s]"
     ]
    },
    {
     "name": "stdout",
     "output_type": "stream",
     "text": [
      "160\n",
      "160\n",
      "Errors: 0\n"
     ]
    },
    {
     "name": "stderr",
     "output_type": "stream",
     "text": [
      "\n"
     ]
    }
   ],
   "source": [
    "from tqdm import tqdm\n",
    "test = {}\n",
    "\n",
    "for i in tqdm(range(len(baskets))):\n",
    "  basket = baskets[i]\n",
    "  for itemset in set(freqDict[3].keys()):\n",
    "    all_items_present = True\n",
    "    for item in itemset:\n",
    "      if not set([item]).issubset(basket):\n",
    "        all_items_present = False\n",
    "        break\n",
    "    if all_items_present:\n",
    "      if frozenset([itemset]) in test:\n",
    "        test[frozenset([itemset])] += 1\n",
    "      else:\n",
    "        test[frozenset([itemset])] = 0\n",
    "\n",
    "errors = 0\n",
    "for key in test:\n",
    "  if test[key] / num_baskets < threshold:\n",
    "    errors += 1\n",
    "    # print('ERROR:', test[key], test[key] / num_baskets)\n",
    "\n",
    "print(len(freqDict[3].keys()))\n",
    "print(len(test.keys()))\n",
    "print('Errors:', errors)"
   ]
  },
  {
   "cell_type": "code",
   "execution_count": 101,
   "metadata": {},
   "outputs": [
    {
     "name": "stderr",
     "output_type": "stream",
     "text": [
      "100%|██████████| 100000/100000 [00:07<00:00, 12811.87it/s]"
     ]
    },
    {
     "name": "stdout",
     "output_type": "stream",
     "text": [
      "51\n",
      "51\n",
      "Errors: 0\n"
     ]
    },
    {
     "name": "stderr",
     "output_type": "stream",
     "text": [
      "\n"
     ]
    }
   ],
   "source": [
    "from tqdm import tqdm\n",
    "test = {}\n",
    "\n",
    "for i in tqdm(range(len(baskets))):\n",
    "  basket = baskets[i]\n",
    "  for itemset in set(freqDict[4].keys()):\n",
    "    all_items_present = True\n",
    "    for item in itemset:\n",
    "      if not set([item]).issubset(basket):\n",
    "        all_items_present = False\n",
    "        break\n",
    "    if all_items_present:\n",
    "      if frozenset([itemset]) in test:\n",
    "        test[frozenset([itemset])] += 1\n",
    "      else:\n",
    "        test[frozenset([itemset])] = 0\n",
    "\n",
    "errors = 0\n",
    "for key in test:\n",
    "  if test[key] / num_baskets < threshold:\n",
    "    errors += 1\n",
    "    # print('ERROR:', test[key], test[key] / num_baskets)\n",
    "\n",
    "print(len(freqDict[4].keys()))\n",
    "print(len(test.keys()))\n",
    "print('Errors:', errors)"
   ]
  },
  {
   "cell_type": "code",
   "execution_count": 102,
   "metadata": {},
   "outputs": [
    {
     "name": "stderr",
     "output_type": "stream",
     "text": [
      "100%|██████████| 100000/100000 [00:01<00:00, 66143.09it/s]"
     ]
    },
    {
     "name": "stdout",
     "output_type": "stream",
     "text": [
      "9\n",
      "9\n",
      "Errors: 0\n"
     ]
    },
    {
     "name": "stderr",
     "output_type": "stream",
     "text": [
      "\n"
     ]
    }
   ],
   "source": [
    "from tqdm import tqdm\n",
    "test = {}\n",
    "\n",
    "for i in tqdm(range(len(baskets))):\n",
    "  basket = baskets[i]\n",
    "  for itemset in set(freqDict[5].keys()):\n",
    "    all_items_present = True\n",
    "    for item in itemset:\n",
    "      if not set([item]).issubset(basket):\n",
    "        all_items_present = False\n",
    "        break\n",
    "    if all_items_present:\n",
    "      if frozenset([itemset]) in test:\n",
    "        test[frozenset([itemset])] += 1\n",
    "      else:\n",
    "        test[frozenset([itemset])] = 0\n",
    "\n",
    "errors = 0\n",
    "for key in test:\n",
    "  if test[key] / num_baskets < threshold:\n",
    "    errors += 1\n",
    "    # print('ERROR:', test[key], test[key] / num_baskets)\n",
    "\n",
    "print(len(freqDict[5].keys()))\n",
    "print(len(test.keys()))\n",
    "print('Errors:', errors)"
   ]
  }
 ],
 "metadata": {
  "kernelspec": {
   "display_name": "Python 3.8.0 64-bit",
   "language": "python",
   "name": "python3"
  },
  "language_info": {
   "codemirror_mode": {
    "name": "ipython",
    "version": 3
   },
   "file_extension": ".py",
   "mimetype": "text/x-python",
   "name": "python",
   "nbconvert_exporter": "python",
   "pygments_lexer": "ipython3",
   "version": "3.8.0"
  },
  "orig_nbformat": 4,
  "vscode": {
   "interpreter": {
    "hash": "6b75d418c9c326d7aaeaf58c1d55517f17bf57fa9a587eb451d9ce82208dc144"
   }
  }
 },
 "nbformat": 4,
 "nbformat_minor": 2
}
