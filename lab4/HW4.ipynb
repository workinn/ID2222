{
 "cells": [
  {
   "cell_type": "markdown",
   "metadata": {},
   "source": [
    "# Preparations"
   ]
  },
  {
   "cell_type": "markdown",
   "metadata": {},
   "source": [
    "### Imports"
   ]
  },
  {
   "cell_type": "code",
   "execution_count": 1,
   "metadata": {},
   "outputs": [],
   "source": [
    "import numpy as np\n",
    "from numpy.linalg import inv\n",
    "from scipy.linalg import sqrtm, eigh\n",
    "import pandas as pd"
   ]
  },
  {
   "cell_type": "markdown",
   "metadata": {},
   "source": [
    "### Read Data"
   ]
  },
  {
   "cell_type": "code",
   "execution_count": 6,
   "metadata": {},
   "outputs": [
    {
     "data": {
      "text/plain": [
       "array([[  0,   1],\n",
       "       [  0,   2],\n",
       "       [  0,   3],\n",
       "       ...,\n",
       "       [215, 234],\n",
       "       [212, 234],\n",
       "       [240, 234]])"
      ]
     },
     "execution_count": 6,
     "metadata": {},
     "output_type": "execute_result"
    }
   ],
   "source": [
    "example1 = './data/example1.dat'\n",
    "test = './data/test.dat'\n",
    "\n",
    "counter = 1\n",
    "with open(example1) as file:\n",
    "  lines = [line.rstrip().split(',') for line in file]\n",
    "\n",
    "lines = np.array(lines, dtype=int) - 1\n",
    "lines"
   ]
  },
  {
   "cell_type": "markdown",
   "metadata": {},
   "source": [
    "# K-eigenvector Algorithm"
   ]
  },
  {
   "cell_type": "markdown",
   "metadata": {},
   "source": [
    "## 1. Form Affinity Matrix A\n",
    "\n",
    "Affinity Matrix is another word for Adjacency Matrix if I understand it correctly? https://math.stackexchange.com/questions/3275579/the-similarity-matrix-of-graph-laplacian-matrix-has-different-names-whats-the"
   ]
  },
  {
   "cell_type": "code",
   "execution_count": 7,
   "metadata": {},
   "outputs": [
    {
     "data": {
      "text/plain": [
       "array([[0., 1., 1., ..., 0., 0., 0.],\n",
       "       [1., 0., 0., ..., 0., 0., 0.],\n",
       "       [1., 0., 0., ..., 0., 0., 0.],\n",
       "       ...,\n",
       "       [0., 0., 0., ..., 0., 0., 0.],\n",
       "       [0., 0., 0., ..., 0., 0., 0.],\n",
       "       [0., 0., 0., ..., 0., 0., 0.]])"
      ]
     },
     "execution_count": 7,
     "metadata": {},
     "output_type": "execute_result"
    }
   ],
   "source": [
    "maxID = lines.max()\n",
    "\n",
    "A = np.zeros(shape=(maxID + 1, maxID + 1))\n",
    "\n",
    "for edge in lines:\n",
    "  fromNode = edge[0]\n",
    "  toNode = edge[1]\n",
    "\n",
    "  A[fromNode][toNode] = 1\n",
    "\n",
    "A"
   ]
  },
  {
   "cell_type": "markdown",
   "metadata": {},
   "source": [
    "## 2. Construct Laplacian Matrix L\n",
    "\n",
    "Hopefully I constructed Normalized Laplacian Matrix correctly :))))    \n",
    "\n",
    "Please double check :')"
   ]
  },
  {
   "cell_type": "code",
   "execution_count": 14,
   "metadata": {},
   "outputs": [
    {
     "name": "stdout",
     "output_type": "stream",
     "text": [
      "[[0. 1. 1. ... 0. 0. 0.]\n",
      " [1. 0. 0. ... 0. 0. 0.]\n",
      " [1. 0. 0. ... 0. 0. 0.]\n",
      " ...\n",
      " [0. 0. 0. ... 0. 0. 0.]\n",
      " [0. 0. 0. ... 0. 0. 0.]\n",
      " [0. 0. 0. ... 0. 0. 0.]]\n"
     ]
    }
   ],
   "source": []
  },
  {
   "cell_type": "code",
   "execution_count": 12,
   "metadata": {},
   "outputs": [
    {
     "name": "stdout",
     "output_type": "stream",
     "text": [
      "[[7. 0. 0. ... 0. 0. 0.]\n",
      " [0. 8. 0. ... 0. 0. 0.]\n",
      " [0. 0. 9. ... 0. 0. 0.]\n",
      " ...\n",
      " [0. 0. 0. ... 2. 0. 0.]\n",
      " [0. 0. 0. ... 0. 5. 0.]\n",
      " [0. 0. 0. ... 0. 0. 2.]]\n"
     ]
    },
    {
     "data": {
      "text/plain": [
       "True"
      ]
     },
     "execution_count": 12,
     "metadata": {},
     "output_type": "execute_result"
    }
   ],
   "source": [
    "D = np.diag(A.sum(axis=1))\n",
    "print(D)\n",
    "L = ((sqrtm(inv(D))).dot(A)).dot(sqrtm(inv(D)))\n",
    "\n",
    "def check_symmetric(a, rtol=1e-05, atol=1e-08):\n",
    "    return np.allclose(a, a.T, rtol=rtol, atol=atol)\n",
    "\n",
    "check_symmetric(L)"
   ]
  },
  {
   "cell_type": "markdown",
   "metadata": {},
   "source": [
    "## 3. Form Matrix X of the k largest eigenvectors of L\n",
    "\n",
    "Eigenvectors are returned in the right form: each column is one eigenvector if I understand it correctly. I have not chosen \"orthogonal\" vectors if eigenvalues are repeated -> `TODO`!  \n",
    "\n",
    "Also, what in the world do they mean with \"find the k `largest` eigenvectors\"? Is it the eigenvectors corresponding to the largest eigenvalues, as I have picked now?"
   ]
  },
  {
   "cell_type": "code",
   "execution_count": 41,
   "metadata": {},
   "outputs": [
    {
     "data": {
      "text/plain": [
       "array([[ 0.        ,  0.        ,  0.        , -0.0867576 ,  0.        ,\n",
       "         0.        ],\n",
       "       [ 0.        ,  0.        ,  0.        , -0.09274778,  0.        ,\n",
       "         0.        ],\n",
       "       [ 0.        ,  0.        ,  0.        , -0.09837388,  0.        ,\n",
       "         0.        ],\n",
       "       ...,\n",
       "       [-0.28481427,  0.        ,  0.        ,  0.        , -0.08543577,\n",
       "         0.        ],\n",
       "       [ 0.04531353,  0.        ,  0.        ,  0.        , -0.13508581,\n",
       "         0.        ],\n",
       "       [ 0.00518985,  0.        ,  0.        ,  0.        , -0.08543577,\n",
       "         0.        ]])"
      ]
     },
     "execution_count": 41,
     "metadata": {},
     "output_type": "execute_result"
    }
   ],
   "source": [
    "k = 5\n",
    "eigenVals, eigenVecs = eigh(L, eigvals=(len(L) - k - 1, len(L) - 1))\n",
    "X = eigenVecs\n",
    "X"
   ]
  },
  {
   "cell_type": "markdown",
   "metadata": {},
   "source": [
    "## 4. Form Matrix Y by renormalizing X\n",
    "\n",
    "I belive the `normalizationFactor` is calculated correctly, but should be double checked!"
   ]
  },
  {
   "cell_type": "code",
   "execution_count": 39,
   "metadata": {},
   "outputs": [
    {
     "data": {
      "text/plain": [
       "241"
      ]
     },
     "execution_count": 39,
     "metadata": {},
     "output_type": "execute_result"
    }
   ],
   "source": [
    "Y = np.zeros(shape=X.shape)\n",
    "for i in range(Y.shape[0]):\n",
    "  renomalizationFactor = np.sqrt(np.sum(np.square(X[i])))\n",
    "  for j in range(Y.shape[1]):\n",
    "    Y[i][j] = X[i][j] / renomalizationFactor\n",
    "\n",
    "len(Y)"
   ]
  },
  {
   "cell_type": "markdown",
   "metadata": {},
   "source": [
    "## 5. Run K-means clustering algorithm on Y\n",
    "\n",
    "K-means returns 241 (same number as #nodes) assigned colors. Each color `colors[i]` is meant to be assigned to `node[i]` if I understand it correctly."
   ]
  },
  {
   "cell_type": "code",
   "execution_count": 47,
   "metadata": {},
   "outputs": [
    {
     "name": "stdout",
     "output_type": "stream",
     "text": [
      "Clusters: [1 1 1 1 1 1 1 1 1 1 1 1 1 1 1 1 1 1 1 1 1 1 1 1 1 1 1 1 1 1 1 1 1 1 1 1 1\n",
      " 1 1 1 1 1 1 1 1 1 1 1 1 1 1 1 1 1 1 1 1 1 1 1 1 1 1 1 1 1 1 1 1 1 1 1 1 1\n",
      " 1 1 1 1 1 1 1 1 1 1 1 1 1 1 1 1 1 1 1 1 1 1 1 1 1 1 1 1 1 1 1 1 1 1 1 1 1\n",
      " 1 1 1 1 1 1 2 2 2 2 2 2 2 2 2 2 2 2 2 2 2 2 2 2 2 2 2 2 2 2 2 2 2 2 2 2 2\n",
      " 2 2 2 2 2 2 2 2 2 2 2 2 2 2 2 2 2 3 3 3 3 3 3 3 3 3 3 3 3 3 3 3 3 3 3 3 3\n",
      " 3 3 3 3 3 3 3 3 3 3 3 3 3 3 3 3 3 3 3 3 3 0 0 0 0 0 0 0 0 4 0 0 0 0 0 0 0\n",
      " 0 0 0 0 0 0 0 4 4 4 0 0 0 4 4 4 4 0 0]\n"
     ]
    }
   ],
   "source": [
    "from sklearn.cluster import KMeans\n",
    "\n",
    "kmeans = KMeans(n_clusters=k)\n",
    "kmeans.fit(Y)\n",
    "\n",
    "colors = kmeans.labels_\n",
    "\n",
    "print(\"Clusters:\", colors)"
   ]
  },
  {
   "cell_type": "markdown",
   "metadata": {},
   "source": [
    "## 6. Assign original points to clusters\n",
    "\n",
    "What to do here? :))"
   ]
  }
 ],
 "metadata": {
  "kernelspec": {
   "display_name": "Python 3.8.9 64-bit",
   "language": "python",
   "name": "python3"
  },
  "language_info": {
   "codemirror_mode": {
    "name": "ipython",
    "version": 3
   },
   "file_extension": ".py",
   "mimetype": "text/x-python",
   "name": "python",
   "nbconvert_exporter": "python",
   "pygments_lexer": "ipython3",
   "version": "3.8.9"
  },
  "orig_nbformat": 4,
  "vscode": {
   "interpreter": {
    "hash": "31f2aee4e71d21fbe5cf8b01ff0e069b9275f58929596ceb00d14d90e3e16cd6"
   }
  }
 },
 "nbformat": 4,
 "nbformat_minor": 2
}
