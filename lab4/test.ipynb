{
 "cells": [
  {
   "cell_type": "code",
   "execution_count": 1,
   "metadata": {},
   "outputs": [],
   "source": [
    "import numpy as np\n",
    "from sklearn.preprocessing import StandardScaler\n",
    "import scipy.sparse.linalg as sps_linalg\n",
    "\n",
    "import numpy as np\n",
    "from numpy.linalg import inv\n",
    "from scipy.linalg import sqrtm, eigh\n",
    "import networkx as nx\n",
    "import matplotlib.pyplot as plt"
   ]
  },
  {
   "cell_type": "code",
   "execution_count": 137,
   "metadata": {},
   "outputs": [
    {
     "data": {
      "text/plain": [
       "array([[  0,   1],\n",
       "       [  0,   2],\n",
       "       [  0,   3],\n",
       "       ...,\n",
       "       [215, 234],\n",
       "       [212, 234],\n",
       "       [240, 234]])"
      ]
     },
     "execution_count": 137,
     "metadata": {},
     "output_type": "execute_result"
    }
   ],
   "source": [
    "example1 = './data/example1.dat'\n",
    "test = './data/test.dat'\n",
    "\n",
    "with open(example1) as file:\n",
    "  lines = [line.rstrip().split(',') for line in file]\n",
    "\n",
    "# lines.append([6,11])\n",
    "# lines.append([6,7])\n",
    "# lines.append([7,8])\n",
    "# lines.append([8,9])\n",
    "# lines.append([9,10])\n",
    "# lines.append([10,7])\n",
    "# lines.append([11,12])\n",
    "# lines.append([6,12])\n",
    "# lines.append([5,12])\n",
    "lines = np.array(lines, dtype=int) - 1\n",
    "lines"
   ]
  },
  {
   "cell_type": "code",
   "execution_count": 138,
   "metadata": {},
   "outputs": [
    {
     "data": {
      "image/png": "[encoded data removed]",
      "text/plain": [
       "<Figure size 432x288 with 1 Axes>"
      ]
     },
     "metadata": {},
     "output_type": "display_data"
    }
   ],
   "source": [
    "g = nx.Graph()\n",
    "\n",
    "for edge in lines:\n",
    "  g.add_edge(edge[0], edge[1])\n",
    "\n",
    "# Drawing the graph\n",
    "nx.draw(g)\n",
    "plt.show()"
   ]
  },
  {
   "cell_type": "code",
   "execution_count": 139,
   "metadata": {},
   "outputs": [
    {
     "data": {
      "text/plain": [
       "array([[0., 1., 1., ..., 0., 0., 0.],\n",
       "       [1., 0., 0., ..., 0., 0., 0.],\n",
       "       [1., 0., 0., ..., 0., 0., 0.],\n",
       "       ...,\n",
       "       [0., 0., 0., ..., 0., 0., 0.],\n",
       "       [0., 0., 0., ..., 0., 0., 0.],\n",
       "       [0., 0., 0., ..., 0., 0., 0.]])"
      ]
     },
     "execution_count": 139,
     "metadata": {},
     "output_type": "execute_result"
    }
   ],
   "source": [
    "# col1 = lines[:,0]\n",
    "# col2 = lines[:,1]\n",
    "maxID = lines.max()\n",
    "maxID\n",
    "\n",
    "A = np.zeros(shape=(maxID + 1, maxID + 1))\n",
    "\n",
    "for edge in lines:\n",
    "  fromNode = edge[0]\n",
    "  toNode = edge[1]\n",
    "\n",
    "  A[fromNode][toNode] = 1\n",
    "  A[toNode][fromNode] = 1\n",
    "\n",
    "A"
   ]
  },
  {
   "cell_type": "code",
   "execution_count": 141,
   "metadata": {},
   "outputs": [
    {
     "name": "stdout",
     "output_type": "stream",
     "text": [
      "[-5.36845247e+00 -4.99107051e+00 -4.85630233e+00 -4.75926944e+00\n",
      " -4.60609409e+00 -4.58001515e+00 -4.52692452e+00 -4.33751448e+00\n",
      " -4.27764887e+00 -4.20710906e+00 -4.10196724e+00 -4.06885247e+00\n",
      " -4.01498598e+00 -3.98378679e+00 -3.87545358e+00 -3.82120533e+00\n",
      " -3.70871255e+00 -3.69357057e+00 -3.60139182e+00 -3.56267845e+00\n",
      " -3.48316709e+00 -3.47576905e+00 -3.46010469e+00 -3.43321240e+00\n",
      " -3.39765043e+00 -3.31906105e+00 -3.21071378e+00 -3.20636894e+00\n",
      " -3.14944691e+00 -3.12241886e+00 -3.02921781e+00 -3.00940203e+00\n",
      " -2.95636107e+00 -2.89934230e+00 -2.89886324e+00 -2.83294596e+00\n",
      " -2.77378364e+00 -2.72628548e+00 -2.71622957e+00 -2.64766313e+00\n",
      " -2.62022370e+00 -2.59052426e+00 -2.55350452e+00 -2.51409198e+00\n",
      " -2.47320097e+00 -2.46515694e+00 -2.46310319e+00 -2.44194464e+00\n",
      " -2.40459423e+00 -2.38893547e+00 -2.32178115e+00 -2.25694464e+00\n",
      " -2.17020135e+00 -2.12709734e+00 -2.12680413e+00 -2.09058685e+00\n",
      " -2.06042540e+00 -1.99873950e+00 -1.99315646e+00 -1.94073928e+00\n",
      " -1.90848573e+00 -1.85580766e+00 -1.82909330e+00 -1.82085219e+00\n",
      " -1.78578798e+00 -1.76206267e+00 -1.75321697e+00 -1.70598212e+00\n",
      " -1.69152274e+00 -1.67391919e+00 -1.66607770e+00 -1.56903083e+00\n",
      " -1.56409349e+00 -1.54385816e+00 -1.52000681e+00 -1.48212512e+00\n",
      " -1.46783128e+00 -1.43750778e+00 -1.43559147e+00 -1.42666132e+00\n",
      " -1.34316379e+00 -1.25876344e+00 -1.24522619e+00 -1.24449627e+00\n",
      " -1.20060372e+00 -1.15059904e+00 -1.12274817e+00 -1.05400445e+00\n",
      " -1.04045360e+00 -1.03420584e+00 -1.02135422e+00 -1.01876733e+00\n",
      " -1.00000000e+00 -1.00000000e+00 -9.95311231e-01 -9.57008791e-01\n",
      " -9.21530162e-01 -9.15317363e-01 -8.48019372e-01 -8.36584203e-01\n",
      " -8.09555316e-01 -7.90033523e-01 -7.70358268e-01 -7.64924515e-01\n",
      " -7.37572642e-01 -7.07234324e-01 -6.85489686e-01 -6.52410506e-01\n",
      " -6.19410195e-01 -5.89185833e-01 -5.89073524e-01 -5.58682714e-01\n",
      " -5.46187632e-01 -5.40800221e-01 -4.56903656e-01 -3.93280851e-01\n",
      " -3.75412667e-01 -3.49607683e-01 -3.36889966e-01 -3.28123346e-01\n",
      " -3.24066371e-01 -3.06445167e-01 -2.67139517e-01 -1.91125188e-01\n",
      " -1.84206476e-01 -1.52802590e-01 -1.06317492e-01 -6.58743323e-02\n",
      " -5.38880714e-02 -1.51946234e-02 -7.33450354e-04 -6.91049854e-17\n",
      "  4.54867871e-03  2.96930381e-02  9.20182120e-02  1.34546091e-01\n",
      "  1.46207324e-01  1.73223607e-01  1.73380164e-01  2.50183786e-01\n",
      "  2.78685994e-01  3.40764038e-01  3.97961267e-01  4.06933145e-01\n",
      "  4.24920425e-01  4.59569867e-01  5.28763404e-01  5.30919010e-01\n",
      "  5.54843420e-01  5.64219346e-01  5.67154358e-01  6.03059489e-01\n",
      "  6.68988143e-01  7.27393769e-01  7.27640213e-01  7.51676873e-01\n",
      "  7.74876692e-01  8.81073073e-01  8.91074702e-01  9.46113081e-01\n",
      "  9.50131276e-01  9.51255178e-01  1.05787416e+00  1.12169683e+00\n",
      "  1.14699797e+00  1.18165808e+00  1.19082548e+00  1.21389658e+00\n",
      "  1.28349235e+00  1.28964783e+00  1.31466065e+00  1.34378678e+00\n",
      "  1.36247601e+00  1.40352901e+00  1.42947456e+00  1.43417519e+00\n",
      "  1.48170154e+00  1.49982337e+00  1.52196723e+00  1.53317250e+00\n",
      "  1.63082698e+00  1.64356792e+00  1.65883096e+00  1.67282714e+00\n",
      "  1.71812151e+00  1.77720187e+00  1.79343739e+00  1.83340162e+00\n",
      "  1.95158198e+00  1.96336359e+00  2.03062770e+00  2.03898682e+00\n",
      "  2.08903838e+00  2.14781233e+00  2.18011194e+00  2.23925511e+00\n",
      "  2.34152674e+00  2.36382283e+00  2.37987073e+00  2.39821242e+00\n",
      "  2.48932786e+00  2.51095602e+00  2.51492666e+00  2.58138639e+00\n",
      "  2.66124213e+00  2.71064281e+00  2.71918199e+00  2.76686531e+00\n",
      "  2.92638602e+00  3.01386792e+00  3.01416082e+00  3.07467500e+00\n",
      "  3.12675358e+00  3.28198129e+00  3.35927710e+00  3.37134191e+00\n",
      "  3.55222229e+00  3.60099326e+00  3.60665031e+00  3.73020708e+00\n",
      "  3.76487880e+00  3.76643856e+00  3.82123584e+00  3.91002068e+00\n",
      "  3.93621248e+00  4.09540221e+00  4.32318510e+00  4.58617216e+00\n",
      "  4.76850103e+00  4.96163327e+00  5.07833114e+00  5.09924492e+00\n",
      "  5.29428632e+00  5.55345917e+00  6.00367943e+00  6.19746766e+00\n",
      "  7.30763087e+00  8.21252128e+00  1.00204226e+01  1.00604828e+01\n",
      "  1.01000194e+01]\n",
      "241\n"
     ]
    },
    {
     "data": {
      "image/png": "[encoded data removed]",
      "text/plain": [
       "<Figure size 432x288 with 1 Axes>"
      ]
     },
     "metadata": {
      "needs_background": "light"
     },
     "output_type": "display_data"
    }
   ],
   "source": [
    "# eigenvalues and eigenvectors\n",
    "eigenVals, eigenVecs = np.linalg.eig(A)\n",
    "\n",
    "# sort these based on the eigenvalues\n",
    "eigenVecs = eigenVecs[:,np.argsort(eigenVals)]\n",
    "eigenVals = eigenVals[np.argsort(eigenVals)]\n",
    "print(eigenVals)\n",
    "print(len(eigenVecs))\n",
    "\n",
    "plt.plot(range(len(eigenVals)), eigenVals)\n",
    "plt.show()"
   ]
  },
  {
   "cell_type": "markdown",
   "metadata": {},
   "source": [
    "## Graph Laplacian"
   ]
  },
  {
   "cell_type": "code",
   "execution_count": 142,
   "metadata": {},
   "outputs": [
    {
     "data": {
      "text/plain": [
       "array([[0.14285714, 0.        , 0.        , ..., 0.        , 0.        ,\n",
       "        0.        ],\n",
       "       [0.        , 0.125     , 0.        , ..., 0.        , 0.        ,\n",
       "        0.        ],\n",
       "       [0.        , 0.        , 0.11111111, ..., 0.        , 0.        ,\n",
       "        0.        ],\n",
       "       ...,\n",
       "       [0.        , 0.        , 0.        , ..., 0.5       , 0.        ,\n",
       "        0.        ],\n",
       "       [0.        , 0.        , 0.        , ..., 0.        , 0.2       ,\n",
       "        0.        ],\n",
       "       [0.        , 0.        , 0.        , ..., 0.        , 0.        ,\n",
       "        0.5       ]])"
      ]
     },
     "execution_count": 142,
     "metadata": {},
     "output_type": "execute_result"
    }
   ],
   "source": [
    "D = np.diag(A.sum(axis=1))\n",
    "D_norm = np.diag(1/A.sum(axis=1))\n",
    "L = D-A\n",
    "L\n",
    "D\n",
    "D_norm"
   ]
  },
  {
   "attachments": {},
   "cell_type": "markdown",
   "metadata": {},
   "source": [
    "## Transition Matrix"
   ]
  },
  {
   "cell_type": "code",
   "execution_count": 130,
   "metadata": {},
   "outputs": [
    {
     "data": {
      "text/plain": [
       "array([[0.        , 0.5       , 0.5       , 0.        , 0.        ,\n",
       "        0.        , 0.        , 0.        , 0.        , 0.        ,\n",
       "        0.        , 0.        ],\n",
       "       [0.33333333, 0.        , 0.33333333, 0.33333333, 0.        ,\n",
       "        0.        , 0.        , 0.        , 0.        , 0.        ,\n",
       "        0.        , 0.        ],\n",
       "       [0.5       , 0.5       , 0.        , 0.        , 0.        ,\n",
       "        0.        , 0.        , 0.        , 0.        , 0.        ,\n",
       "        0.        , 0.        ],\n",
       "       [0.        , 0.33333333, 0.        , 0.        , 0.33333333,\n",
       "        0.33333333, 0.        , 0.        , 0.        , 0.        ,\n",
       "        0.        , 0.        ],\n",
       "       [0.        , 0.        , 0.        , 0.33333333, 0.        ,\n",
       "        0.33333333, 0.        , 0.        , 0.        , 0.        ,\n",
       "        0.        , 0.33333333],\n",
       "       [0.        , 0.        , 0.        , 0.2       , 0.2       ,\n",
       "        0.        , 0.2       , 0.        , 0.        , 0.        ,\n",
       "        0.2       , 0.2       ],\n",
       "       [0.        , 0.        , 0.        , 0.        , 0.        ,\n",
       "        0.33333333, 0.        , 0.33333333, 0.        , 0.33333333,\n",
       "        0.        , 0.        ],\n",
       "       [0.        , 0.        , 0.        , 0.        , 0.        ,\n",
       "        0.        , 0.5       , 0.        , 0.5       , 0.        ,\n",
       "        0.        , 0.        ],\n",
       "       [0.        , 0.        , 0.        , 0.        , 0.        ,\n",
       "        0.        , 0.        , 0.5       , 0.        , 0.5       ,\n",
       "        0.        , 0.        ],\n",
       "       [0.        , 0.        , 0.        , 0.        , 0.        ,\n",
       "        0.        , 0.5       , 0.        , 0.5       , 0.        ,\n",
       "        0.        , 0.        ],\n",
       "       [0.        , 0.        , 0.        , 0.        , 0.        ,\n",
       "        0.5       , 0.        , 0.        , 0.        , 0.        ,\n",
       "        0.        , 0.5       ],\n",
       "       [0.        , 0.        , 0.        , 0.        , 0.33333333,\n",
       "        0.33333333, 0.        , 0.        , 0.        , 0.        ,\n",
       "        0.33333333, 0.        ]])"
      ]
     },
     "execution_count": 130,
     "metadata": {},
     "output_type": "execute_result"
    }
   ],
   "source": [
    "# L = D - A\n",
    "# M = D_norm x A (transition matrxi)\n",
    "\n",
    "\n",
    "M = np.dot(D_norm, A)\n",
    "M"
   ]
  },
  {
   "attachments": {},
   "cell_type": "markdown",
   "metadata": {},
   "source": [
    "## Power Iteration"
   ]
  },
  {
   "cell_type": "code",
   "execution_count": 12,
   "metadata": {},
   "outputs": [
    {
     "name": "stdout",
     "output_type": "stream",
     "text": [
      "[[0. ]\n",
      " [0. ]\n",
      " [0. ]\n",
      " [0.5]\n",
      " [0. ]\n",
      " [0.5]]\n",
      "[[0. ]\n",
      " [0.2]\n",
      " [0. ]\n",
      " [0.2]\n",
      " [0.4]\n",
      " [0.2]]\n",
      "[[0.08333333]\n",
      " [0.08333333]\n",
      " [0.08333333]\n",
      " [0.33333333]\n",
      " [0.16666667]\n",
      " [0.25      ]]\n",
      "[[0.06896552]\n",
      " [0.20689655]\n",
      " [0.06896552]\n",
      " [0.20689655]\n",
      " [0.24137931]\n",
      " [0.20689655]]\n",
      "[[0.11428571]\n",
      " [0.14285714]\n",
      " [0.11428571]\n",
      " [0.27142857]\n",
      " [0.17142857]\n",
      " [0.18571429]]\n",
      "[[0.10650888]\n",
      " [0.20710059]\n",
      " [0.10650888]\n",
      " [0.20710059]\n",
      " [0.18934911]\n",
      " [0.18343195]]\n",
      "[[0.12990196]\n",
      " [0.17401961]\n",
      " [0.12990196]\n",
      " [0.24019608]\n",
      " [0.16176471]\n",
      " [0.16421569]]\n",
      "[[0.12588832]\n",
      " [0.2071066 ]\n",
      " [0.12588832]\n",
      " [0.2071066 ]\n",
      " [0.16751269]\n",
      " [0.16649746]]\n",
      "[[0.13793103]\n",
      " [0.19007569]\n",
      " [0.13793103]\n",
      " [0.22413793]\n",
      " [0.15475189]\n",
      " [0.15517241]]\n",
      "[[0.13586483]\n",
      " [0.20710678]\n",
      " [0.13586483]\n",
      " [0.20710678]\n",
      " [0.15711549]\n",
      " [0.1569413 ]]\n",
      "[[0.14206349]\n",
      " [0.19834055]\n",
      " [0.14206349]\n",
      " [0.21587302]\n",
      " [0.15079365]\n",
      " [0.1508658 ]]\n",
      "[[0.14099997]\n",
      " [0.20710678]\n",
      " [0.14099997]\n",
      " [0.20710678]\n",
      " [0.15190819]\n",
      " [0.15187831]]\n",
      "[[0.14419054]\n",
      " [0.20259464]\n",
      " [0.14419054]\n",
      " [0.21161893]\n",
      " [0.14869649]\n",
      " [0.14870887]]\n",
      "[[0.14364312]\n",
      " [0.20710678]\n",
      " [0.14364312]\n",
      " [0.20710678]\n",
      " [0.14925266]\n",
      " [0.14924753]]\n",
      "[[0.14528537]\n",
      " [0.2047843 ]\n",
      " [0.14528537]\n",
      " [0.20942927]\n",
      " [0.14760679]\n",
      " [0.14760891]]\n",
      "[[0.1450036 ]\n",
      " [0.20710678]\n",
      " [0.1450036 ]\n",
      " [0.20710678]\n",
      " [0.14789006]\n",
      " [0.14788918]]\n",
      "[[0.1458489 ]\n",
      " [0.20591136]\n",
      " [0.1458489 ]\n",
      " [0.20830221]\n",
      " [0.14704414]\n",
      " [0.1470445 ]]\n",
      "[[0.14570387]\n",
      " [0.20710678]\n",
      " [0.14570387]\n",
      " [0.20710678]\n",
      " [0.14718943]\n",
      " [0.14718928]]\n",
      "[[0.14613896]\n",
      " [0.20649147]\n",
      " [0.14613896]\n",
      " [0.20772209]\n",
      " [0.14675423]\n",
      " [0.14675429]]\n",
      "[[0.14606431]\n",
      " [0.20710678]\n",
      " [0.14606431]\n",
      " [0.20710678]\n",
      " [0.14682893]\n",
      " [0.1468289 ]]\n"
     ]
    }
   ],
   "source": [
    "v = np.zeros(shape=(maxID + 1, 1))\n",
    "v[4] = 1\n",
    "v\n",
    "\n",
    "X = A.copy()\n",
    "\n",
    "for i in range(20):\n",
    "  v = np.dot(X, v)\n",
    "  v = v/np.sum(v)\n",
    "  print(v)"
   ]
  },
  {
   "cell_type": "code",
   "execution_count": 131,
   "metadata": {},
   "outputs": [
    {
     "name": "stdout",
     "output_type": "stream",
     "text": [
      "[-9.33164749e-01 -6.42703602e-01 -5.40933169e-01 -5.00000000e-01\n",
      " -3.37033234e-01 -1.30920672e-01  8.08698010e-18  7.14603529e-02\n",
      "  2.63444207e-01  8.30408465e-01  9.19442402e-01  1.00000000e+00]\n",
      "12\n"
     ]
    },
    {
     "data": {
      "image/png": "[encoded data removed]",
      "text/plain": [
       "<Figure size 432x288 with 1 Axes>"
      ]
     },
     "metadata": {
      "needs_background": "light"
     },
     "output_type": "display_data"
    }
   ],
   "source": [
    "# eigenvalues and eigenvectors\n",
    "eigenVals, eigenVecs = np.linalg.eig(M)\n",
    "\n",
    "# sort these based on the eigenvalues\n",
    "eigenVecs = eigenVecs[:,np.argsort(eigenVals)]\n",
    "eigenVals = eigenVals[np.argsort(eigenVals)]\n",
    "print(eigenVals)\n",
    "print(len(eigenVecs))\n",
    "plt.plot(range(len(eigenVals)), eigenVals, linestyle='--', marker='o')\n",
    "plt.show()"
   ]
  },
  {
   "cell_type": "markdown",
   "metadata": {},
   "source": [
    "## Eigenvalues"
   ]
  },
  {
   "cell_type": "code",
   "execution_count": 132,
   "metadata": {},
   "outputs": [
    {
     "name": "stdout",
     "output_type": "stream",
     "text": [
      "[-2.78902778e-17  1.78599902e-01  4.28269806e-01  1.86009957e+00\n",
      "  2.00000000e+00  2.39641215e+00  3.00000000e+00  3.00000000e+00\n",
      "  4.00000000e+00  4.18287032e+00  4.73754302e+00  6.21620523e+00]\n",
      "12\n"
     ]
    },
    {
     "data": {
      "image/png": "[encoded data removed]",
      "text/plain": [
       "<Figure size 432x288 with 1 Axes>"
      ]
     },
     "metadata": {
      "needs_background": "light"
     },
     "output_type": "display_data"
    }
   ],
   "source": [
    "# eigenvalues and eigenvectors\n",
    "eigenVals, eigenVecs = np.linalg.eig(L)\n",
    "\n",
    "# sort these based on the eigenvalues\n",
    "eigenVecs = eigenVecs[:,np.argsort(eigenVals)]\n",
    "eigenVals = eigenVals[np.argsort(eigenVals)]\n",
    "print(eigenVals)\n",
    "print(len(eigenVecs))\n",
    "plt.plot(range(len(eigenVals)), eigenVals, linestyle='--', marker='o')\n",
    "plt.show()"
   ]
  },
  {
   "cell_type": "code",
   "execution_count": 133,
   "metadata": {},
   "outputs": [
    {
     "data": {
      "image/png": "[encoded data removed]",
      "text/plain": [
       "<Figure size 432x288 with 1 Axes>"
      ]
     },
     "metadata": {
      "needs_background": "light"
     },
     "output_type": "display_data"
    },
    {
     "data": {
      "image/png": "[encoded data removed]",
      "text/plain": [
       "<Figure size 432x288 with 1 Axes>"
      ]
     },
     "metadata": {
      "needs_background": "light"
     },
     "output_type": "display_data"
    }
   ],
   "source": [
    "plot = eigenVecs[:,1]\n",
    "plt.plot(range(len(plot)), plot, linestyle='--', marker='o')\n",
    "plt.show()\n",
    "\n",
    "plot = eigenVecs[:,2]\n",
    "plt.plot(range(len(plot)), plot, linestyle='--', marker='o')\n",
    "plt.show()"
   ]
  },
  {
   "cell_type": "code",
   "execution_count": 134,
   "metadata": {},
   "outputs": [
    {
     "name": "stdout",
     "output_type": "stream",
     "text": [
      "1\n"
     ]
    },
    {
     "data": {
      "image/png": "[encoded data removed]",
      "text/plain": [
       "<Figure size 432x288 with 1 Axes>"
      ]
     },
     "metadata": {
      "needs_background": "light"
     },
     "output_type": "display_data"
    },
    {
     "name": "stdout",
     "output_type": "stream",
     "text": [
      "[-0.42808832 -0.35163179 -0.42808832 -0.13591732 -0.04663315  0.0147878\n",
      "  0.26190327  0.36207306  0.39757663  0.36207306  0.00238637 -0.01044126]\n"
     ]
    }
   ],
   "source": [
    "fiedlerIndex = 0\n",
    "\n",
    "for i in range(len(eigenVals)):\n",
    "  if eigenVals[i] > 0:\n",
    "    fiedlerIndex = i\n",
    "    break\n",
    "\n",
    "print(fiedlerIndex)\n",
    "\n",
    "import matplotlib.pyplot as plt\n",
    "\n",
    "fiedlerVector = eigenVecs[:,1]\n",
    "\n",
    "xpoints = range(0, len(A))\n",
    "ypoints = np.sort(fiedlerVector)\n",
    "\n",
    "plt.plot(xpoints, ypoints, linestyle='--', marker='o')\n",
    "plt.show()\n",
    "print(eigenVecs[:,1])"
   ]
  },
  {
   "cell_type": "markdown",
   "metadata": {},
   "source": [
    "## Random Article\n",
    "\n",
    "https://towardsdatascience.com/spectral-clustering-aba2640c0d5b"
   ]
  },
  {
   "cell_type": "code",
   "execution_count": 363,
   "metadata": {},
   "outputs": [
    {
     "data": {
      "image/png": "[encoded data removed]",
      "text/plain": [
       "<Figure size 432x288 with 1 Axes>"
      ]
     },
     "metadata": {
      "needs_background": "light"
     },
     "output_type": "display_data"
    }
   ],
   "source": [
    "# Adjacency Matrix:\n",
    "A =  np.array([[0, 1, 1, 0, 0, 1, 0, 0, 1, 1],\n",
    "              [1, 0, 1, 0, 0, 0, 0, 0, 0, 0],\n",
    "              [1, 1, 0, 0, 0, 0, 0, 0, 0, 0],\n",
    "              [0, 0, 0, 0, 1, 1, 0, 0, 0, 0],\n",
    "              [0, 0, 0, 1, 0, 1, 0, 0, 0, 0],\n",
    "              [1, 0, 0, 1, 1, 0, 1, 1, 0, 0],\n",
    "              [0, 0, 0, 0, 0, 1, 0, 1, 0, 0],\n",
    "              [0, 0, 0, 0, 0, 1, 1, 0, 0, 0],\n",
    "              [1, 0, 0, 0, 0, 0, 0, 0, 0, 1],\n",
    "              [1, 0, 0, 0, 0, 0, 0, 0, 1, 0]])\n",
    "\n",
    "# diagonal matrix\n",
    "D = np.diag(A.sum(axis=1))\n",
    "\n",
    "# graph laplacian\n",
    "L = D-A\n",
    "\n",
    "# eigenvalues and eigenvectors\n",
    "vals, vecs = np.linalg.eig(L)\n",
    "\n",
    "# sort these based on the eigenvalues\n",
    "vecs = vecs[:,np.argsort(vals)]\n",
    "vals = vals[np.argsort(vals)]\n",
    "\n",
    "import matplotlib.pyplot as plt\n",
    "\n",
    "xpoints = range(0, 10)\n",
    "ypoints = (vecs[1])\n",
    "\n",
    "plt.plot(xpoints, ypoints)\n",
    "plt.show()"
   ]
  }
 ],
 "metadata": {
  "kernelspec": {
   "display_name": "Python 3.8.0 64-bit",
   "language": "python",
   "name": "python3"
  },
  "language_info": {
   "codemirror_mode": {
    "name": "ipython",
    "version": 3
   },
   "file_extension": ".py",
   "mimetype": "text/x-python",
   "name": "python",
   "nbconvert_exporter": "python",
   "pygments_lexer": "ipython3",
   "version": "3.8.0 (tags/v3.8.0:fa919fd, Oct 14 2019, 19:37:50) [MSC v.1916 64 bit (AMD64)]"
  },
  "orig_nbformat": 4,
  "vscode": {
   "interpreter": {
    "hash": "6b75d418c9c326d7aaeaf58c1d55517f17bf57fa9a587eb451d9ce82208dc144"
   }
  }
 },
 "nbformat": 4,
 "nbformat_minor": 2
}
