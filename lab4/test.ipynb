{
 "cells": [
  {
   "cell_type": "code",
   "execution_count": 364,
   "metadata": {},
   "outputs": [],
   "source": [
    "import numpy as np\n",
    "from sklearn.preprocessing import StandardScaler\n",
    "import scipy.sparse.linalg as sps_linalg"
   ]
  },
  {
   "cell_type": "code",
   "execution_count": 365,
   "metadata": {},
   "outputs": [
    {
     "data": {
      "text/plain": [
       "array([[  0,   1],\n",
       "       [  0,   2],\n",
       "       [  0,   3],\n",
       "       ...,\n",
       "       [215, 234],\n",
       "       [212, 234],\n",
       "       [240, 234]])"
      ]
     },
     "execution_count": 365,
     "metadata": {},
     "output_type": "execute_result"
    }
   ],
   "source": [
    "example1 = './data/example1.dat'\n",
    "test = './data/test.dat'\n",
    "\n",
    "with open(example1) as file:\n",
    "  lines = [line.rstrip().split(',') for line in file]\n",
    "\n",
    "lines = np.array(lines, dtype=int) - 1\n",
    "lines"
   ]
  },
  {
   "cell_type": "code",
   "execution_count": 366,
   "metadata": {},
   "outputs": [
    {
     "data": {
      "text/plain": [
       "array([[0., 1., 1., ..., 0., 0., 0.],\n",
       "       [1., 0., 0., ..., 0., 0., 0.],\n",
       "       [1., 0., 0., ..., 0., 0., 0.],\n",
       "       ...,\n",
       "       [0., 0., 0., ..., 0., 0., 0.],\n",
       "       [0., 0., 0., ..., 0., 0., 0.],\n",
       "       [0., 0., 0., ..., 0., 0., 0.]])"
      ]
     },
     "execution_count": 366,
     "metadata": {},
     "output_type": "execute_result"
    }
   ],
   "source": [
    "# col1 = lines[:,0]\n",
    "# col2 = lines[:,1]\n",
    "maxID = lines.max()\n",
    "maxID\n",
    "\n",
    "A = np.zeros(shape=(maxID + 1, maxID + 1))\n",
    "\n",
    "for edge in lines:\n",
    "  fromNode = edge[0]\n",
    "  toNode = edge[1]\n",
    "\n",
    "  A[fromNode][toNode] = 1\n",
    "  # A[toNode][fromNode] = 1\n",
    "\n",
    "A"
   ]
  },
  {
   "cell_type": "markdown",
   "metadata": {},
   "source": [
    "## Graph Laplacian"
   ]
  },
  {
   "cell_type": "code",
   "execution_count": 367,
   "metadata": {},
   "outputs": [
    {
     "data": {
      "text/plain": [
       "array([[ 7., -1., -1., ...,  0.,  0.,  0.],\n",
       "       [-1.,  8.,  0., ...,  0.,  0.,  0.],\n",
       "       [-1.,  0.,  9., ...,  0.,  0.,  0.],\n",
       "       ...,\n",
       "       [ 0.,  0.,  0., ...,  2.,  0.,  0.],\n",
       "       [ 0.,  0.,  0., ...,  0.,  5.,  0.],\n",
       "       [ 0.,  0.,  0., ...,  0.,  0.,  2.]])"
      ]
     },
     "execution_count": 367,
     "metadata": {},
     "output_type": "execute_result"
    }
   ],
   "source": [
    "D = np.diag(A.sum(axis=1))\n",
    "L = D-A\n",
    "L"
   ]
  },
  {
   "cell_type": "markdown",
   "metadata": {},
   "source": [
    "## Transition Matrix?"
   ]
  },
  {
   "cell_type": "code",
   "execution_count": 368,
   "metadata": {},
   "outputs": [
    {
     "data": {
      "text/plain": [
       "array([[0.        , 0.14285714, 0.14285714, ..., 0.        , 0.        ,\n",
       "        0.        ],\n",
       "       [0.125     , 0.        , 0.        , ..., 0.        , 0.        ,\n",
       "        0.        ],\n",
       "       [0.11111111, 0.        , 0.        , ..., 0.        , 0.        ,\n",
       "        0.        ],\n",
       "       ...,\n",
       "       [0.        , 0.        , 0.        , ..., 0.        , 0.        ,\n",
       "        0.        ],\n",
       "       [0.        , 0.        , 0.        , ..., 0.        , 0.        ,\n",
       "        0.        ],\n",
       "       [0.        , 0.        , 0.        , ..., 0.        , 0.        ,\n",
       "        0.        ]])"
      ]
     },
     "execution_count": 368,
     "metadata": {},
     "output_type": "execute_result"
    }
   ],
   "source": [
    "T = np.zeros(shape=A.shape)\n",
    "\n",
    "for i in range(len(A)):\n",
    "  T[i] = A[i] / np.sum(A[i])\n",
    "\n",
    "T"
   ]
  },
  {
   "cell_type": "markdown",
   "metadata": {},
   "source": [
    "## Covariance Matrix?"
   ]
  },
  {
   "cell_type": "code",
   "execution_count": 369,
   "metadata": {},
   "outputs": [
    {
     "data": {
      "text/plain": [
       "array([[ 2.83195021e-02, -9.68188105e-04, -1.08921162e-03, ...,\n",
       "        -2.42047026e-04, -6.05117566e-04, -2.42047026e-04],\n",
       "       [-9.68188105e-04,  3.22268326e-02,  1.54218534e-02, ...,\n",
       "        -2.76625173e-04, -6.91562932e-04, -2.76625173e-04],\n",
       "       [-1.08921162e-03,  1.54218534e-02,  3.60995851e-02, ...,\n",
       "        -3.11203320e-04, -7.78008299e-04, -3.11203320e-04],\n",
       "       ...,\n",
       "       [-2.42047026e-04, -2.76625173e-04, -3.11203320e-04, ...,\n",
       "         8.26417704e-03, -1.72890733e-04, -6.91562932e-05],\n",
       "       [-6.05117566e-04, -6.91562932e-04, -7.78008299e-04, ...,\n",
       "        -1.72890733e-04,  2.04011065e-02,  3.99377593e-03],\n",
       "       [-2.42047026e-04, -2.76625173e-04, -3.11203320e-04, ...,\n",
       "        -6.91562932e-05,  3.99377593e-03,  8.26417704e-03]])"
      ]
     },
     "execution_count": 369,
     "metadata": {},
     "output_type": "execute_result"
    }
   ],
   "source": [
    "ACovMat = np.cov(A.T)\n",
    "ACovMat"
   ]
  },
  {
   "cell_type": "markdown",
   "metadata": {},
   "source": [
    "## Eigenvalues"
   ]
  },
  {
   "cell_type": "code",
   "execution_count": 370,
   "metadata": {},
   "outputs": [],
   "source": [
    "# eigenvalues and eigenvectors\n",
    "eigenVals, eigenVecs = np.linalg.eig(L)\n",
    "\n",
    "# sort these based on the eigenvalues\n",
    "eigenVecs = eigenVecs[:,np.argsort(eigenVals)]\n",
    "eigenVals = eigenVals[np.argsort(eigenVals)]"
   ]
  },
  {
   "cell_type": "code",
   "execution_count": 371,
   "metadata": {},
   "outputs": [
    {
     "name": "stdout",
     "output_type": "stream",
     "text": [
      "[-1.13845379e-14 -1.13734050e-15  0.00000000e+00  6.72896273e-16\n",
      "  4.26173719e-01  8.07341776e-01  1.11104607e+00  1.34777269e+00\n",
      "  1.42400923e+00  1.49149550e+00  1.53452230e+00  1.54298987e+00\n",
      "  1.57501491e+00  1.57730133e+00  1.62534276e+00  1.67127565e+00\n",
      "  1.73607807e+00  1.75254112e+00  1.77737310e+00  1.85224595e+00\n",
      "  2.01500333e+00  2.03647388e+00  2.17153387e+00  2.17192167e+00\n",
      "  2.37454464e+00  2.37524254e+00  2.38002269e+00  2.38947987e+00\n",
      "  2.46271582e+00  2.51228018e+00  2.55783206e+00  2.61176844e+00\n",
      "  2.61253474e+00  2.64421075e+00  2.67751455e+00  2.86363193e+00\n",
      "  2.88172143e+00  2.89820606e+00  2.92030468e+00  3.00000000e+00\n",
      "  3.06876544e+00  3.14123718e+00  3.21968665e+00  3.29926717e+00\n",
      "  3.36860397e+00  3.44115523e+00  3.46443123e+00  3.51684829e+00\n",
      "  3.57241768e+00  3.59479689e+00  3.62854319e+00  3.64870651e+00\n",
      "  3.70468907e+00  3.75333722e+00  3.78428899e+00  3.88387617e+00\n",
      "  3.99192324e+00  3.99752197e+00  4.00000000e+00  4.01009897e+00\n",
      "  4.02163457e+00  4.15976697e+00  4.16955468e+00  4.26050168e+00\n",
      "  4.30489313e+00  4.31578510e+00  4.34361358e+00  4.34651790e+00\n",
      "  4.38176803e+00  4.44978047e+00  4.49125942e+00  4.54076998e+00\n",
      "  4.54817486e+00  4.59655414e+00  4.65411666e+00  4.68877868e+00\n",
      "  4.76841319e+00  4.83972411e+00  4.91794805e+00  4.97814299e+00\n",
      "  5.00000000e+00  5.01237272e+00  5.01701120e+00  5.08557034e+00\n",
      "  5.11573455e+00  5.17026434e+00  5.19148169e+00  5.22075832e+00\n",
      "  5.25881202e+00  5.26385299e+00  5.27385185e+00  5.29910009e+00\n",
      "  5.34324405e+00  5.40419124e+00  5.52102872e+00  5.61697549e+00\n",
      "  5.67504104e+00  5.70615352e+00  5.71070580e+00  5.85302162e+00\n",
      "  5.88313641e+00  5.90318019e+00  5.90491243e+00  5.94534855e+00\n",
      "  5.99109827e+00  6.09394330e+00  6.11705814e+00  6.11880832e+00\n",
      "  6.19168862e+00  6.21775003e+00  6.35022620e+00  6.37193121e+00\n",
      "  6.37735388e+00  6.47016562e+00  6.52117825e+00  6.58392631e+00\n",
      "  6.60790005e+00  6.77990800e+00  6.79315108e+00  6.84705164e+00\n",
      "  6.86887033e+00  6.91121946e+00  6.94157639e+00  6.98353662e+00\n",
      "  7.02618272e+00  7.06547489e+00  7.09962586e+00  7.25803807e+00\n",
      "  7.26125777e+00  7.29353588e+00  7.40284919e+00  7.52604382e+00\n",
      "  7.53664073e+00  7.54036981e+00  7.57287501e+00  7.64745639e+00\n",
      "  7.76041001e+00  7.83521208e+00  7.97800963e+00  7.99566841e+00\n",
      "  8.08600400e+00  8.15169181e+00  8.21446753e+00  8.22017396e+00\n",
      "  8.25588229e+00  8.28491760e+00  8.38674852e+00  8.43720858e+00\n",
      "  8.46464414e+00  8.49220225e+00  8.56058668e+00  8.58923686e+00\n",
      "  8.70889962e+00  8.89404008e+00  8.90427530e+00  8.96239128e+00\n",
      "  8.99369559e+00  9.02471499e+00  9.07445579e+00  9.12739582e+00\n",
      "  9.16851157e+00  9.19196061e+00  9.31167111e+00  9.35150912e+00\n",
      "  9.41378321e+00  9.55749794e+00  9.57151888e+00  9.58381751e+00\n",
      "  9.74478956e+00  9.75278016e+00  9.75692157e+00  9.81070030e+00\n",
      "  9.84748242e+00  9.90560654e+00  1.00943929e+01  1.01523490e+01\n",
      "  1.02104824e+01  1.03129109e+01  1.03181746e+01  1.04219464e+01\n",
      "  1.04602616e+01  1.04700002e+01  1.04807405e+01  1.07505423e+01\n",
      "  1.07563127e+01  1.08817379e+01  1.09503038e+01  1.10189770e+01\n",
      "  1.10258609e+01  1.10259653e+01  1.10372458e+01  1.12414759e+01\n",
      "  1.12674290e+01  1.12712842e+01  1.13479616e+01  1.13562345e+01\n",
      "  1.16181699e+01  1.16849991e+01  1.18176304e+01  1.19257973e+01\n",
      "  1.19778655e+01  1.20718186e+01  1.20829962e+01  1.22728180e+01\n",
      "  1.23076822e+01  1.24239761e+01  1.25896843e+01  1.26549804e+01\n",
      "  1.28322088e+01  1.30899268e+01  1.31057560e+01  1.31589508e+01\n",
      "  1.31886805e+01  1.33733388e+01  1.35668063e+01  1.36454830e+01\n",
      "  1.36819255e+01  1.36937765e+01  1.41108786e+01  1.45925622e+01\n",
      "  1.46786325e+01  1.48195206e+01  1.49158703e+01  1.51834523e+01\n",
      "  1.54387123e+01  1.55383278e+01  1.58428927e+01  1.59629579e+01\n",
      "  1.62709399e+01  1.63828105e+01  1.65644434e+01  1.66066673e+01\n",
      "  1.74121398e+01  1.81320539e+01  1.85313257e+01  1.90208801e+01\n",
      "  1.92698531e+01  1.96170966e+01  2.32543581e+01  2.73262698e+01\n",
      "  2.91162093e+01]\n",
      "[[-0.09245003  0.          0.         ...  0.          0.00071936\n",
      "   0.        ]\n",
      " [-0.09245003  0.          0.         ...  0.         -0.00681594\n",
      "   0.        ]\n",
      " [-0.09245003  0.          0.         ...  0.         -0.00273301\n",
      "   0.        ]\n",
      " ...\n",
      " [ 0.          0.          0.16903085 ...  0.          0.\n",
      "   0.        ]\n",
      " [ 0.          0.          0.16903085 ...  0.          0.\n",
      "   0.        ]\n",
      " [ 0.          0.          0.16903085 ...  0.          0.\n",
      "   0.        ]]\n"
     ]
    }
   ],
   "source": [
    "print(eigenVals)\n",
    "print(eigenVecs)"
   ]
  },
  {
   "cell_type": "code",
   "execution_count": 379,
   "metadata": {},
   "outputs": [
    {
     "name": "stdout",
     "output_type": "stream",
     "text": [
      "3\n"
     ]
    },
    {
     "data": {
      "image/png": "[encoded data removed]",
      "text/plain": [
       "<Figure size 432x288 with 1 Axes>"
      ]
     },
     "metadata": {
      "needs_background": "light"
     },
     "output_type": "display_data"
    }
   ],
   "source": [
    "fiedlerIndex = 0\n",
    "\n",
    "for i in range(len(eigenVals)):\n",
    "  if eigenVals[i] > 0:\n",
    "    fiedlerIndex = i\n",
    "    break\n",
    "\n",
    "print(fiedlerIndex)\n",
    "\n",
    "import matplotlib.pyplot as plt\n",
    "\n",
    "fiedlerVector = eigenVecs[1]\n",
    "\n",
    "xpoints = range(0, maxID + 1)\n",
    "ypoints = np.sort(fiedlerVector)\n",
    "\n",
    "plt.plot(xpoints, ypoints)\n",
    "plt.show()\n"
   ]
  },
  {
   "cell_type": "markdown",
   "metadata": {},
   "source": [
    "## Random Article\n",
    "\n",
    "https://towardsdatascience.com/spectral-clustering-aba2640c0d5b"
   ]
  },
  {
   "cell_type": "code",
   "execution_count": 363,
   "metadata": {},
   "outputs": [
    {
     "data": {
      "image/png": "[encoded data removed]",
      "text/plain": [
       "<Figure size 432x288 with 1 Axes>"
      ]
     },
     "metadata": {
      "needs_background": "light"
     },
     "output_type": "display_data"
    }
   ],
   "source": [
    "# Adjacency Matrix:\n",
    "A =  np.array([[0, 1, 1, 0, 0, 1, 0, 0, 1, 1],\n",
    "              [1, 0, 1, 0, 0, 0, 0, 0, 0, 0],\n",
    "              [1, 1, 0, 0, 0, 0, 0, 0, 0, 0],\n",
    "              [0, 0, 0, 0, 1, 1, 0, 0, 0, 0],\n",
    "              [0, 0, 0, 1, 0, 1, 0, 0, 0, 0],\n",
    "              [1, 0, 0, 1, 1, 0, 1, 1, 0, 0],\n",
    "              [0, 0, 0, 0, 0, 1, 0, 1, 0, 0],\n",
    "              [0, 0, 0, 0, 0, 1, 1, 0, 0, 0],\n",
    "              [1, 0, 0, 0, 0, 0, 0, 0, 0, 1],\n",
    "              [1, 0, 0, 0, 0, 0, 0, 0, 1, 0]])\n",
    "\n",
    "# diagonal matrix\n",
    "D = np.diag(A.sum(axis=1))\n",
    "\n",
    "# graph laplacian\n",
    "L = D-A\n",
    "\n",
    "# eigenvalues and eigenvectors\n",
    "vals, vecs = np.linalg.eig(L)\n",
    "\n",
    "# sort these based on the eigenvalues\n",
    "vecs = vecs[:,np.argsort(vals)]\n",
    "vals = vals[np.argsort(vals)]\n",
    "\n",
    "import matplotlib.pyplot as plt\n",
    "\n",
    "xpoints = range(0, 10)\n",
    "ypoints = (vecs[1])\n",
    "\n",
    "plt.plot(xpoints, ypoints)\n",
    "plt.show()"
   ]
  }
 ],
 "metadata": {
  "kernelspec": {
   "display_name": "Python 3.8.0 64-bit",
   "language": "python",
   "name": "python3"
  },
  "language_info": {
   "codemirror_mode": {
    "name": "ipython",
    "version": 3
   },
   "file_extension": ".py",
   "mimetype": "text/x-python",
   "name": "python",
   "nbconvert_exporter": "python",
   "pygments_lexer": "ipython3",
   "version": "3.8.0"
  },
  "orig_nbformat": 4,
  "vscode": {
   "interpreter": {
    "hash": "6b75d418c9c326d7aaeaf58c1d55517f17bf57fa9a587eb451d9ce82208dc144"
   }
  }
 },
 "nbformat": 4,
 "nbformat_minor": 2
}
