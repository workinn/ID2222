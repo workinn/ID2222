{
 "cells": [
  {
   "cell_type": "code",
   "execution_count": 364,
   "metadata": {},
   "outputs": [],
   "source": [
    "import numpy as np\n",
    "from sklearn.preprocessing import StandardScaler\n",
    "import scipy.sparse.linalg as sps_linalg"
   ]
  },
  {
   "cell_type": "code",
   "execution_count": 421,
   "metadata": {},
   "outputs": [
    {
     "data": {
      "text/plain": [
       "array([[  0,   1],\n",
       "       [  0,   2],\n",
       "       [  0,   3],\n",
       "       ...,\n",
       "       [215, 234],\n",
       "       [212, 234],\n",
       "       [240, 234]])"
      ]
     },
     "execution_count": 421,
     "metadata": {},
     "output_type": "execute_result"
    }
   ],
   "source": [
    "example1 = './data/example1.dat'\n",
    "test = './data/test.dat'\n",
    "\n",
    "with open(example1) as file:\n",
    "  lines = [line.rstrip().split(',') for line in file]\n",
    "\n",
    "lines = np.array(lines, dtype=int) - 1\n",
    "lines"
   ]
  },
  {
   "cell_type": "code",
   "execution_count": 390,
   "metadata": {},
   "outputs": [
    {
     "data": {
      "text/plain": [
       "array([[1., 1., 1., ..., 0., 0., 0.],\n",
       "       [1., 1., 1., ..., 0., 0., 0.],\n",
       "       [1., 1., 1., ..., 0., 0., 0.],\n",
       "       ...,\n",
       "       [0., 0., 0., ..., 1., 1., 1.],\n",
       "       [0., 0., 0., ..., 1., 1., 1.],\n",
       "       [0., 0., 0., ..., 1., 1., 1.]])"
      ]
     },
     "execution_count": 390,
     "metadata": {},
     "output_type": "execute_result"
    }
   ],
   "source": [
    "A = np.zeros(shape=(1000,1000))\n",
    "for i in range(1000):\n",
    "  for j in range(1000):\n",
    "    if i < 500 and j < 500:\n",
    "      A[i][j] = 1\n",
    "    elif i >= 500 and j >= 500:\n",
    "      A[i][j] = 1\n",
    "\n",
    "A"
   ]
  },
  {
   "cell_type": "code",
   "execution_count": 422,
   "metadata": {},
   "outputs": [
    {
     "data": {
      "text/plain": [
       "array([[0., 1., 1., ..., 0., 0., 0.],\n",
       "       [1., 0., 0., ..., 0., 0., 0.],\n",
       "       [1., 0., 0., ..., 0., 0., 0.],\n",
       "       ...,\n",
       "       [0., 0., 0., ..., 0., 0., 0.],\n",
       "       [0., 0., 0., ..., 0., 0., 0.],\n",
       "       [0., 0., 0., ..., 0., 0., 0.]])"
      ]
     },
     "execution_count": 422,
     "metadata": {},
     "output_type": "execute_result"
    }
   ],
   "source": [
    "# col1 = lines[:,0]\n",
    "# col2 = lines[:,1]\n",
    "maxID = lines.max()\n",
    "maxID\n",
    "\n",
    "A = np.zeros(shape=(maxID + 1, maxID + 1))\n",
    "\n",
    "for edge in lines:\n",
    "  fromNode = edge[0]\n",
    "  toNode = edge[1]\n",
    "\n",
    "  A[fromNode][toNode] = 1\n",
    "  # A[toNode][fromNode] = 1\n",
    "\n",
    "A"
   ]
  },
  {
   "cell_type": "markdown",
   "metadata": {},
   "source": [
    "## Graph Laplacian"
   ]
  },
  {
   "cell_type": "code",
   "execution_count": 423,
   "metadata": {},
   "outputs": [
    {
     "data": {
      "text/plain": [
       "array([[ 7., -1., -1., ...,  0.,  0.,  0.],\n",
       "       [-1.,  8.,  0., ...,  0.,  0.,  0.],\n",
       "       [-1.,  0.,  9., ...,  0.,  0.,  0.],\n",
       "       ...,\n",
       "       [ 0.,  0.,  0., ...,  2.,  0.,  0.],\n",
       "       [ 0.,  0.,  0., ...,  0.,  5.,  0.],\n",
       "       [ 0.,  0.,  0., ...,  0.,  0.,  2.]])"
      ]
     },
     "execution_count": 423,
     "metadata": {},
     "output_type": "execute_result"
    }
   ],
   "source": [
    "D = np.diag(A.sum(axis=1))\n",
    "L = D-A\n",
    "L"
   ]
  },
  {
   "cell_type": "markdown",
   "metadata": {},
   "source": [
    "## Transition Matrix?"
   ]
  },
  {
   "cell_type": "code",
   "execution_count": 368,
   "metadata": {},
   "outputs": [
    {
     "data": {
      "text/plain": [
       "array([[0.        , 0.14285714, 0.14285714, ..., 0.        , 0.        ,\n",
       "        0.        ],\n",
       "       [0.125     , 0.        , 0.        , ..., 0.        , 0.        ,\n",
       "        0.        ],\n",
       "       [0.11111111, 0.        , 0.        , ..., 0.        , 0.        ,\n",
       "        0.        ],\n",
       "       ...,\n",
       "       [0.        , 0.        , 0.        , ..., 0.        , 0.        ,\n",
       "        0.        ],\n",
       "       [0.        , 0.        , 0.        , ..., 0.        , 0.        ,\n",
       "        0.        ],\n",
       "       [0.        , 0.        , 0.        , ..., 0.        , 0.        ,\n",
       "        0.        ]])"
      ]
     },
     "execution_count": 368,
     "metadata": {},
     "output_type": "execute_result"
    }
   ],
   "source": [
    "T = np.zeros(shape=A.shape)\n",
    "\n",
    "for i in range(len(A)):\n",
    "  T[i] = A[i] / np.sum(A[i])\n",
    "\n",
    "T"
   ]
  },
  {
   "cell_type": "markdown",
   "metadata": {},
   "source": [
    "## Covariance Matrix?"
   ]
  },
  {
   "cell_type": "code",
   "execution_count": 381,
   "metadata": {},
   "outputs": [
    {
     "data": {
      "text/plain": [
       "array([[ 2.83195021e-02, -9.68188105e-04, -1.08921162e-03, ...,\n",
       "        -2.42047026e-04, -6.05117566e-04, -2.42047026e-04],\n",
       "       [-9.68188105e-04,  3.22268326e-02,  1.54218534e-02, ...,\n",
       "        -2.76625173e-04, -6.91562932e-04, -2.76625173e-04],\n",
       "       [-1.08921162e-03,  1.54218534e-02,  3.60995851e-02, ...,\n",
       "        -3.11203320e-04, -7.78008299e-04, -3.11203320e-04],\n",
       "       ...,\n",
       "       [-2.42047026e-04, -2.76625173e-04, -3.11203320e-04, ...,\n",
       "         8.26417704e-03, -1.72890733e-04, -6.91562932e-05],\n",
       "       [-6.05117566e-04, -6.91562932e-04, -7.78008299e-04, ...,\n",
       "        -1.72890733e-04,  2.04011065e-02,  3.99377593e-03],\n",
       "       [-2.42047026e-04, -2.76625173e-04, -3.11203320e-04, ...,\n",
       "        -6.91562932e-05,  3.99377593e-03,  8.26417704e-03]])"
      ]
     },
     "execution_count": 381,
     "metadata": {},
     "output_type": "execute_result"
    }
   ],
   "source": [
    "ACovMat = np.cov(A.T)\n",
    "ACovMat"
   ]
  },
  {
   "cell_type": "markdown",
   "metadata": {},
   "source": [
    "## Eigenvalues"
   ]
  },
  {
   "cell_type": "code",
   "execution_count": 424,
   "metadata": {},
   "outputs": [],
   "source": [
    "# eigenvalues and eigenvectors\n",
    "eigenVals, eigenVecs = np.linalg.eigh(L)\n",
    "\n",
    "# sort these based on the eigenvalues\n",
    "eigenVecs = eigenVecs[:,np.argsort(eigenVals)]\n",
    "eigenVals = eigenVals[np.argsort(eigenVals)]"
   ]
  },
  {
   "cell_type": "code",
   "execution_count": 418,
   "metadata": {},
   "outputs": [
    {
     "name": "stdout",
     "output_type": "stream",
     "text": [
      "[3.33066907e-13 4.99600214e-13 5.00000000e+02 5.00000000e+02\n",
      " 5.00000000e+02 5.00000000e+02 5.00000000e+02 5.00000000e+02\n",
      " 5.00000000e+02 5.00000000e+02 5.00000000e+02 5.00000000e+02\n",
      " 5.00000000e+02 5.00000000e+02 5.00000000e+02 5.00000000e+02\n",
      " 5.00000000e+02 5.00000000e+02 5.00000000e+02 5.00000000e+02\n",
      " 5.00000000e+02 5.00000000e+02 5.00000000e+02 5.00000000e+02\n",
      " 5.00000000e+02 5.00000000e+02 5.00000000e+02 5.00000000e+02\n",
      " 5.00000000e+02 5.00000000e+02 5.00000000e+02 5.00000000e+02\n",
      " 5.00000000e+02 5.00000000e+02 5.00000000e+02 5.00000000e+02\n",
      " 5.00000000e+02 5.00000000e+02 5.00000000e+02 5.00000000e+02\n",
      " 5.00000000e+02 5.00000000e+02 5.00000000e+02 5.00000000e+02\n",
      " 5.00000000e+02 5.00000000e+02 5.00000000e+02 5.00000000e+02\n",
      " 5.00000000e+02 5.00000000e+02 5.00000000e+02 5.00000000e+02\n",
      " 5.00000000e+02 5.00000000e+02 5.00000000e+02 5.00000000e+02\n",
      " 5.00000000e+02 5.00000000e+02 5.00000000e+02 5.00000000e+02\n",
      " 5.00000000e+02 5.00000000e+02 5.00000000e+02 5.00000000e+02\n",
      " 5.00000000e+02 5.00000000e+02 5.00000000e+02 5.00000000e+02\n",
      " 5.00000000e+02 5.00000000e+02 5.00000000e+02 5.00000000e+02\n",
      " 5.00000000e+02 5.00000000e+02 5.00000000e+02 5.00000000e+02\n",
      " 5.00000000e+02 5.00000000e+02 5.00000000e+02 5.00000000e+02\n",
      " 5.00000000e+02 5.00000000e+02 5.00000000e+02 5.00000000e+02\n",
      " 5.00000000e+02 5.00000000e+02 5.00000000e+02 5.00000000e+02\n",
      " 5.00000000e+02 5.00000000e+02 5.00000000e+02 5.00000000e+02\n",
      " 5.00000000e+02 5.00000000e+02 5.00000000e+02 5.00000000e+02\n",
      " 5.00000000e+02 5.00000000e+02 5.00000000e+02 5.00000000e+02\n",
      " 5.00000000e+02 5.00000000e+02 5.00000000e+02 5.00000000e+02\n",
      " 5.00000000e+02 5.00000000e+02 5.00000000e+02 5.00000000e+02\n",
      " 5.00000000e+02 5.00000000e+02 5.00000000e+02 5.00000000e+02\n",
      " 5.00000000e+02 5.00000000e+02 5.00000000e+02 5.00000000e+02\n",
      " 5.00000000e+02 5.00000000e+02 5.00000000e+02 5.00000000e+02\n",
      " 5.00000000e+02 5.00000000e+02 5.00000000e+02 5.00000000e+02\n",
      " 5.00000000e+02 5.00000000e+02 5.00000000e+02 5.00000000e+02\n",
      " 5.00000000e+02 5.00000000e+02 5.00000000e+02 5.00000000e+02\n",
      " 5.00000000e+02 5.00000000e+02 5.00000000e+02 5.00000000e+02\n",
      " 5.00000000e+02 5.00000000e+02 5.00000000e+02 5.00000000e+02\n",
      " 5.00000000e+02 5.00000000e+02 5.00000000e+02 5.00000000e+02\n",
      " 5.00000000e+02 5.00000000e+02 5.00000000e+02 5.00000000e+02\n",
      " 5.00000000e+02 5.00000000e+02 5.00000000e+02 5.00000000e+02\n",
      " 5.00000000e+02 5.00000000e+02 5.00000000e+02 5.00000000e+02\n",
      " 5.00000000e+02 5.00000000e+02 5.00000000e+02 5.00000000e+02\n",
      " 5.00000000e+02 5.00000000e+02 5.00000000e+02 5.00000000e+02\n",
      " 5.00000000e+02 5.00000000e+02 5.00000000e+02 5.00000000e+02\n",
      " 5.00000000e+02 5.00000000e+02 5.00000000e+02 5.00000000e+02\n",
      " 5.00000000e+02 5.00000000e+02 5.00000000e+02 5.00000000e+02\n",
      " 5.00000000e+02 5.00000000e+02 5.00000000e+02 5.00000000e+02\n",
      " 5.00000000e+02 5.00000000e+02 5.00000000e+02 5.00000000e+02\n",
      " 5.00000000e+02 5.00000000e+02 5.00000000e+02 5.00000000e+02\n",
      " 5.00000000e+02 5.00000000e+02 5.00000000e+02 5.00000000e+02\n",
      " 5.00000000e+02 5.00000000e+02 5.00000000e+02 5.00000000e+02\n",
      " 5.00000000e+02 5.00000000e+02 5.00000000e+02 5.00000000e+02\n",
      " 5.00000000e+02 5.00000000e+02 5.00000000e+02 5.00000000e+02\n",
      " 5.00000000e+02 5.00000000e+02 5.00000000e+02 5.00000000e+02\n",
      " 5.00000000e+02 5.00000000e+02 5.00000000e+02 5.00000000e+02\n",
      " 5.00000000e+02 5.00000000e+02 5.00000000e+02 5.00000000e+02\n",
      " 5.00000000e+02 5.00000000e+02 5.00000000e+02 5.00000000e+02\n",
      " 5.00000000e+02 5.00000000e+02 5.00000000e+02 5.00000000e+02\n",
      " 5.00000000e+02 5.00000000e+02 5.00000000e+02 5.00000000e+02\n",
      " 5.00000000e+02 5.00000000e+02 5.00000000e+02 5.00000000e+02\n",
      " 5.00000000e+02 5.00000000e+02 5.00000000e+02 5.00000000e+02\n",
      " 5.00000000e+02 5.00000000e+02 5.00000000e+02 5.00000000e+02\n",
      " 5.00000000e+02 5.00000000e+02 5.00000000e+02 5.00000000e+02\n",
      " 5.00000000e+02 5.00000000e+02 5.00000000e+02 5.00000000e+02\n",
      " 5.00000000e+02 5.00000000e+02 5.00000000e+02 5.00000000e+02\n",
      " 5.00000000e+02 5.00000000e+02 5.00000000e+02 5.00000000e+02\n",
      " 5.00000000e+02 5.00000000e+02 5.00000000e+02 5.00000000e+02\n",
      " 5.00000000e+02 5.00000000e+02 5.00000000e+02 5.00000000e+02\n",
      " 5.00000000e+02 5.00000000e+02 5.00000000e+02 5.00000000e+02\n",
      " 5.00000000e+02 5.00000000e+02 5.00000000e+02 5.00000000e+02\n",
      " 5.00000000e+02 5.00000000e+02 5.00000000e+02 5.00000000e+02\n",
      " 5.00000000e+02 5.00000000e+02 5.00000000e+02 5.00000000e+02\n",
      " 5.00000000e+02 5.00000000e+02 5.00000000e+02 5.00000000e+02\n",
      " 5.00000000e+02 5.00000000e+02 5.00000000e+02 5.00000000e+02\n",
      " 5.00000000e+02 5.00000000e+02 5.00000000e+02 5.00000000e+02\n",
      " 5.00000000e+02 5.00000000e+02 5.00000000e+02 5.00000000e+02\n",
      " 5.00000000e+02 5.00000000e+02 5.00000000e+02 5.00000000e+02\n",
      " 5.00000000e+02 5.00000000e+02 5.00000000e+02 5.00000000e+02\n",
      " 5.00000000e+02 5.00000000e+02 5.00000000e+02 5.00000000e+02\n",
      " 5.00000000e+02 5.00000000e+02 5.00000000e+02 5.00000000e+02\n",
      " 5.00000000e+02 5.00000000e+02 5.00000000e+02 5.00000000e+02\n",
      " 5.00000000e+02 5.00000000e+02 5.00000000e+02 5.00000000e+02\n",
      " 5.00000000e+02 5.00000000e+02 5.00000000e+02 5.00000000e+02\n",
      " 5.00000000e+02 5.00000000e+02 5.00000000e+02 5.00000000e+02\n",
      " 5.00000000e+02 5.00000000e+02 5.00000000e+02 5.00000000e+02\n",
      " 5.00000000e+02 5.00000000e+02 5.00000000e+02 5.00000000e+02\n",
      " 5.00000000e+02 5.00000000e+02 5.00000000e+02 5.00000000e+02\n",
      " 5.00000000e+02 5.00000000e+02 5.00000000e+02 5.00000000e+02\n",
      " 5.00000000e+02 5.00000000e+02 5.00000000e+02 5.00000000e+02\n",
      " 5.00000000e+02 5.00000000e+02 5.00000000e+02 5.00000000e+02\n",
      " 5.00000000e+02 5.00000000e+02 5.00000000e+02 5.00000000e+02\n",
      " 5.00000000e+02 5.00000000e+02 5.00000000e+02 5.00000000e+02\n",
      " 5.00000000e+02 5.00000000e+02 5.00000000e+02 5.00000000e+02\n",
      " 5.00000000e+02 5.00000000e+02 5.00000000e+02 5.00000000e+02\n",
      " 5.00000000e+02 5.00000000e+02 5.00000000e+02 5.00000000e+02\n",
      " 5.00000000e+02 5.00000000e+02 5.00000000e+02 5.00000000e+02\n",
      " 5.00000000e+02 5.00000000e+02 5.00000000e+02 5.00000000e+02\n",
      " 5.00000000e+02 5.00000000e+02 5.00000000e+02 5.00000000e+02\n",
      " 5.00000000e+02 5.00000000e+02 5.00000000e+02 5.00000000e+02\n",
      " 5.00000000e+02 5.00000000e+02 5.00000000e+02 5.00000000e+02\n",
      " 5.00000000e+02 5.00000000e+02 5.00000000e+02 5.00000000e+02\n",
      " 5.00000000e+02 5.00000000e+02 5.00000000e+02 5.00000000e+02\n",
      " 5.00000000e+02 5.00000000e+02 5.00000000e+02 5.00000000e+02\n",
      " 5.00000000e+02 5.00000000e+02 5.00000000e+02 5.00000000e+02\n",
      " 5.00000000e+02 5.00000000e+02 5.00000000e+02 5.00000000e+02\n",
      " 5.00000000e+02 5.00000000e+02 5.00000000e+02 5.00000000e+02\n",
      " 5.00000000e+02 5.00000000e+02 5.00000000e+02 5.00000000e+02\n",
      " 5.00000000e+02 5.00000000e+02 5.00000000e+02 5.00000000e+02\n",
      " 5.00000000e+02 5.00000000e+02 5.00000000e+02 5.00000000e+02\n",
      " 5.00000000e+02 5.00000000e+02 5.00000000e+02 5.00000000e+02\n",
      " 5.00000000e+02 5.00000000e+02 5.00000000e+02 5.00000000e+02\n",
      " 5.00000000e+02 5.00000000e+02 5.00000000e+02 5.00000000e+02\n",
      " 5.00000000e+02 5.00000000e+02 5.00000000e+02 5.00000000e+02\n",
      " 5.00000000e+02 5.00000000e+02 5.00000000e+02 5.00000000e+02\n",
      " 5.00000000e+02 5.00000000e+02 5.00000000e+02 5.00000000e+02\n",
      " 5.00000000e+02 5.00000000e+02 5.00000000e+02 5.00000000e+02\n",
      " 5.00000000e+02 5.00000000e+02 5.00000000e+02 5.00000000e+02\n",
      " 5.00000000e+02 5.00000000e+02 5.00000000e+02 5.00000000e+02\n",
      " 5.00000000e+02 5.00000000e+02 5.00000000e+02 5.00000000e+02\n",
      " 5.00000000e+02 5.00000000e+02 5.00000000e+02 5.00000000e+02\n",
      " 5.00000000e+02 5.00000000e+02 5.00000000e+02 5.00000000e+02\n",
      " 5.00000000e+02 5.00000000e+02 5.00000000e+02 5.00000000e+02\n",
      " 5.00000000e+02 5.00000000e+02 5.00000000e+02 5.00000000e+02\n",
      " 5.00000000e+02 5.00000000e+02 5.00000000e+02 5.00000000e+02\n",
      " 5.00000000e+02 5.00000000e+02 5.00000000e+02 5.00000000e+02\n",
      " 5.00000000e+02 5.00000000e+02 5.00000000e+02 5.00000000e+02\n",
      " 5.00000000e+02 5.00000000e+02 5.00000000e+02 5.00000000e+02\n",
      " 5.00000000e+02 5.00000000e+02 5.00000000e+02 5.00000000e+02\n",
      " 5.00000000e+02 5.00000000e+02 5.00000000e+02 5.00000000e+02\n",
      " 5.00000000e+02 5.00000000e+02 5.00000000e+02 5.00000000e+02\n",
      " 5.00000000e+02 5.00000000e+02 5.00000000e+02 5.00000000e+02\n",
      " 5.00000000e+02 5.00000000e+02 5.00000000e+02 5.00000000e+02\n",
      " 5.00000000e+02 5.00000000e+02 5.00000000e+02 5.00000000e+02\n",
      " 5.00000000e+02 5.00000000e+02 5.00000000e+02 5.00000000e+02\n",
      " 5.00000000e+02 5.00000000e+02 5.00000000e+02 5.00000000e+02\n",
      " 5.00000000e+02 5.00000000e+02 5.00000000e+02 5.00000000e+02\n",
      " 5.00000000e+02 5.00000000e+02 5.00000000e+02 5.00000000e+02\n",
      " 5.00000000e+02 5.00000000e+02 5.00000000e+02 5.00000000e+02\n",
      " 5.00000000e+02 5.00000000e+02 5.00000000e+02 5.00000000e+02\n",
      " 5.00000000e+02 5.00000000e+02 5.00000000e+02 5.00000000e+02\n",
      " 5.00000000e+02 5.00000000e+02 5.00000000e+02 5.00000000e+02\n",
      " 5.00000000e+02 5.00000000e+02 5.00000000e+02 5.00000000e+02\n",
      " 5.00000000e+02 5.00000000e+02 5.00000000e+02 5.00000000e+02\n",
      " 5.00000000e+02 5.00000000e+02 5.00000000e+02 5.00000000e+02\n",
      " 5.00000000e+02 5.00000000e+02 5.00000000e+02 5.00000000e+02\n",
      " 5.00000000e+02 5.00000000e+02 5.00000000e+02 5.00000000e+02\n",
      " 5.00000000e+02 5.00000000e+02 5.00000000e+02 5.00000000e+02\n",
      " 5.00000000e+02 5.00000000e+02 5.00000000e+02 5.00000000e+02\n",
      " 5.00000000e+02 5.00000000e+02 5.00000000e+02 5.00000000e+02\n",
      " 5.00000000e+02 5.00000000e+02 5.00000000e+02 5.00000000e+02\n",
      " 5.00000000e+02 5.00000000e+02 5.00000000e+02 5.00000000e+02\n",
      " 5.00000000e+02 5.00000000e+02 5.00000000e+02 5.00000000e+02\n",
      " 5.00000000e+02 5.00000000e+02 5.00000000e+02 5.00000000e+02\n",
      " 5.00000000e+02 5.00000000e+02 5.00000000e+02 5.00000000e+02\n",
      " 5.00000000e+02 5.00000000e+02 5.00000000e+02 5.00000000e+02\n",
      " 5.00000000e+02 5.00000000e+02 5.00000000e+02 5.00000000e+02\n",
      " 5.00000000e+02 5.00000000e+02 5.00000000e+02 5.00000000e+02\n",
      " 5.00000000e+02 5.00000000e+02 5.00000000e+02 5.00000000e+02\n",
      " 5.00000000e+02 5.00000000e+02 5.00000000e+02 5.00000000e+02\n",
      " 5.00000000e+02 5.00000000e+02 5.00000000e+02 5.00000000e+02\n",
      " 5.00000000e+02 5.00000000e+02 5.00000000e+02 5.00000000e+02\n",
      " 5.00000000e+02 5.00000000e+02 5.00000000e+02 5.00000000e+02\n",
      " 5.00000000e+02 5.00000000e+02 5.00000000e+02 5.00000000e+02\n",
      " 5.00000000e+02 5.00000000e+02 5.00000000e+02 5.00000000e+02\n",
      " 5.00000000e+02 5.00000000e+02 5.00000000e+02 5.00000000e+02\n",
      " 5.00000000e+02 5.00000000e+02 5.00000000e+02 5.00000000e+02\n",
      " 5.00000000e+02 5.00000000e+02 5.00000000e+02 5.00000000e+02\n",
      " 5.00000000e+02 5.00000000e+02 5.00000000e+02 5.00000000e+02\n",
      " 5.00000000e+02 5.00000000e+02 5.00000000e+02 5.00000000e+02\n",
      " 5.00000000e+02 5.00000000e+02 5.00000000e+02 5.00000000e+02\n",
      " 5.00000000e+02 5.00000000e+02 5.00000000e+02 5.00000000e+02\n",
      " 5.00000000e+02 5.00000000e+02 5.00000000e+02 5.00000000e+02\n",
      " 5.00000000e+02 5.00000000e+02 5.00000000e+02 5.00000000e+02\n",
      " 5.00000000e+02 5.00000000e+02 5.00000000e+02 5.00000000e+02\n",
      " 5.00000000e+02 5.00000000e+02 5.00000000e+02 5.00000000e+02\n",
      " 5.00000000e+02 5.00000000e+02 5.00000000e+02 5.00000000e+02\n",
      " 5.00000000e+02 5.00000000e+02 5.00000000e+02 5.00000000e+02\n",
      " 5.00000000e+02 5.00000000e+02 5.00000000e+02 5.00000000e+02\n",
      " 5.00000000e+02 5.00000000e+02 5.00000000e+02 5.00000000e+02\n",
      " 5.00000000e+02 5.00000000e+02 5.00000000e+02 5.00000000e+02\n",
      " 5.00000000e+02 5.00000000e+02 5.00000000e+02 5.00000000e+02\n",
      " 5.00000000e+02 5.00000000e+02 5.00000000e+02 5.00000000e+02\n",
      " 5.00000000e+02 5.00000000e+02 5.00000000e+02 5.00000000e+02\n",
      " 5.00000000e+02 5.00000000e+02 5.00000000e+02 5.00000000e+02\n",
      " 5.00000000e+02 5.00000000e+02 5.00000000e+02 5.00000000e+02\n",
      " 5.00000000e+02 5.00000000e+02 5.00000000e+02 5.00000000e+02\n",
      " 5.00000000e+02 5.00000000e+02 5.00000000e+02 5.00000000e+02\n",
      " 5.00000000e+02 5.00000000e+02 5.00000000e+02 5.00000000e+02\n",
      " 5.00000000e+02 5.00000000e+02 5.00000000e+02 5.00000000e+02\n",
      " 5.00000000e+02 5.00000000e+02 5.00000000e+02 5.00000000e+02\n",
      " 5.00000000e+02 5.00000000e+02 5.00000000e+02 5.00000000e+02\n",
      " 5.00000000e+02 5.00000000e+02 5.00000000e+02 5.00000000e+02\n",
      " 5.00000000e+02 5.00000000e+02 5.00000000e+02 5.00000000e+02\n",
      " 5.00000000e+02 5.00000000e+02 5.00000000e+02 5.00000000e+02\n",
      " 5.00000000e+02 5.00000000e+02 5.00000000e+02 5.00000000e+02\n",
      " 5.00000000e+02 5.00000000e+02 5.00000000e+02 5.00000000e+02\n",
      " 5.00000000e+02 5.00000000e+02 5.00000000e+02 5.00000000e+02\n",
      " 5.00000000e+02 5.00000000e+02 5.00000000e+02 5.00000000e+02\n",
      " 5.00000000e+02 5.00000000e+02 5.00000000e+02 5.00000000e+02\n",
      " 5.00000000e+02 5.00000000e+02 5.00000000e+02 5.00000000e+02\n",
      " 5.00000000e+02 5.00000000e+02 5.00000000e+02 5.00000000e+02\n",
      " 5.00000000e+02 5.00000000e+02 5.00000000e+02 5.00000000e+02\n",
      " 5.00000000e+02 5.00000000e+02 5.00000000e+02 5.00000000e+02\n",
      " 5.00000000e+02 5.00000000e+02 5.00000000e+02 5.00000000e+02\n",
      " 5.00000000e+02 5.00000000e+02 5.00000000e+02 5.00000000e+02\n",
      " 5.00000000e+02 5.00000000e+02 5.00000000e+02 5.00000000e+02\n",
      " 5.00000000e+02 5.00000000e+02 5.00000000e+02 5.00000000e+02\n",
      " 5.00000000e+02 5.00000000e+02 5.00000000e+02 5.00000000e+02\n",
      " 5.00000000e+02 5.00000000e+02 5.00000000e+02 5.00000000e+02\n",
      " 5.00000000e+02 5.00000000e+02 5.00000000e+02 5.00000000e+02\n",
      " 5.00000000e+02 5.00000000e+02 5.00000000e+02 5.00000000e+02\n",
      " 5.00000000e+02 5.00000000e+02 5.00000000e+02 5.00000000e+02\n",
      " 5.00000000e+02 5.00000000e+02 5.00000000e+02 5.00000000e+02\n",
      " 5.00000000e+02 5.00000000e+02 5.00000000e+02 5.00000000e+02\n",
      " 5.00000000e+02 5.00000000e+02 5.00000000e+02 5.00000000e+02\n",
      " 5.00000000e+02 5.00000000e+02 5.00000000e+02 5.00000000e+02\n",
      " 5.00000000e+02 5.00000000e+02 5.00000000e+02 5.00000000e+02\n",
      " 5.00000000e+02 5.00000000e+02 5.00000000e+02 5.00000000e+02\n",
      " 5.00000000e+02 5.00000000e+02 5.00000000e+02 5.00000000e+02\n",
      " 5.00000000e+02 5.00000000e+02 5.00000000e+02 5.00000000e+02\n",
      " 5.00000000e+02 5.00000000e+02 5.00000000e+02 5.00000000e+02\n",
      " 5.00000000e+02 5.00000000e+02 5.00000000e+02 5.00000000e+02\n",
      " 5.00000000e+02 5.00000000e+02 5.00000000e+02 5.00000000e+02\n",
      " 5.00000000e+02 5.00000000e+02 5.00000000e+02 5.00000000e+02\n",
      " 5.00000000e+02 5.00000000e+02 5.00000000e+02 5.00000000e+02\n",
      " 5.00000000e+02 5.00000000e+02 5.00000000e+02 5.00000000e+02\n",
      " 5.00000000e+02 5.00000000e+02 5.00000000e+02 5.00000000e+02\n",
      " 5.00000000e+02 5.00000000e+02 5.00000000e+02 5.00000000e+02\n",
      " 5.00000000e+02 5.00000000e+02 5.00000000e+02 5.00000000e+02\n",
      " 5.00000000e+02 5.00000000e+02 5.00000000e+02 5.00000000e+02\n",
      " 5.00000000e+02 5.00000000e+02 5.00000000e+02 5.00000000e+02\n",
      " 5.00000000e+02 5.00000000e+02 5.00000000e+02 5.00000000e+02\n",
      " 5.00000000e+02 5.00000000e+02 5.00000000e+02 5.00000000e+02\n",
      " 5.00000000e+02 5.00000000e+02 5.00000000e+02 5.00000000e+02\n",
      " 5.00000000e+02 5.00000000e+02 5.00000000e+02 5.00000000e+02\n",
      " 5.00000000e+02 5.00000000e+02 5.00000000e+02 5.00000000e+02\n",
      " 5.00000000e+02 5.00000000e+02 5.00000000e+02 5.00000000e+02\n",
      " 5.00000000e+02 5.00000000e+02 5.00000000e+02 5.00000000e+02\n",
      " 5.00000000e+02 5.00000000e+02 5.00000000e+02 5.00000000e+02\n",
      " 5.00000000e+02 5.00000000e+02 5.00000000e+02 5.00000000e+02\n",
      " 5.00000000e+02 5.00000000e+02 5.00000000e+02 5.00000000e+02\n",
      " 5.00000000e+02 5.00000000e+02 5.00000000e+02 5.00000000e+02\n",
      " 5.00000000e+02 5.00000000e+02 5.00000000e+02 5.00000000e+02\n",
      " 5.00000000e+02 5.00000000e+02 5.00000000e+02 5.00000000e+02\n",
      " 5.00000000e+02 5.00000000e+02 5.00000000e+02 5.00000000e+02\n",
      " 5.00000000e+02 5.00000000e+02 5.00000000e+02 5.00000000e+02\n",
      " 5.00000000e+02 5.00000000e+02 5.00000000e+02 5.00000000e+02\n",
      " 5.00000000e+02 5.00000000e+02 5.00000000e+02 5.00000000e+02\n",
      " 5.00000000e+02 5.00000000e+02 5.00000000e+02 5.00000000e+02\n",
      " 5.00000000e+02 5.00000000e+02 5.00000000e+02 5.00000000e+02\n",
      " 5.00000000e+02 5.00000000e+02 5.00000000e+02 5.00000000e+02\n",
      " 5.00000000e+02 5.00000000e+02 5.00000000e+02 5.00000000e+02]\n",
      "1000\n"
     ]
    }
   ],
   "source": [
    "print(eigenVals)\n",
    "print(len(eigenVecs))"
   ]
  },
  {
   "cell_type": "code",
   "execution_count": 425,
   "metadata": {},
   "outputs": [
    {
     "name": "stdout",
     "output_type": "stream",
     "text": [
      "2\n"
     ]
    },
    {
     "data": {
      "image/png": "[encoded data removed]",
      "text/plain": [
       "<Figure size 432x288 with 1 Axes>"
      ]
     },
     "metadata": {
      "needs_background": "light"
     },
     "output_type": "display_data"
    }
   ],
   "source": [
    "fiedlerIndex = 0\n",
    "\n",
    "for i in range(len(eigenVals)):\n",
    "  if eigenVals[i] > 0:\n",
    "    fiedlerIndex = i\n",
    "    break\n",
    "\n",
    "print(fiedlerIndex)\n",
    "\n",
    "import matplotlib.pyplot as plt\n",
    "\n",
    "fiedlerVector = eigenVecs[:,1]\n",
    "\n",
    "xpoints = range(0, len(A))\n",
    "ypoints = np.sort(fiedlerVector)\n",
    "\n",
    "plt.plot(xpoints, ypoints)\n",
    "plt.show()\n"
   ]
  },
  {
   "cell_type": "markdown",
   "metadata": {},
   "source": [
    "## Random Article\n",
    "\n",
    "https://towardsdatascience.com/spectral-clustering-aba2640c0d5b"
   ]
  },
  {
   "cell_type": "code",
   "execution_count": 363,
   "metadata": {},
   "outputs": [
    {
     "data": {
      "image/png": "[encoded data removed]",
      "text/plain": [
       "<Figure size 432x288 with 1 Axes>"
      ]
     },
     "metadata": {
      "needs_background": "light"
     },
     "output_type": "display_data"
    }
   ],
   "source": [
    "# Adjacency Matrix:\n",
    "A =  np.array([[0, 1, 1, 0, 0, 1, 0, 0, 1, 1],\n",
    "              [1, 0, 1, 0, 0, 0, 0, 0, 0, 0],\n",
    "              [1, 1, 0, 0, 0, 0, 0, 0, 0, 0],\n",
    "              [0, 0, 0, 0, 1, 1, 0, 0, 0, 0],\n",
    "              [0, 0, 0, 1, 0, 1, 0, 0, 0, 0],\n",
    "              [1, 0, 0, 1, 1, 0, 1, 1, 0, 0],\n",
    "              [0, 0, 0, 0, 0, 1, 0, 1, 0, 0],\n",
    "              [0, 0, 0, 0, 0, 1, 1, 0, 0, 0],\n",
    "              [1, 0, 0, 0, 0, 0, 0, 0, 0, 1],\n",
    "              [1, 0, 0, 0, 0, 0, 0, 0, 1, 0]])\n",
    "\n",
    "# diagonal matrix\n",
    "D = np.diag(A.sum(axis=1))\n",
    "\n",
    "# graph laplacian\n",
    "L = D-A\n",
    "\n",
    "# eigenvalues and eigenvectors\n",
    "vals, vecs = np.linalg.eig(L)\n",
    "\n",
    "# sort these based on the eigenvalues\n",
    "vecs = vecs[:,np.argsort(vals)]\n",
    "vals = vals[np.argsort(vals)]\n",
    "\n",
    "import matplotlib.pyplot as plt\n",
    "\n",
    "xpoints = range(0, 10)\n",
    "ypoints = (vecs[1])\n",
    "\n",
    "plt.plot(xpoints, ypoints)\n",
    "plt.show()"
   ]
  }
 ],
 "metadata": {
  "kernelspec": {
   "display_name": "Python 3.8.9 64-bit",
   "language": "python",
   "name": "python3"
  },
  "language_info": {
   "codemirror_mode": {
    "name": "ipython",
    "version": 3
   },
   "file_extension": ".py",
   "mimetype": "text/x-python",
   "name": "python",
   "nbconvert_exporter": "python",
   "pygments_lexer": "ipython3",
   "version": "3.8.9"
  },
  "orig_nbformat": 4,
  "vscode": {
   "interpreter": {
    "hash": "31f2aee4e71d21fbe5cf8b01ff0e069b9275f58929596ceb00d14d90e3e16cd6"
   }
  }
 },
 "nbformat": 4,
 "nbformat_minor": 2
}
