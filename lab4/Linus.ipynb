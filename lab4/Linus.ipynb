{
 "cells": [
  {
   "cell_type": "markdown",
   "metadata": {},
   "source": [
    "# Lab 4\n",
    "* Paper: [On Spectral Clustering: Analysis and an algorithm](http://ai.stanford.edu/~ang/papers/nips01-spectral.pdf)"
   ]
  },
  {
   "cell_type": "code",
   "execution_count": 621,
   "metadata": {},
   "outputs": [],
   "source": [
    "import numpy as np\n",
    "from numpy.linalg import inv\n",
    "from numpy import linalg as LA\n",
    "from scipy.linalg import sqrtm, eigh\n",
    "import pandas as pd\n",
    "import networkx as nx"
   ]
  },
  {
   "cell_type": "markdown",
   "metadata": {},
   "source": [
    "# Warm-up\n",
    "\n",
    "> **Lab description**:  As a warm-up task, you should first compute the eigenvectors and eigenvalues of a set of graphs and find out how many communities these graphs have. \n"
   ]
  },
  {
   "cell_type": "code",
   "execution_count": 622,
   "metadata": {},
   "outputs": [],
   "source": [
    "example1 = './data/example1.dat'\n",
    "test = './data/test.dat'"
   ]
  },
  {
   "cell_type": "markdown",
   "metadata": {},
   "source": [
    "Let's store the data in a Pandas DataFrame."
   ]
  },
  {
   "cell_type": "code",
   "execution_count": 623,
   "metadata": {},
   "outputs": [
    {
     "data": {
      "text/html": [
       "<div>\n",
       "<style scoped>\n",
       "    .dataframe tbody tr th:only-of-type {\n",
       "        vertical-align: middle;\n",
       "    }\n",
       "\n",
       "    .dataframe tbody tr th {\n",
       "        vertical-align: top;\n",
       "    }\n",
       "\n",
       "    .dataframe thead th {\n",
       "        text-align: right;\n",
       "    }\n",
       "</style>\n",
       "<table border=\"1\" class=\"dataframe\">\n",
       "  <thead>\n",
       "    <tr style=\"text-align: right;\">\n",
       "      <th></th>\n",
       "      <th>from</th>\n",
       "      <th>to</th>\n",
       "      <th>weight</th>\n",
       "    </tr>\n",
       "  </thead>\n",
       "  <tbody>\n",
       "    <tr>\n",
       "      <th>0</th>\n",
       "      <td>1</td>\n",
       "      <td>2</td>\n",
       "      <td>1</td>\n",
       "    </tr>\n",
       "    <tr>\n",
       "      <th>1</th>\n",
       "      <td>1</td>\n",
       "      <td>3</td>\n",
       "      <td>1</td>\n",
       "    </tr>\n",
       "    <tr>\n",
       "      <th>2</th>\n",
       "      <td>2</td>\n",
       "      <td>1</td>\n",
       "      <td>1</td>\n",
       "    </tr>\n",
       "    <tr>\n",
       "      <th>3</th>\n",
       "      <td>2</td>\n",
       "      <td>3</td>\n",
       "      <td>1</td>\n",
       "    </tr>\n",
       "    <tr>\n",
       "      <th>4</th>\n",
       "      <td>2</td>\n",
       "      <td>4</td>\n",
       "      <td>1</td>\n",
       "    </tr>\n",
       "    <tr>\n",
       "      <th>5</th>\n",
       "      <td>3</td>\n",
       "      <td>1</td>\n",
       "      <td>1</td>\n",
       "    </tr>\n",
       "    <tr>\n",
       "      <th>6</th>\n",
       "      <td>3</td>\n",
       "      <td>2</td>\n",
       "      <td>1</td>\n",
       "    </tr>\n",
       "    <tr>\n",
       "      <th>7</th>\n",
       "      <td>4</td>\n",
       "      <td>2</td>\n",
       "      <td>1</td>\n",
       "    </tr>\n",
       "    <tr>\n",
       "      <th>8</th>\n",
       "      <td>4</td>\n",
       "      <td>5</td>\n",
       "      <td>1</td>\n",
       "    </tr>\n",
       "    <tr>\n",
       "      <th>9</th>\n",
       "      <td>4</td>\n",
       "      <td>6</td>\n",
       "      <td>1</td>\n",
       "    </tr>\n",
       "    <tr>\n",
       "      <th>10</th>\n",
       "      <td>5</td>\n",
       "      <td>4</td>\n",
       "      <td>1</td>\n",
       "    </tr>\n",
       "    <tr>\n",
       "      <th>11</th>\n",
       "      <td>5</td>\n",
       "      <td>6</td>\n",
       "      <td>1</td>\n",
       "    </tr>\n",
       "    <tr>\n",
       "      <th>12</th>\n",
       "      <td>6</td>\n",
       "      <td>4</td>\n",
       "      <td>1</td>\n",
       "    </tr>\n",
       "    <tr>\n",
       "      <th>13</th>\n",
       "      <td>6</td>\n",
       "      <td>5</td>\n",
       "      <td>1</td>\n",
       "    </tr>\n",
       "  </tbody>\n",
       "</table>\n",
       "</div>"
      ],
      "text/plain": [
       "    from  to  weight\n",
       "0      1   2       1\n",
       "1      1   3       1\n",
       "2      2   1       1\n",
       "3      2   3       1\n",
       "4      2   4       1\n",
       "5      3   1       1\n",
       "6      3   2       1\n",
       "7      4   2       1\n",
       "8      4   5       1\n",
       "9      4   6       1\n",
       "10     5   4       1\n",
       "11     5   6       1\n",
       "12     6   4       1\n",
       "13     6   5       1"
      ]
     },
     "execution_count": 623,
     "metadata": {},
     "output_type": "execute_result"
    }
   ],
   "source": [
    "df = pd.read_csv(test)\n",
    "df['weight'] = 1\n",
    "df"
   ]
  },
  {
   "cell_type": "markdown",
   "metadata": {},
   "source": [
    "As proposed in the Matlab Tutorial, we are extracting each column from the data file and storing it in a list. In this way, you can find indices and work with them as you would in Matlab."
   ]
  },
  {
   "cell_type": "code",
   "execution_count": 624,
   "metadata": {},
   "outputs": [
    {
     "name": "stdout",
     "output_type": "stream",
     "text": [
      "[1 1 2 2 2 3 3 4 4 4 5 5 6 6] [2 3 1 3 4 1 2 2 5 6 4 6 4 5]\n"
     ]
    }
   ],
   "source": [
    "col1, col2, _ = df.to_numpy().T\n",
    "print(col1, col2)"
   ]
  },
  {
   "cell_type": "markdown",
   "metadata": {},
   "source": [
    "I think the example confuses `max_id` with a regular `max`; we are supposed to find the max value, and use it when we create a sparse matrix. I am not sure why, but I'll try that approach. We'll bypass the problem by using the Python librar `networkx` to create the graph."
   ]
  },
  {
   "cell_type": "code",
   "execution_count": 625,
   "metadata": {},
   "outputs": [],
   "source": [
    "G = nx.from_pandas_edgelist(df=df, source='from', target='to', edge_attr=['weight'])"
   ]
  },
  {
   "cell_type": "code",
   "execution_count": 626,
   "metadata": {},
   "outputs": [
    {
     "data": {
      "text/html": [
       "<div>\n",
       "<style scoped>\n",
       "    .dataframe tbody tr th:only-of-type {\n",
       "        vertical-align: middle;\n",
       "    }\n",
       "\n",
       "    .dataframe tbody tr th {\n",
       "        vertical-align: top;\n",
       "    }\n",
       "\n",
       "    .dataframe thead th {\n",
       "        text-align: right;\n",
       "    }\n",
       "</style>\n",
       "<table border=\"1\" class=\"dataframe\">\n",
       "  <thead>\n",
       "    <tr style=\"text-align: right;\">\n",
       "      <th></th>\n",
       "      <th>0</th>\n",
       "      <th>1</th>\n",
       "      <th>2</th>\n",
       "      <th>3</th>\n",
       "      <th>4</th>\n",
       "      <th>5</th>\n",
       "    </tr>\n",
       "  </thead>\n",
       "  <tbody>\n",
       "    <tr>\n",
       "      <th>0</th>\n",
       "      <td>0</td>\n",
       "      <td>1</td>\n",
       "      <td>1</td>\n",
       "      <td>0</td>\n",
       "      <td>0</td>\n",
       "      <td>0</td>\n",
       "    </tr>\n",
       "    <tr>\n",
       "      <th>1</th>\n",
       "      <td>1</td>\n",
       "      <td>0</td>\n",
       "      <td>1</td>\n",
       "      <td>1</td>\n",
       "      <td>0</td>\n",
       "      <td>0</td>\n",
       "    </tr>\n",
       "    <tr>\n",
       "      <th>2</th>\n",
       "      <td>1</td>\n",
       "      <td>1</td>\n",
       "      <td>0</td>\n",
       "      <td>0</td>\n",
       "      <td>0</td>\n",
       "      <td>0</td>\n",
       "    </tr>\n",
       "    <tr>\n",
       "      <th>3</th>\n",
       "      <td>0</td>\n",
       "      <td>1</td>\n",
       "      <td>0</td>\n",
       "      <td>0</td>\n",
       "      <td>1</td>\n",
       "      <td>1</td>\n",
       "    </tr>\n",
       "    <tr>\n",
       "      <th>4</th>\n",
       "      <td>0</td>\n",
       "      <td>0</td>\n",
       "      <td>0</td>\n",
       "      <td>1</td>\n",
       "      <td>0</td>\n",
       "      <td>1</td>\n",
       "    </tr>\n",
       "    <tr>\n",
       "      <th>5</th>\n",
       "      <td>0</td>\n",
       "      <td>0</td>\n",
       "      <td>0</td>\n",
       "      <td>1</td>\n",
       "      <td>1</td>\n",
       "      <td>0</td>\n",
       "    </tr>\n",
       "  </tbody>\n",
       "</table>\n",
       "</div>"
      ],
      "text/plain": [
       "   0  1  2  3  4  5\n",
       "0  0  1  1  0  0  0\n",
       "1  1  0  1  1  0  0\n",
       "2  1  1  0  0  0  0\n",
       "3  0  1  0  0  1  1\n",
       "4  0  0  0  1  0  1\n",
       "5  0  0  0  1  1  0"
      ]
     },
     "execution_count": 626,
     "metadata": {},
     "output_type": "execute_result"
    }
   ],
   "source": [
    "G = nx.from_pandas_edgelist(df=df, source='from', target='to', edge_attr=['weight'])\n",
    "points = nx.to_numpy_matrix(G)\n",
    "pd.DataFrame(points, dtype=int)"
   ]
  },
  {
   "cell_type": "markdown",
   "metadata": {},
   "source": [
    "Now I use numpy to find the eigenvalues and eigenvectors of the sparse matrix.\n",
    "\n",
    "`LA.eigh(A)` returns:\n",
    "\n",
    "* `eigvals`: a 1D array of eigenvalues\n",
    "* `eigvecs`: a 2D array of normalized (unit \"length) eigenvectors\n"
   ]
  },
  {
   "cell_type": "code",
   "execution_count": 627,
   "metadata": {},
   "outputs": [
    {
     "name": "stdout",
     "output_type": "stream",
     "text": [
      "          0\n",
      "0 -1.732051\n",
      "1 -1.000000\n",
      "2 -1.000000\n",
      "3 -0.414214\n",
      "4  1.732051\n",
      "5  2.414214\n",
      "          0             1             2         3         4         5\n",
      "0 -0.229850  7.071068e-01  0.000000e+00 -0.353553 -0.444037  0.353553\n",
      "1  0.627963 -3.330669e-16 -5.680648e-17  0.500000 -0.325058  0.500000\n",
      "2 -0.229850 -7.071068e-01  5.680648e-17 -0.353553 -0.444037  0.353553\n",
      "3 -0.627963 -4.996004e-16  3.697785e-32  0.500000  0.325058  0.500000\n",
      "4  0.229850  2.775558e-16 -7.071068e-01 -0.353553  0.444037  0.353553\n",
      "5  0.229850  2.775558e-16  7.071068e-01 -0.353553  0.444037  0.353553\n"
     ]
    }
   ],
   "source": [
    "eigvals, eigvecs = LA.eigh(points)\n",
    "print(pd.DataFrame(eigvals))\n",
    "print(pd.DataFrame(eigvecs))"
   ]
  },
  {
   "cell_type": "markdown",
   "metadata": {},
   "source": [
    "Not sure this is right, but let's try to just sort it straight away."
   ]
  },
  {
   "cell_type": "code",
   "execution_count": 628,
   "metadata": {},
   "outputs": [
    {
     "data": {
      "text/html": [
       "<div>\n",
       "<style scoped>\n",
       "    .dataframe tbody tr th:only-of-type {\n",
       "        vertical-align: middle;\n",
       "    }\n",
       "\n",
       "    .dataframe tbody tr th {\n",
       "        vertical-align: top;\n",
       "    }\n",
       "\n",
       "    .dataframe thead th {\n",
       "        text-align: right;\n",
       "    }\n",
       "</style>\n",
       "<table border=\"1\" class=\"dataframe\">\n",
       "  <thead>\n",
       "    <tr style=\"text-align: right;\">\n",
       "      <th></th>\n",
       "      <th>0</th>\n",
       "      <th>1</th>\n",
       "      <th>2</th>\n",
       "      <th>3</th>\n",
       "      <th>4</th>\n",
       "      <th>5</th>\n",
       "    </tr>\n",
       "  </thead>\n",
       "  <tbody>\n",
       "    <tr>\n",
       "      <th>0</th>\n",
       "      <td>-0.444037</td>\n",
       "      <td>-3.535534e-01</td>\n",
       "      <td>-2.298504e-01</td>\n",
       "      <td>0.000000</td>\n",
       "      <td>3.535534e-01</td>\n",
       "      <td>0.707107</td>\n",
       "    </tr>\n",
       "    <tr>\n",
       "      <th>1</th>\n",
       "      <td>-0.325058</td>\n",
       "      <td>-3.330669e-16</td>\n",
       "      <td>-5.680648e-17</td>\n",
       "      <td>0.500000</td>\n",
       "      <td>5.000000e-01</td>\n",
       "      <td>0.627963</td>\n",
       "    </tr>\n",
       "    <tr>\n",
       "      <th>2</th>\n",
       "      <td>-0.707107</td>\n",
       "      <td>-4.440369e-01</td>\n",
       "      <td>-3.535534e-01</td>\n",
       "      <td>-0.229850</td>\n",
       "      <td>5.680648e-17</td>\n",
       "      <td>0.353553</td>\n",
       "    </tr>\n",
       "    <tr>\n",
       "      <th>3</th>\n",
       "      <td>-0.627963</td>\n",
       "      <td>-4.996004e-16</td>\n",
       "      <td>3.697785e-32</td>\n",
       "      <td>0.325058</td>\n",
       "      <td>5.000000e-01</td>\n",
       "      <td>0.500000</td>\n",
       "    </tr>\n",
       "    <tr>\n",
       "      <th>4</th>\n",
       "      <td>-0.707107</td>\n",
       "      <td>-3.535534e-01</td>\n",
       "      <td>2.775558e-16</td>\n",
       "      <td>0.229850</td>\n",
       "      <td>3.535534e-01</td>\n",
       "      <td>0.444037</td>\n",
       "    </tr>\n",
       "    <tr>\n",
       "      <th>5</th>\n",
       "      <td>-0.353553</td>\n",
       "      <td>2.775558e-16</td>\n",
       "      <td>2.298504e-01</td>\n",
       "      <td>0.353553</td>\n",
       "      <td>4.440369e-01</td>\n",
       "      <td>0.707107</td>\n",
       "    </tr>\n",
       "  </tbody>\n",
       "</table>\n",
       "</div>"
      ],
      "text/plain": [
       "          0             1             2         3             4         5\n",
       "0 -0.444037 -3.535534e-01 -2.298504e-01  0.000000  3.535534e-01  0.707107\n",
       "1 -0.325058 -3.330669e-16 -5.680648e-17  0.500000  5.000000e-01  0.627963\n",
       "2 -0.707107 -4.440369e-01 -3.535534e-01 -0.229850  5.680648e-17  0.353553\n",
       "3 -0.627963 -4.996004e-16  3.697785e-32  0.325058  5.000000e-01  0.500000\n",
       "4 -0.707107 -3.535534e-01  2.775558e-16  0.229850  3.535534e-01  0.444037\n",
       "5 -0.353553  2.775558e-16  2.298504e-01  0.353553  4.440369e-01  0.707107"
      ]
     },
     "execution_count": 628,
     "metadata": {},
     "output_type": "execute_result"
    }
   ],
   "source": [
    "pd.DataFrame(np.sort(eigvecs))"
   ]
  },
  {
   "cell_type": "markdown",
   "metadata": {},
   "source": [
    "That concludes the warmup, let's continue with the main task."
   ]
  },
  {
   "cell_type": "markdown",
   "metadata": {},
   "source": [
    "# Initial analysis\n",
    "\n",
    "We are going to explore the two datasets by plotting them first."
   ]
  },
  {
   "cell_type": "markdown",
   "metadata": {},
   "source": [
    "## Read data and setup graphs"
   ]
  },
  {
   "cell_type": "code",
   "execution_count": 629,
   "metadata": {},
   "outputs": [],
   "source": [
    "example1 = './data/example1.dat'\n",
    "example2 = './data/example2.dat'\n",
    "\n",
    "# appending a weight column\n",
    "df_example1 = pd.read_csv(example1)\n",
    "df_example1['weight'] = 1\n",
    "\n",
    "# already has a weight column\n",
    "df_example2 = pd.read_csv(example2)\n",
    "\n",
    "# create a graph from the data\n",
    "G_example1 = nx.from_pandas_edgelist(df=df_example1, source='from', target='to', edge_attr=['weight'])\n",
    "G_example2 = nx.from_pandas_edgelist(df=df_example2, source='from', target='to', edge_attr=['weight'])"
   ]
  },
  {
   "cell_type": "markdown",
   "metadata": {},
   "source": [
    "## Draw graphs"
   ]
  },
  {
   "cell_type": "code",
   "execution_count": 630,
   "metadata": {},
   "outputs": [
    {
     "data": {
      "image/png": "[encoded data removed]",
      "text/plain": [
       "<Figure size 720x360 with 2 Axes>"
      ]
     },
     "metadata": {},
     "output_type": "display_data"
    }
   ],
   "source": [
    "import matplotlib.pyplot as plt\n",
    "\n",
    "fig, axs = plt.subplots(1, 2, figsize=(10, 5))\n",
    "nx.draw(G_example1, ax=axs[0])\n",
    "nx.draw(G_example2, ax=axs[1])\n",
    "axs[0].set_title('Example 1'); axs[1].set_title('Example 2');"
   ]
  },
  {
   "cell_type": "markdown",
   "metadata": {},
   "source": [
    "# The algorithm\n",
    "![image.png](imgs/algorithm.png)"
   ]
  },
  {
   "cell_type": "markdown",
   "metadata": {},
   "source": [
    "## 1. Form the affinity matrix\n",
    "\n",
    "In the article, Andrew Ng are using a set if points in some geometric space. We are using a graph, so we believe the affinity matrix is the adjacency matrix."
   ]
  },
  {
   "cell_type": "markdown",
   "metadata": {},
   "source": [
    "Again, read in the data and store it in a Pandas DataFrame."
   ]
  },
  {
   "cell_type": "code",
   "execution_count": 631,
   "metadata": {},
   "outputs": [
    {
     "data": {
      "text/html": [
       "<div>\n",
       "<style scoped>\n",
       "    .dataframe tbody tr th:only-of-type {\n",
       "        vertical-align: middle;\n",
       "    }\n",
       "\n",
       "    .dataframe tbody tr th {\n",
       "        vertical-align: top;\n",
       "    }\n",
       "\n",
       "    .dataframe thead th {\n",
       "        text-align: right;\n",
       "    }\n",
       "</style>\n",
       "<table border=\"1\" class=\"dataframe\">\n",
       "  <thead>\n",
       "    <tr style=\"text-align: right;\">\n",
       "      <th></th>\n",
       "      <th>from</th>\n",
       "      <th>to</th>\n",
       "      <th>weight</th>\n",
       "    </tr>\n",
       "  </thead>\n",
       "  <tbody>\n",
       "    <tr>\n",
       "      <th>0</th>\n",
       "      <td>1</td>\n",
       "      <td>2</td>\n",
       "      <td>1</td>\n",
       "    </tr>\n",
       "    <tr>\n",
       "      <th>1</th>\n",
       "      <td>1</td>\n",
       "      <td>3</td>\n",
       "      <td>1</td>\n",
       "    </tr>\n",
       "    <tr>\n",
       "      <th>2</th>\n",
       "      <td>2</td>\n",
       "      <td>1</td>\n",
       "      <td>1</td>\n",
       "    </tr>\n",
       "    <tr>\n",
       "      <th>3</th>\n",
       "      <td>2</td>\n",
       "      <td>3</td>\n",
       "      <td>1</td>\n",
       "    </tr>\n",
       "    <tr>\n",
       "      <th>4</th>\n",
       "      <td>2</td>\n",
       "      <td>4</td>\n",
       "      <td>1</td>\n",
       "    </tr>\n",
       "    <tr>\n",
       "      <th>5</th>\n",
       "      <td>3</td>\n",
       "      <td>1</td>\n",
       "      <td>1</td>\n",
       "    </tr>\n",
       "    <tr>\n",
       "      <th>6</th>\n",
       "      <td>3</td>\n",
       "      <td>2</td>\n",
       "      <td>1</td>\n",
       "    </tr>\n",
       "    <tr>\n",
       "      <th>7</th>\n",
       "      <td>4</td>\n",
       "      <td>2</td>\n",
       "      <td>1</td>\n",
       "    </tr>\n",
       "    <tr>\n",
       "      <th>8</th>\n",
       "      <td>4</td>\n",
       "      <td>5</td>\n",
       "      <td>1</td>\n",
       "    </tr>\n",
       "    <tr>\n",
       "      <th>9</th>\n",
       "      <td>4</td>\n",
       "      <td>6</td>\n",
       "      <td>1</td>\n",
       "    </tr>\n",
       "    <tr>\n",
       "      <th>10</th>\n",
       "      <td>5</td>\n",
       "      <td>4</td>\n",
       "      <td>1</td>\n",
       "    </tr>\n",
       "    <tr>\n",
       "      <th>11</th>\n",
       "      <td>5</td>\n",
       "      <td>6</td>\n",
       "      <td>1</td>\n",
       "    </tr>\n",
       "    <tr>\n",
       "      <th>12</th>\n",
       "      <td>6</td>\n",
       "      <td>4</td>\n",
       "      <td>1</td>\n",
       "    </tr>\n",
       "    <tr>\n",
       "      <th>13</th>\n",
       "      <td>6</td>\n",
       "      <td>5</td>\n",
       "      <td>1</td>\n",
       "    </tr>\n",
       "  </tbody>\n",
       "</table>\n",
       "</div>"
      ],
      "text/plain": [
       "    from  to  weight\n",
       "0      1   2       1\n",
       "1      1   3       1\n",
       "2      2   1       1\n",
       "3      2   3       1\n",
       "4      2   4       1\n",
       "5      3   1       1\n",
       "6      3   2       1\n",
       "7      4   2       1\n",
       "8      4   5       1\n",
       "9      4   6       1\n",
       "10     5   4       1\n",
       "11     5   6       1\n",
       "12     6   4       1\n",
       "13     6   5       1"
      ]
     },
     "execution_count": 631,
     "metadata": {},
     "output_type": "execute_result"
    }
   ],
   "source": [
    "df = pd.read_csv(test)\n",
    "df['weight'] = 1\n",
    "df"
   ]
  },
  {
   "cell_type": "markdown",
   "metadata": {},
   "source": [
    "Get the adjacency matrix."
   ]
  },
  {
   "cell_type": "code",
   "execution_count": 632,
   "metadata": {},
   "outputs": [
    {
     "data": {
      "text/html": [
       "<div>\n",
       "<style scoped>\n",
       "    .dataframe tbody tr th:only-of-type {\n",
       "        vertical-align: middle;\n",
       "    }\n",
       "\n",
       "    .dataframe tbody tr th {\n",
       "        vertical-align: top;\n",
       "    }\n",
       "\n",
       "    .dataframe thead th {\n",
       "        text-align: right;\n",
       "    }\n",
       "</style>\n",
       "<table border=\"1\" class=\"dataframe\">\n",
       "  <thead>\n",
       "    <tr style=\"text-align: right;\">\n",
       "      <th></th>\n",
       "      <th>0</th>\n",
       "      <th>1</th>\n",
       "      <th>2</th>\n",
       "      <th>3</th>\n",
       "      <th>4</th>\n",
       "      <th>5</th>\n",
       "    </tr>\n",
       "  </thead>\n",
       "  <tbody>\n",
       "    <tr>\n",
       "      <th>0</th>\n",
       "      <td>0</td>\n",
       "      <td>1</td>\n",
       "      <td>1</td>\n",
       "      <td>0</td>\n",
       "      <td>0</td>\n",
       "      <td>0</td>\n",
       "    </tr>\n",
       "    <tr>\n",
       "      <th>1</th>\n",
       "      <td>1</td>\n",
       "      <td>0</td>\n",
       "      <td>1</td>\n",
       "      <td>1</td>\n",
       "      <td>0</td>\n",
       "      <td>0</td>\n",
       "    </tr>\n",
       "    <tr>\n",
       "      <th>2</th>\n",
       "      <td>1</td>\n",
       "      <td>1</td>\n",
       "      <td>0</td>\n",
       "      <td>0</td>\n",
       "      <td>0</td>\n",
       "      <td>0</td>\n",
       "    </tr>\n",
       "    <tr>\n",
       "      <th>3</th>\n",
       "      <td>0</td>\n",
       "      <td>1</td>\n",
       "      <td>0</td>\n",
       "      <td>0</td>\n",
       "      <td>1</td>\n",
       "      <td>1</td>\n",
       "    </tr>\n",
       "    <tr>\n",
       "      <th>4</th>\n",
       "      <td>0</td>\n",
       "      <td>0</td>\n",
       "      <td>0</td>\n",
       "      <td>1</td>\n",
       "      <td>0</td>\n",
       "      <td>1</td>\n",
       "    </tr>\n",
       "    <tr>\n",
       "      <th>5</th>\n",
       "      <td>0</td>\n",
       "      <td>0</td>\n",
       "      <td>0</td>\n",
       "      <td>1</td>\n",
       "      <td>1</td>\n",
       "      <td>0</td>\n",
       "    </tr>\n",
       "  </tbody>\n",
       "</table>\n",
       "</div>"
      ],
      "text/plain": [
       "   0  1  2  3  4  5\n",
       "0  0  1  1  0  0  0\n",
       "1  1  0  1  1  0  0\n",
       "2  1  1  0  0  0  0\n",
       "3  0  1  0  0  1  1\n",
       "4  0  0  0  1  0  1\n",
       "5  0  0  0  1  1  0"
      ]
     },
     "execution_count": 632,
     "metadata": {},
     "output_type": "execute_result"
    }
   ],
   "source": [
    "G = nx.from_pandas_edgelist(df=df, source='from', target='to', edge_attr=['weight'])\n",
    "A = nx.to_numpy_matrix(G)\n",
    "pd.DataFrame(A, dtype=int)"
   ]
  },
  {
   "cell_type": "markdown",
   "metadata": {},
   "source": [
    "# 2. Construct the normalized Laplacian\n",
    "\n",
    "First we find the eigenvalues and eigenvectors of the adjacency matrix. Since it is symmetric, we use the python library `eigh`."
   ]
  },
  {
   "cell_type": "code",
   "execution_count": 633,
   "metadata": {},
   "outputs": [],
   "source": [
    "eigvals, eigvecs = LA.eigh(A)"
   ]
  },
  {
   "cell_type": "markdown",
   "metadata": {},
   "source": [
    "We then construct the diagonal matrix `D` from the affinity matrix `A`, where `D[i,i] = sum(A[i,:])`."
   ]
  },
  {
   "cell_type": "code",
   "execution_count": 634,
   "metadata": {},
   "outputs": [
    {
     "data": {
      "text/html": [
       "<div>\n",
       "<style scoped>\n",
       "    .dataframe tbody tr th:only-of-type {\n",
       "        vertical-align: middle;\n",
       "    }\n",
       "\n",
       "    .dataframe tbody tr th {\n",
       "        vertical-align: top;\n",
       "    }\n",
       "\n",
       "    .dataframe thead th {\n",
       "        text-align: right;\n",
       "    }\n",
       "</style>\n",
       "<table border=\"1\" class=\"dataframe\">\n",
       "  <thead>\n",
       "    <tr style=\"text-align: right;\">\n",
       "      <th></th>\n",
       "      <th>0</th>\n",
       "      <th>1</th>\n",
       "      <th>2</th>\n",
       "      <th>3</th>\n",
       "      <th>4</th>\n",
       "      <th>5</th>\n",
       "    </tr>\n",
       "  </thead>\n",
       "  <tbody>\n",
       "    <tr>\n",
       "      <th>0</th>\n",
       "      <td>2.0</td>\n",
       "      <td>0.0</td>\n",
       "      <td>0.0</td>\n",
       "      <td>0.0</td>\n",
       "      <td>0.0</td>\n",
       "      <td>0.0</td>\n",
       "    </tr>\n",
       "    <tr>\n",
       "      <th>1</th>\n",
       "      <td>0.0</td>\n",
       "      <td>3.0</td>\n",
       "      <td>0.0</td>\n",
       "      <td>0.0</td>\n",
       "      <td>0.0</td>\n",
       "      <td>0.0</td>\n",
       "    </tr>\n",
       "    <tr>\n",
       "      <th>2</th>\n",
       "      <td>0.0</td>\n",
       "      <td>0.0</td>\n",
       "      <td>2.0</td>\n",
       "      <td>0.0</td>\n",
       "      <td>0.0</td>\n",
       "      <td>0.0</td>\n",
       "    </tr>\n",
       "    <tr>\n",
       "      <th>3</th>\n",
       "      <td>0.0</td>\n",
       "      <td>0.0</td>\n",
       "      <td>0.0</td>\n",
       "      <td>3.0</td>\n",
       "      <td>0.0</td>\n",
       "      <td>0.0</td>\n",
       "    </tr>\n",
       "    <tr>\n",
       "      <th>4</th>\n",
       "      <td>0.0</td>\n",
       "      <td>0.0</td>\n",
       "      <td>0.0</td>\n",
       "      <td>0.0</td>\n",
       "      <td>2.0</td>\n",
       "      <td>0.0</td>\n",
       "    </tr>\n",
       "    <tr>\n",
       "      <th>5</th>\n",
       "      <td>0.0</td>\n",
       "      <td>0.0</td>\n",
       "      <td>0.0</td>\n",
       "      <td>0.0</td>\n",
       "      <td>0.0</td>\n",
       "      <td>2.0</td>\n",
       "    </tr>\n",
       "  </tbody>\n",
       "</table>\n",
       "</div>"
      ],
      "text/plain": [
       "     0    1    2    3    4    5\n",
       "0  2.0  0.0  0.0  0.0  0.0  0.0\n",
       "1  0.0  3.0  0.0  0.0  0.0  0.0\n",
       "2  0.0  0.0  2.0  0.0  0.0  0.0\n",
       "3  0.0  0.0  0.0  3.0  0.0  0.0\n",
       "4  0.0  0.0  0.0  0.0  2.0  0.0\n",
       "5  0.0  0.0  0.0  0.0  0.0  2.0"
      ]
     },
     "execution_count": 634,
     "metadata": {},
     "output_type": "execute_result"
    }
   ],
   "source": [
    "D = np.zeros((len(A), len(A)))\n",
    "for i in range(D.shape[0]):\n",
    "    D[i,i] = A.sum(axis=1)[i]\n",
    "\n",
    "pd.DataFrame(D)"
   ]
  },
  {
   "cell_type": "markdown",
   "metadata": {},
   "source": [
    "And now we form the Laplacian."
   ]
  },
  {
   "cell_type": "code",
   "execution_count": 635,
   "metadata": {},
   "outputs": [
    {
     "data": {
      "text/html": [
       "<div>\n",
       "<style scoped>\n",
       "    .dataframe tbody tr th:only-of-type {\n",
       "        vertical-align: middle;\n",
       "    }\n",
       "\n",
       "    .dataframe tbody tr th {\n",
       "        vertical-align: top;\n",
       "    }\n",
       "\n",
       "    .dataframe thead th {\n",
       "        text-align: right;\n",
       "    }\n",
       "</style>\n",
       "<table border=\"1\" class=\"dataframe\">\n",
       "  <thead>\n",
       "    <tr style=\"text-align: right;\">\n",
       "      <th></th>\n",
       "      <th>0</th>\n",
       "      <th>1</th>\n",
       "      <th>2</th>\n",
       "      <th>3</th>\n",
       "      <th>4</th>\n",
       "      <th>5</th>\n",
       "    </tr>\n",
       "  </thead>\n",
       "  <tbody>\n",
       "    <tr>\n",
       "      <th>0</th>\n",
       "      <td>2.0</td>\n",
       "      <td>-1.0</td>\n",
       "      <td>-1.0</td>\n",
       "      <td>0.0</td>\n",
       "      <td>0.0</td>\n",
       "      <td>0.0</td>\n",
       "    </tr>\n",
       "    <tr>\n",
       "      <th>1</th>\n",
       "      <td>-1.0</td>\n",
       "      <td>3.0</td>\n",
       "      <td>-1.0</td>\n",
       "      <td>-1.0</td>\n",
       "      <td>0.0</td>\n",
       "      <td>0.0</td>\n",
       "    </tr>\n",
       "    <tr>\n",
       "      <th>2</th>\n",
       "      <td>-1.0</td>\n",
       "      <td>-1.0</td>\n",
       "      <td>2.0</td>\n",
       "      <td>0.0</td>\n",
       "      <td>0.0</td>\n",
       "      <td>0.0</td>\n",
       "    </tr>\n",
       "    <tr>\n",
       "      <th>3</th>\n",
       "      <td>0.0</td>\n",
       "      <td>-1.0</td>\n",
       "      <td>0.0</td>\n",
       "      <td>3.0</td>\n",
       "      <td>-1.0</td>\n",
       "      <td>-1.0</td>\n",
       "    </tr>\n",
       "    <tr>\n",
       "      <th>4</th>\n",
       "      <td>0.0</td>\n",
       "      <td>0.0</td>\n",
       "      <td>0.0</td>\n",
       "      <td>-1.0</td>\n",
       "      <td>2.0</td>\n",
       "      <td>-1.0</td>\n",
       "    </tr>\n",
       "    <tr>\n",
       "      <th>5</th>\n",
       "      <td>0.0</td>\n",
       "      <td>0.0</td>\n",
       "      <td>0.0</td>\n",
       "      <td>-1.0</td>\n",
       "      <td>-1.0</td>\n",
       "      <td>2.0</td>\n",
       "    </tr>\n",
       "  </tbody>\n",
       "</table>\n",
       "</div>"
      ],
      "text/plain": [
       "     0    1    2    3    4    5\n",
       "0  2.0 -1.0 -1.0  0.0  0.0  0.0\n",
       "1 -1.0  3.0 -1.0 -1.0  0.0  0.0\n",
       "2 -1.0 -1.0  2.0  0.0  0.0  0.0\n",
       "3  0.0 -1.0  0.0  3.0 -1.0 -1.0\n",
       "4  0.0  0.0  0.0 -1.0  2.0 -1.0\n",
       "5  0.0  0.0  0.0 -1.0 -1.0  2.0"
      ]
     },
     "execution_count": 635,
     "metadata": {},
     "output_type": "execute_result"
    }
   ],
   "source": [
    "#L = ((sqrtm(inv(D))).dot(A)).dot(sqrtm(inv(D)))\n",
    "L = D - A\n",
    "pd.DataFrame(L)"
   ]
  },
  {
   "cell_type": "markdown",
   "metadata": {},
   "source": [
    "Find the eignvalues and eigenvectors of the normalized Laplacian `L`.\n",
    "\n",
    "> **From the article:** normalize rows to have unit length"
   ]
  },
  {
   "cell_type": "code",
   "execution_count": 636,
   "metadata": {},
   "outputs": [
    {
     "name": "stdout",
     "output_type": "stream",
     "text": [
      "              0\n",
      "0 -7.077672e-16\n",
      "1  4.384472e-01\n",
      "2  3.000000e+00\n",
      "3  3.000000e+00\n",
      "4  3.000000e+00\n",
      "5  4.561553e+00\n",
      "          0         1         2         3         4         5\n",
      "0 -0.408248  0.464705  0.660891  0.344680 -0.166590  0.184524\n",
      "1 -0.408248  0.260956 -0.374851  0.023266 -0.438496 -0.657192\n",
      "2 -0.408248  0.464705 -0.286040 -0.367947  0.605086  0.184524\n",
      "3 -0.408248 -0.260956 -0.374851  0.023266 -0.438496  0.657192\n",
      "4 -0.408248 -0.464705 -0.067645  0.598472  0.469669 -0.184524\n",
      "5 -0.408248 -0.464705  0.442496 -0.621739 -0.031173 -0.184524\n"
     ]
    }
   ],
   "source": [
    "eigvals, eigvecs = LA.eigh(L)\n",
    "print(pd.DataFrame(eigvals))\n",
    "print(pd.DataFrame(eigvecs))"
   ]
  },
  {
   "cell_type": "markdown",
   "metadata": {},
   "source": [
    "The eigenvectors are already sorted and normalized as per the Numpy implementation, so we can just take the first `k` of them."
   ]
  },
  {
   "cell_type": "code",
   "execution_count": 637,
   "metadata": {},
   "outputs": [
    {
     "data": {
      "text/html": [
       "<div>\n",
       "<style scoped>\n",
       "    .dataframe tbody tr th:only-of-type {\n",
       "        vertical-align: middle;\n",
       "    }\n",
       "\n",
       "    .dataframe tbody tr th {\n",
       "        vertical-align: top;\n",
       "    }\n",
       "\n",
       "    .dataframe thead th {\n",
       "        text-align: right;\n",
       "    }\n",
       "</style>\n",
       "<table border=\"1\" class=\"dataframe\">\n",
       "  <thead>\n",
       "    <tr style=\"text-align: right;\">\n",
       "      <th></th>\n",
       "      <th>0</th>\n",
       "      <th>1</th>\n",
       "    </tr>\n",
       "  </thead>\n",
       "  <tbody>\n",
       "    <tr>\n",
       "      <th>0</th>\n",
       "      <td>-0.408248</td>\n",
       "      <td>0.464705</td>\n",
       "    </tr>\n",
       "    <tr>\n",
       "      <th>1</th>\n",
       "      <td>-0.408248</td>\n",
       "      <td>0.260956</td>\n",
       "    </tr>\n",
       "    <tr>\n",
       "      <th>2</th>\n",
       "      <td>-0.408248</td>\n",
       "      <td>0.464705</td>\n",
       "    </tr>\n",
       "    <tr>\n",
       "      <th>3</th>\n",
       "      <td>-0.408248</td>\n",
       "      <td>-0.260956</td>\n",
       "    </tr>\n",
       "    <tr>\n",
       "      <th>4</th>\n",
       "      <td>-0.408248</td>\n",
       "      <td>-0.464705</td>\n",
       "    </tr>\n",
       "    <tr>\n",
       "      <th>5</th>\n",
       "      <td>-0.408248</td>\n",
       "      <td>-0.464705</td>\n",
       "    </tr>\n",
       "  </tbody>\n",
       "</table>\n",
       "</div>"
      ],
      "text/plain": [
       "          0         1\n",
       "0 -0.408248  0.464705\n",
       "1 -0.408248  0.260956\n",
       "2 -0.408248  0.464705\n",
       "3 -0.408248 -0.260956\n",
       "4 -0.408248 -0.464705\n",
       "5 -0.408248 -0.464705"
      ]
     },
     "execution_count": 637,
     "metadata": {},
     "output_type": "execute_result"
    }
   ],
   "source": [
    "k = 2\n",
    "Y = eigvecs[:,0:k]\n",
    "pd.DataFrame(Y)"
   ]
  },
  {
   "cell_type": "code",
   "execution_count": 638,
   "metadata": {},
   "outputs": [],
   "source": [
    "from sklearn.cluster import KMeans\n",
    "\n",
    "kmeans = KMeans(n_clusters=k).fit(np.asarray(Y))\n",
    "\n",
    "clusters = kmeans.labels_"
   ]
  },
  {
   "cell_type": "markdown",
   "metadata": {},
   "source": [
    "Now, proceed with the assigning the original points (in our case, rows in the affinity matrix) to the clusters."
   ]
  },
  {
   "cell_type": "code",
   "execution_count": 639,
   "metadata": {},
   "outputs": [
    {
     "data": {
      "image/png": "[encoded data removed]",
      "text/plain": [
       "<Figure size 432x288 with 1 Axes>"
      ]
     },
     "metadata": {},
     "output_type": "display_data"
    }
   ],
   "source": [
    "colors = {0: 'red', 1: 'blue'}\n",
    "nx.draw(G, node_color=[colors[cluster] for cluster in clusters])"
   ]
  },
  {
   "cell_type": "markdown",
   "metadata": {},
   "source": [
    "# `SpectralClustering` class"
   ]
  },
  {
   "cell_type": "code",
   "execution_count": 646,
   "metadata": {},
   "outputs": [],
   "source": [
    "class SpectralClustering:\n",
    "    def __init__(self, G, k=5):\n",
    "        \"\"\"\n",
    "        Adjecency list is a networkx graph\n",
    "        \"\"\"\n",
    "        self.G = G\n",
    "        self.k = k\n",
    "        self.clusters = None\n",
    "        self.fiedler_vector = None\n",
    "\n",
    "    def fit(self, adjecency_list):\n",
    "        \"\"\"\n",
    "        This method runs the spectral clustering algorithm\n",
    "        Instead of normalizing the laplacian, we use L = D - A\n",
    "        \"\"\"\n",
    "        # step 1\n",
    "        self.A = nx.to_numpy_matrix(adjecency_list)\n",
    "        # step 2    \n",
    "        D = self.diy_diagonalize(self.A)\n",
    "        L = ((sqrtm(inv(D))).dot(self.A)).dot(sqrtm(inv(D)))\n",
    "        #L = D - self.A\n",
    "        self.L = L\n",
    "        # step 3\n",
    "        eigvals, eigvecs = LA.eigh(L)\n",
    "        # step 4\n",
    "        # NOTE the eigenvectors are already normalized\n",
    "        # step 5\n",
    "        Y = eigvecs[:,:k]\n",
    "        kmeans = KMeans(n_clusters=self.k, random_state=0).fit(np.asarray(Y))\n",
    "        self.clusters = kmeans.labels_\n",
    "        self.fiedler_vector = self.set_fiedler_vector()\n",
    "        # half step 6\n",
    "\n",
    "    def normalize(self, matrix):\n",
    "        \"\"\"\n",
    "        This method normalizes a matrix\n",
    "        \"\"\"\n",
    "        return matrix / np.linalg.norm(matrix, axis=1)\n",
    "\n",
    "    def diy_diagonalize(self, matrix):\n",
    "        \"\"\"\n",
    "        I have the wrong np version so I can't use np.diag\n",
    "        \"\"\"\n",
    "        D = np.zeros((len(self.A), len(self.A)))\n",
    "        for i in range(D.shape[0]):\n",
    "            D[i,i] = self.A.sum(axis=1)[i]\n",
    "        return D\n",
    "\n",
    "    def set_fiedler_vector(self):\n",
    "        \"\"\"\n",
    "        This method sets the fiedler vector\n",
    "        \"\"\"\n",
    "        # degree matrix\n",
    "        D = self.diy_diagonalize(self.A)\n",
    "        #L = ((sqrtm(inv(D))).dot(self.A)).dot(sqrtm(inv(D)))\n",
    "        L = D-self.A\n",
    "        eigvals, eigvecs = LA.eigh(L)\n",
    "        self.eigvecs = eigvecs\n",
    "        return eigvecs[:,1]\n",
    "\n",
    "    def number_of_components(self, threshold = 1e-10):\n",
    "        \"\"\"\n",
    "        [From wiki] The number of times 0 appears as an eigenvalue in the Laplacian is the number of connected components in the graph\n",
    "        \"\"\"\n",
    "        eigvals, _ = LA.eigh(self.L)\n",
    "        return len([eigval for eigval in eigvals if eigval < threshold])\n",
    "\n",
    "    def plot_fiedler_vector(self):\n",
    "        \"\"\"\n",
    "        This method plots the fiedler vector\n",
    "        \"\"\"\n",
    "        plt.plot(np.sort(self.fiedler_vector))\n",
    "        plt.show()\n",
    "    \n",
    "    def plot(self):\n",
    "        colors = {0: 'red', 1: 'blue', 2: 'green', 3: 'orange', 4: 'purple', 5: 'gray', 6: 'yellow', 7: 'pink', 8: 'black', 9: 'brown', 10: 'cyan'}\n",
    "        nx.draw(self.G, node_color=[colors[cluster] for cluster in self.clusters])\n",
    "        plt.show()"
   ]
  },
  {
   "cell_type": "markdown",
   "metadata": {},
   "source": [
    "## Example 1\n",
    "\n",
    "Let's see if the class works with the data we have been provided."
   ]
  },
  {
   "cell_type": "code",
   "execution_count": 641,
   "metadata": {},
   "outputs": [
    {
     "name": "stdout",
     "output_type": "stream",
     "text": [
      "Number of unique nodes:  241\n"
     ]
    }
   ],
   "source": [
    "example1 = './data/example1.dat'\n",
    "\n",
    "# requires us to append a weight column\n",
    "df = pd.read_csv(example1)\n",
    "df['weight'] = 1\n",
    "\n",
    "print(\"Number of unique nodes: \", df['from'].nunique())"
   ]
  },
  {
   "cell_type": "code",
   "execution_count": 642,
   "metadata": {},
   "outputs": [
    {
     "name": "stdout",
     "output_type": "stream",
     "text": [
      "[3 1 0 2 3 0 0 0 0 0 0 0 0 0 1 1 2 0 0 0 2 0 1 3 0 0 0 0 2 2 0 0 0 0 2 2 0\n",
      " 1 2 0 0 1 0 0 0 1 0 1 2 2 2 2 2 0 0 1 0 3 1 2 0 2 1 1 0 0 0 0 0 0 0 2 0 0\n",
      " 2 1 0 3 0 0 0 2 0 0 2 2 2 1 1 2 1 2 2 0 0 0 2 0 1 1 0 0 0 1 1 1 0 0 0 1 0\n",
      " 0 1 1 0 0 0 0 0 0 0 0 0 0 0 0 0 0 0 0 0 0 0 0 0 0 0 0 0 0 0 0 0 0 0 0 0 0\n",
      " 0 0 0 0 0 0 0 0 0 0 0 0 0 0 0 0 0 0 0 0 0 0 0 0 0 0 0 0 0 0 0 0 0 0 0 0 0\n",
      " 0 0 0 0 0 0 0 0 0 0 0 0 0 0 0 0 0 0 0 0 0 0 0 0 0 0 0 0 0 0 0 0 0 0 0 0 0\n",
      " 0 0 0 0 0 0 0 0 0 0 0 0 0 0 0 0 0 0 0]\n"
     ]
    },
    {
     "data": {
      "image/png": "[encoded data removed]",
      "text/plain": [
       "<Figure size 432x288 with 1 Axes>"
      ]
     },
     "metadata": {},
     "output_type": "display_data"
    },
    {
     "name": "stdout",
     "output_type": "stream",
     "text": [
      "Number of components:  132\n"
     ]
    }
   ],
   "source": [
    "# set up the graph\n",
    "G = nx.from_pandas_edgelist(df=df, source='from', target='to', edge_attr=['weight'])\n",
    "\n",
    "# make a new spectral clustering object and fit the graph\n",
    "sc = SpectralClustering(G=G, k=4)\n",
    "sc.fit(G)\n",
    "\n",
    "# plot and print the number of components\n",
    "sc.plot()\n",
    "print(\"Number of components: \", sc.number_of_components())"
   ]
  },
  {
   "cell_type": "markdown",
   "metadata": {},
   "source": [
    "## Example 2"
   ]
  },
  {
   "cell_type": "code",
   "execution_count": 643,
   "metadata": {},
   "outputs": [
    {
     "name": "stdout",
     "output_type": "stream",
     "text": [
      "Number of unique nodes:  100\n"
     ]
    }
   ],
   "source": [
    "example2 = './data/example2.dat'\n",
    "df = pd.read_csv(example2)\n",
    "\n",
    "print(\"Number of unique nodes: \", df['from'].nunique())"
   ]
  },
  {
   "cell_type": "code",
   "execution_count": 644,
   "metadata": {},
   "outputs": [
    {
     "name": "stdout",
     "output_type": "stream",
     "text": [
      "[0 1 1 1 1 1 0 1 1 0 0 0 0 1 0 0 1 0 1 0 0 1 0 0 0 1 1 0 1 1 1 1 1 1 0 1 0\n",
      " 0 0 0 1 1 1 1 1 0 0 1 1 0 0 0 1 0 0 0 1 0 1 0 0 0 1 0 1 1 0 0 0 0 0 0 0 0\n",
      " 1 1 0 0 0 0 0 1 1 1 1 1 0 0 0 0 1 0 1 0 1 0 1 0 1 0]\n"
     ]
    },
    {
     "data": {
      "image/png": "[encoded data removed]",
      "text/plain": [
       "<Figure size 432x288 with 1 Axes>"
      ]
     },
     "metadata": {},
     "output_type": "display_data"
    },
    {
     "name": "stdout",
     "output_type": "stream",
     "text": [
      "Number of components:  53\n"
     ]
    }
   ],
   "source": [
    "# set up the graph\n",
    "G = nx.from_pandas_edgelist(df=df, source='from', target='to', edge_attr=['weight'])\n",
    "\n",
    "# make a new spectral clustering object and fit the graph\n",
    "sc = SpectralClustering(G=G, k=2)\n",
    "sc.fit(G)\n",
    "\n",
    "# plot and print the number of components\n",
    "sc.plot()\n",
    "print(\"Number of components: \", sc.number_of_components())"
   ]
  },
  {
   "cell_type": "code",
   "execution_count": 645,
   "metadata": {},
   "outputs": [
    {
     "data": {
      "text/plain": [
       "array([1., 1., 1.])"
      ]
     },
     "execution_count": 645,
     "metadata": {},
     "output_type": "execute_result"
    }
   ],
   "source": [
    "# create a numpy 3x3 matrix \n",
    "A = np.random.randint(10, size=9).reshape(3,3)\n",
    "\n",
    "a, b = LA.eigh(A)\n",
    "\n",
    "# assert that the length of each row is 1\n",
    "np.linalg.norm(b, axis=0)\n"
   ]
  }
 ],
 "metadata": {
  "kernelspec": {
   "display_name": "Python 3.9.12 ('base')",
   "language": "python",
   "name": "python3"
  },
  "language_info": {
   "codemirror_mode": {
    "name": "ipython",
    "version": 3
   },
   "file_extension": ".py",
   "mimetype": "text/x-python",
   "name": "python",
   "nbconvert_exporter": "python",
   "pygments_lexer": "ipython3",
   "version": "3.9.12"
  },
  "orig_nbformat": 4,
  "vscode": {
   "interpreter": {
    "hash": "c4200fda7ae0bf3cda7b10749c5e0fe119cbdfd5a55ffd50b4380f0cc79b68b0"
   }
  }
 },
 "nbformat": 4,
 "nbformat_minor": 2
}
