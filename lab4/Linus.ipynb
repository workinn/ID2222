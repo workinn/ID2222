{
 "cells": [
  {
   "cell_type": "markdown",
   "metadata": {},
   "source": [
    "# Lab 4 -- Spectral Clustering\n",
    "* Paper: [On Spectral Clustering: Analysis and an algorithm](http://ai.stanford.edu/~ang/papers/nips01-spectral.pdf)"
   ]
  },
  {
   "cell_type": "code",
   "execution_count": 1501,
   "metadata": {},
   "outputs": [],
   "source": [
    "import numpy as np\n",
    "from numpy.linalg import inv\n",
    "from numpy import linalg as LA\n",
    "from scipy.linalg import sqrtm, eigh\n",
    "import pandas as pd\n",
    "import networkx as nx"
   ]
  },
  {
   "cell_type": "markdown",
   "metadata": {},
   "source": [
    "# Warm-up\n",
    "\n",
    "> **Lab description**:  As a warm-up task, you should first compute the eigenvectors and eigenvalues of a set of graphs and find out how many communities these graphs have. \n",
    "\n",
    "We include the warm-up too, and we'll perform the eigendecomposition on the test graph."
   ]
  },
  {
   "cell_type": "code",
   "execution_count": 1502,
   "metadata": {},
   "outputs": [],
   "source": [
    "test = './data/test.dat'"
   ]
  },
  {
   "cell_type": "markdown",
   "metadata": {},
   "source": [
    "Let's store the data in a Pandas DataFrame."
   ]
  },
  {
   "cell_type": "code",
   "execution_count": 1503,
   "metadata": {},
   "outputs": [
    {
     "data": {
      "text/html": [
       "<div>\n",
       "<style scoped>\n",
       "    .dataframe tbody tr th:only-of-type {\n",
       "        vertical-align: middle;\n",
       "    }\n",
       "\n",
       "    .dataframe tbody tr th {\n",
       "        vertical-align: top;\n",
       "    }\n",
       "\n",
       "    .dataframe thead th {\n",
       "        text-align: right;\n",
       "    }\n",
       "</style>\n",
       "<table border=\"1\" class=\"dataframe\">\n",
       "  <thead>\n",
       "    <tr style=\"text-align: right;\">\n",
       "      <th></th>\n",
       "      <th>from</th>\n",
       "      <th>to</th>\n",
       "      <th>weight</th>\n",
       "    </tr>\n",
       "  </thead>\n",
       "  <tbody>\n",
       "    <tr>\n",
       "      <th>0</th>\n",
       "      <td>1</td>\n",
       "      <td>2</td>\n",
       "      <td>1</td>\n",
       "    </tr>\n",
       "    <tr>\n",
       "      <th>1</th>\n",
       "      <td>1</td>\n",
       "      <td>3</td>\n",
       "      <td>1</td>\n",
       "    </tr>\n",
       "    <tr>\n",
       "      <th>2</th>\n",
       "      <td>2</td>\n",
       "      <td>1</td>\n",
       "      <td>1</td>\n",
       "    </tr>\n",
       "    <tr>\n",
       "      <th>3</th>\n",
       "      <td>2</td>\n",
       "      <td>3</td>\n",
       "      <td>1</td>\n",
       "    </tr>\n",
       "    <tr>\n",
       "      <th>4</th>\n",
       "      <td>2</td>\n",
       "      <td>4</td>\n",
       "      <td>1</td>\n",
       "    </tr>\n",
       "    <tr>\n",
       "      <th>5</th>\n",
       "      <td>3</td>\n",
       "      <td>1</td>\n",
       "      <td>1</td>\n",
       "    </tr>\n",
       "    <tr>\n",
       "      <th>6</th>\n",
       "      <td>3</td>\n",
       "      <td>2</td>\n",
       "      <td>1</td>\n",
       "    </tr>\n",
       "    <tr>\n",
       "      <th>7</th>\n",
       "      <td>4</td>\n",
       "      <td>2</td>\n",
       "      <td>1</td>\n",
       "    </tr>\n",
       "    <tr>\n",
       "      <th>8</th>\n",
       "      <td>4</td>\n",
       "      <td>5</td>\n",
       "      <td>1</td>\n",
       "    </tr>\n",
       "    <tr>\n",
       "      <th>9</th>\n",
       "      <td>4</td>\n",
       "      <td>6</td>\n",
       "      <td>1</td>\n",
       "    </tr>\n",
       "    <tr>\n",
       "      <th>10</th>\n",
       "      <td>5</td>\n",
       "      <td>4</td>\n",
       "      <td>1</td>\n",
       "    </tr>\n",
       "    <tr>\n",
       "      <th>11</th>\n",
       "      <td>5</td>\n",
       "      <td>6</td>\n",
       "      <td>1</td>\n",
       "    </tr>\n",
       "    <tr>\n",
       "      <th>12</th>\n",
       "      <td>6</td>\n",
       "      <td>4</td>\n",
       "      <td>1</td>\n",
       "    </tr>\n",
       "    <tr>\n",
       "      <th>13</th>\n",
       "      <td>6</td>\n",
       "      <td>5</td>\n",
       "      <td>1</td>\n",
       "    </tr>\n",
       "  </tbody>\n",
       "</table>\n",
       "</div>"
      ],
      "text/plain": [
       "    from  to  weight\n",
       "0      1   2       1\n",
       "1      1   3       1\n",
       "2      2   1       1\n",
       "3      2   3       1\n",
       "4      2   4       1\n",
       "5      3   1       1\n",
       "6      3   2       1\n",
       "7      4   2       1\n",
       "8      4   5       1\n",
       "9      4   6       1\n",
       "10     5   4       1\n",
       "11     5   6       1\n",
       "12     6   4       1\n",
       "13     6   5       1"
      ]
     },
     "execution_count": 1503,
     "metadata": {},
     "output_type": "execute_result"
    }
   ],
   "source": [
    "df = pd.read_csv(test)\n",
    "df['weight'] = 1\n",
    "df"
   ]
  },
  {
   "cell_type": "markdown",
   "metadata": {},
   "source": [
    "We'll keep a high level of abstraction by using the Python library `networkx` to create the graph. It actually has several of useful functions for graph analysis, but we'll just use it for the graph creation and plotting."
   ]
  },
  {
   "cell_type": "code",
   "execution_count": 1504,
   "metadata": {},
   "outputs": [],
   "source": [
    "G = nx.from_pandas_edgelist(df=df, source='from', target='to', edge_attr=['weight'])"
   ]
  },
  {
   "cell_type": "code",
   "execution_count": 1505,
   "metadata": {},
   "outputs": [
    {
     "data": {
      "text/html": [
       "<div>\n",
       "<style scoped>\n",
       "    .dataframe tbody tr th:only-of-type {\n",
       "        vertical-align: middle;\n",
       "    }\n",
       "\n",
       "    .dataframe tbody tr th {\n",
       "        vertical-align: top;\n",
       "    }\n",
       "\n",
       "    .dataframe thead th {\n",
       "        text-align: right;\n",
       "    }\n",
       "</style>\n",
       "<table border=\"1\" class=\"dataframe\">\n",
       "  <thead>\n",
       "    <tr style=\"text-align: right;\">\n",
       "      <th></th>\n",
       "      <th>0</th>\n",
       "      <th>1</th>\n",
       "      <th>2</th>\n",
       "      <th>3</th>\n",
       "      <th>4</th>\n",
       "      <th>5</th>\n",
       "    </tr>\n",
       "  </thead>\n",
       "  <tbody>\n",
       "    <tr>\n",
       "      <th>0</th>\n",
       "      <td>0</td>\n",
       "      <td>1</td>\n",
       "      <td>1</td>\n",
       "      <td>0</td>\n",
       "      <td>0</td>\n",
       "      <td>0</td>\n",
       "    </tr>\n",
       "    <tr>\n",
       "      <th>1</th>\n",
       "      <td>1</td>\n",
       "      <td>0</td>\n",
       "      <td>1</td>\n",
       "      <td>1</td>\n",
       "      <td>0</td>\n",
       "      <td>0</td>\n",
       "    </tr>\n",
       "    <tr>\n",
       "      <th>2</th>\n",
       "      <td>1</td>\n",
       "      <td>1</td>\n",
       "      <td>0</td>\n",
       "      <td>0</td>\n",
       "      <td>0</td>\n",
       "      <td>0</td>\n",
       "    </tr>\n",
       "    <tr>\n",
       "      <th>3</th>\n",
       "      <td>0</td>\n",
       "      <td>1</td>\n",
       "      <td>0</td>\n",
       "      <td>0</td>\n",
       "      <td>1</td>\n",
       "      <td>1</td>\n",
       "    </tr>\n",
       "    <tr>\n",
       "      <th>4</th>\n",
       "      <td>0</td>\n",
       "      <td>0</td>\n",
       "      <td>0</td>\n",
       "      <td>1</td>\n",
       "      <td>0</td>\n",
       "      <td>1</td>\n",
       "    </tr>\n",
       "    <tr>\n",
       "      <th>5</th>\n",
       "      <td>0</td>\n",
       "      <td>0</td>\n",
       "      <td>0</td>\n",
       "      <td>1</td>\n",
       "      <td>1</td>\n",
       "      <td>0</td>\n",
       "    </tr>\n",
       "  </tbody>\n",
       "</table>\n",
       "</div>"
      ],
      "text/plain": [
       "   0  1  2  3  4  5\n",
       "0  0  1  1  0  0  0\n",
       "1  1  0  1  1  0  0\n",
       "2  1  1  0  0  0  0\n",
       "3  0  1  0  0  1  1\n",
       "4  0  0  0  1  0  1\n",
       "5  0  0  0  1  1  0"
      ]
     },
     "execution_count": 1505,
     "metadata": {},
     "output_type": "execute_result"
    }
   ],
   "source": [
    "A = nx.to_numpy_matrix(G)\n",
    "pd.DataFrame(points, dtype=int)"
   ]
  },
  {
   "cell_type": "markdown",
   "metadata": {},
   "source": [
    "Now I use numpy to find the eigenvalues and eigenvectors of the sparse matrix.\n",
    "\n",
    "`LA.eigh(A)` returns:\n",
    "\n",
    "* `eigvals`: a 1D array of eigenvalues\n",
    "* `eigvecs`: a 2D array of normalized (unit \"length) eigenvectors, so when picking the $k$ first eigenvectors, it is what is called $Y$ in the paper\n"
   ]
  },
  {
   "cell_type": "code",
   "execution_count": 1506,
   "metadata": {},
   "outputs": [
    {
     "name": "stdout",
     "output_type": "stream",
     "text": [
      "          0\n",
      "0 -1.732051\n",
      "1 -1.000000\n",
      "2 -1.000000\n",
      "3 -0.414214\n",
      "4  1.732051\n",
      "5  2.414214\n",
      "          0             1             2         3         4         5\n",
      "0 -0.229850  7.071068e-01  0.000000e+00 -0.353553 -0.444037  0.353553\n",
      "1  0.627963 -3.330669e-16 -5.680648e-17  0.500000 -0.325058  0.500000\n",
      "2 -0.229850 -7.071068e-01  5.680648e-17 -0.353553 -0.444037  0.353553\n",
      "3 -0.627963 -4.996004e-16  3.697785e-32  0.500000  0.325058  0.500000\n",
      "4  0.229850  2.775558e-16 -7.071068e-01 -0.353553  0.444037  0.353553\n",
      "5  0.229850  2.775558e-16  7.071068e-01 -0.353553  0.444037  0.353553\n"
     ]
    }
   ],
   "source": [
    "eigvals, eigvecs = LA.eigh(A)\n",
    "print(pd.DataFrame(eigvals))\n",
    "print(pd.DataFrame(eigvecs))"
   ]
  },
  {
   "cell_type": "markdown",
   "metadata": {},
   "source": [
    "That latter matrix is the normal eigenvectors, sorted according to the 1D vector above. That concludes the warmup, let's continue with the main task."
   ]
  },
  {
   "cell_type": "markdown",
   "metadata": {},
   "source": [
    "# Initial analysis\n",
    "\n",
    "We are going to explore the two datasets by plotting them first."
   ]
  },
  {
   "cell_type": "markdown",
   "metadata": {},
   "source": [
    "## Read data and setup graphs"
   ]
  },
  {
   "cell_type": "code",
   "execution_count": 1507,
   "metadata": {},
   "outputs": [],
   "source": [
    "example1 = './data/example1.dat'\n",
    "example2 = './data/example2.dat'\n",
    "\n",
    "# appending a weight column\n",
    "df_example1 = pd.read_csv(example1)\n",
    "df_example1['weight'] = 1\n",
    "\n",
    "# already has a weight column\n",
    "df_example2 = pd.read_csv(example2)\n",
    "\n",
    "# create a graph from the data\n",
    "G_example1 = nx.from_pandas_edgelist(df=df_example1, source='from', target='to', edge_attr=['weight'])\n",
    "G_example2 = nx.from_pandas_edgelist(df=df_example2, source='from', target='to', edge_attr=['weight'])"
   ]
  },
  {
   "cell_type": "markdown",
   "metadata": {},
   "source": [
    "## Draw graphs"
   ]
  },
  {
   "cell_type": "markdown",
   "metadata": {},
   "source": [
    "To get a sense of how the data is structured, let's plot the graphs."
   ]
  },
  {
   "cell_type": "code",
   "execution_count": 1508,
   "metadata": {},
   "outputs": [
    {
     "data": {
      "image/png": "[encoded data removed]",
      "text/plain": [
       "<Figure size 720x360 with 2 Axes>"
      ]
     },
     "metadata": {},
     "output_type": "display_data"
    }
   ],
   "source": [
    "import matplotlib.pyplot as plt\n",
    "\n",
    "fig, axs = plt.subplots(1, 2, figsize=(10, 5))\n",
    "nx.draw(G_example1, ax=axs[0])\n",
    "nx.draw(G_example2, ax=axs[1])\n",
    "axs[0].set_title('Example 1'); axs[1].set_title('Example 2');"
   ]
  },
  {
   "cell_type": "markdown",
   "metadata": {},
   "source": [
    "# The algorithm\n",
    "![image.png](imgs/algorithm.png)"
   ]
  },
  {
   "cell_type": "markdown",
   "metadata": {},
   "source": [
    "Depending on how you find the eigenvectors, you may not need to do step 4. Scipy's `LA.eigh` returns the eigenvectors normalized and sorted by eigenvalue. First we'll perform all steps on the test data, then we'll collect them in a class and do the analysis on the main data."
   ]
  },
  {
   "cell_type": "markdown",
   "metadata": {},
   "source": [
    "## 1. Form the affinity matrix\n",
    "\n",
    "In the article, Andrew Ng are using a set if points in some geometric space. We are using a graph, so we believe the affinity matrix is the adjacency matrix (which was later confirmed by the TA)."
   ]
  },
  {
   "cell_type": "markdown",
   "metadata": {},
   "source": [
    "Again, read in the data and store it in a Pandas DataFrame."
   ]
  },
  {
   "cell_type": "code",
   "execution_count": 1509,
   "metadata": {},
   "outputs": [
    {
     "data": {
      "text/html": [
       "<div>\n",
       "<style scoped>\n",
       "    .dataframe tbody tr th:only-of-type {\n",
       "        vertical-align: middle;\n",
       "    }\n",
       "\n",
       "    .dataframe tbody tr th {\n",
       "        vertical-align: top;\n",
       "    }\n",
       "\n",
       "    .dataframe thead th {\n",
       "        text-align: right;\n",
       "    }\n",
       "</style>\n",
       "<table border=\"1\" class=\"dataframe\">\n",
       "  <thead>\n",
       "    <tr style=\"text-align: right;\">\n",
       "      <th></th>\n",
       "      <th>from</th>\n",
       "      <th>to</th>\n",
       "      <th>weight</th>\n",
       "    </tr>\n",
       "  </thead>\n",
       "  <tbody>\n",
       "    <tr>\n",
       "      <th>0</th>\n",
       "      <td>1</td>\n",
       "      <td>2</td>\n",
       "      <td>1</td>\n",
       "    </tr>\n",
       "    <tr>\n",
       "      <th>1</th>\n",
       "      <td>1</td>\n",
       "      <td>3</td>\n",
       "      <td>1</td>\n",
       "    </tr>\n",
       "    <tr>\n",
       "      <th>2</th>\n",
       "      <td>2</td>\n",
       "      <td>1</td>\n",
       "      <td>1</td>\n",
       "    </tr>\n",
       "    <tr>\n",
       "      <th>3</th>\n",
       "      <td>2</td>\n",
       "      <td>3</td>\n",
       "      <td>1</td>\n",
       "    </tr>\n",
       "    <tr>\n",
       "      <th>4</th>\n",
       "      <td>2</td>\n",
       "      <td>4</td>\n",
       "      <td>1</td>\n",
       "    </tr>\n",
       "    <tr>\n",
       "      <th>5</th>\n",
       "      <td>3</td>\n",
       "      <td>1</td>\n",
       "      <td>1</td>\n",
       "    </tr>\n",
       "    <tr>\n",
       "      <th>6</th>\n",
       "      <td>3</td>\n",
       "      <td>2</td>\n",
       "      <td>1</td>\n",
       "    </tr>\n",
       "    <tr>\n",
       "      <th>7</th>\n",
       "      <td>4</td>\n",
       "      <td>2</td>\n",
       "      <td>1</td>\n",
       "    </tr>\n",
       "    <tr>\n",
       "      <th>8</th>\n",
       "      <td>4</td>\n",
       "      <td>5</td>\n",
       "      <td>1</td>\n",
       "    </tr>\n",
       "    <tr>\n",
       "      <th>9</th>\n",
       "      <td>4</td>\n",
       "      <td>6</td>\n",
       "      <td>1</td>\n",
       "    </tr>\n",
       "    <tr>\n",
       "      <th>10</th>\n",
       "      <td>5</td>\n",
       "      <td>4</td>\n",
       "      <td>1</td>\n",
       "    </tr>\n",
       "    <tr>\n",
       "      <th>11</th>\n",
       "      <td>5</td>\n",
       "      <td>6</td>\n",
       "      <td>1</td>\n",
       "    </tr>\n",
       "    <tr>\n",
       "      <th>12</th>\n",
       "      <td>6</td>\n",
       "      <td>4</td>\n",
       "      <td>1</td>\n",
       "    </tr>\n",
       "    <tr>\n",
       "      <th>13</th>\n",
       "      <td>6</td>\n",
       "      <td>5</td>\n",
       "      <td>1</td>\n",
       "    </tr>\n",
       "  </tbody>\n",
       "</table>\n",
       "</div>"
      ],
      "text/plain": [
       "    from  to  weight\n",
       "0      1   2       1\n",
       "1      1   3       1\n",
       "2      2   1       1\n",
       "3      2   3       1\n",
       "4      2   4       1\n",
       "5      3   1       1\n",
       "6      3   2       1\n",
       "7      4   2       1\n",
       "8      4   5       1\n",
       "9      4   6       1\n",
       "10     5   4       1\n",
       "11     5   6       1\n",
       "12     6   4       1\n",
       "13     6   5       1"
      ]
     },
     "execution_count": 1509,
     "metadata": {},
     "output_type": "execute_result"
    }
   ],
   "source": [
    "df = pd.read_csv(test)\n",
    "df['weight'] = 1\n",
    "df"
   ]
  },
  {
   "cell_type": "markdown",
   "metadata": {},
   "source": [
    "Get the adjacency matrix."
   ]
  },
  {
   "cell_type": "code",
   "execution_count": 1510,
   "metadata": {},
   "outputs": [
    {
     "data": {
      "text/html": [
       "<div>\n",
       "<style scoped>\n",
       "    .dataframe tbody tr th:only-of-type {\n",
       "        vertical-align: middle;\n",
       "    }\n",
       "\n",
       "    .dataframe tbody tr th {\n",
       "        vertical-align: top;\n",
       "    }\n",
       "\n",
       "    .dataframe thead th {\n",
       "        text-align: right;\n",
       "    }\n",
       "</style>\n",
       "<table border=\"1\" class=\"dataframe\">\n",
       "  <thead>\n",
       "    <tr style=\"text-align: right;\">\n",
       "      <th></th>\n",
       "      <th>0</th>\n",
       "      <th>1</th>\n",
       "      <th>2</th>\n",
       "      <th>3</th>\n",
       "      <th>4</th>\n",
       "      <th>5</th>\n",
       "    </tr>\n",
       "  </thead>\n",
       "  <tbody>\n",
       "    <tr>\n",
       "      <th>0</th>\n",
       "      <td>0</td>\n",
       "      <td>1</td>\n",
       "      <td>1</td>\n",
       "      <td>0</td>\n",
       "      <td>0</td>\n",
       "      <td>0</td>\n",
       "    </tr>\n",
       "    <tr>\n",
       "      <th>1</th>\n",
       "      <td>1</td>\n",
       "      <td>0</td>\n",
       "      <td>1</td>\n",
       "      <td>1</td>\n",
       "      <td>0</td>\n",
       "      <td>0</td>\n",
       "    </tr>\n",
       "    <tr>\n",
       "      <th>2</th>\n",
       "      <td>1</td>\n",
       "      <td>1</td>\n",
       "      <td>0</td>\n",
       "      <td>0</td>\n",
       "      <td>0</td>\n",
       "      <td>0</td>\n",
       "    </tr>\n",
       "    <tr>\n",
       "      <th>3</th>\n",
       "      <td>0</td>\n",
       "      <td>1</td>\n",
       "      <td>0</td>\n",
       "      <td>0</td>\n",
       "      <td>1</td>\n",
       "      <td>1</td>\n",
       "    </tr>\n",
       "    <tr>\n",
       "      <th>4</th>\n",
       "      <td>0</td>\n",
       "      <td>0</td>\n",
       "      <td>0</td>\n",
       "      <td>1</td>\n",
       "      <td>0</td>\n",
       "      <td>1</td>\n",
       "    </tr>\n",
       "    <tr>\n",
       "      <th>5</th>\n",
       "      <td>0</td>\n",
       "      <td>0</td>\n",
       "      <td>0</td>\n",
       "      <td>1</td>\n",
       "      <td>1</td>\n",
       "      <td>0</td>\n",
       "    </tr>\n",
       "  </tbody>\n",
       "</table>\n",
       "</div>"
      ],
      "text/plain": [
       "   0  1  2  3  4  5\n",
       "0  0  1  1  0  0  0\n",
       "1  1  0  1  1  0  0\n",
       "2  1  1  0  0  0  0\n",
       "3  0  1  0  0  1  1\n",
       "4  0  0  0  1  0  1\n",
       "5  0  0  0  1  1  0"
      ]
     },
     "execution_count": 1510,
     "metadata": {},
     "output_type": "execute_result"
    }
   ],
   "source": [
    "G = nx.from_pandas_edgelist(df=df, source='from', target='to', edge_attr=['weight'])\n",
    "A = nx.to_numpy_matrix(G)\n",
    "pd.DataFrame(A, dtype=int)"
   ]
  },
  {
   "cell_type": "markdown",
   "metadata": {},
   "source": [
    "# 2. Construct the Laplacian"
   ]
  },
  {
   "cell_type": "markdown",
   "metadata": {},
   "source": [
    "We then construct the diagonal matrix `D` from the affinity matrix `A`, where `D[i,i] = sum(A[i,:])`."
   ]
  },
  {
   "cell_type": "code",
   "execution_count": 1511,
   "metadata": {},
   "outputs": [
    {
     "data": {
      "text/html": [
       "<div>\n",
       "<style scoped>\n",
       "    .dataframe tbody tr th:only-of-type {\n",
       "        vertical-align: middle;\n",
       "    }\n",
       "\n",
       "    .dataframe tbody tr th {\n",
       "        vertical-align: top;\n",
       "    }\n",
       "\n",
       "    .dataframe thead th {\n",
       "        text-align: right;\n",
       "    }\n",
       "</style>\n",
       "<table border=\"1\" class=\"dataframe\">\n",
       "  <thead>\n",
       "    <tr style=\"text-align: right;\">\n",
       "      <th></th>\n",
       "      <th>0</th>\n",
       "      <th>1</th>\n",
       "      <th>2</th>\n",
       "      <th>3</th>\n",
       "      <th>4</th>\n",
       "      <th>5</th>\n",
       "    </tr>\n",
       "  </thead>\n",
       "  <tbody>\n",
       "    <tr>\n",
       "      <th>0</th>\n",
       "      <td>2.0</td>\n",
       "      <td>0.0</td>\n",
       "      <td>0.0</td>\n",
       "      <td>0.0</td>\n",
       "      <td>0.0</td>\n",
       "      <td>0.0</td>\n",
       "    </tr>\n",
       "    <tr>\n",
       "      <th>1</th>\n",
       "      <td>0.0</td>\n",
       "      <td>3.0</td>\n",
       "      <td>0.0</td>\n",
       "      <td>0.0</td>\n",
       "      <td>0.0</td>\n",
       "      <td>0.0</td>\n",
       "    </tr>\n",
       "    <tr>\n",
       "      <th>2</th>\n",
       "      <td>0.0</td>\n",
       "      <td>0.0</td>\n",
       "      <td>2.0</td>\n",
       "      <td>0.0</td>\n",
       "      <td>0.0</td>\n",
       "      <td>0.0</td>\n",
       "    </tr>\n",
       "    <tr>\n",
       "      <th>3</th>\n",
       "      <td>0.0</td>\n",
       "      <td>0.0</td>\n",
       "      <td>0.0</td>\n",
       "      <td>3.0</td>\n",
       "      <td>0.0</td>\n",
       "      <td>0.0</td>\n",
       "    </tr>\n",
       "    <tr>\n",
       "      <th>4</th>\n",
       "      <td>0.0</td>\n",
       "      <td>0.0</td>\n",
       "      <td>0.0</td>\n",
       "      <td>0.0</td>\n",
       "      <td>2.0</td>\n",
       "      <td>0.0</td>\n",
       "    </tr>\n",
       "    <tr>\n",
       "      <th>5</th>\n",
       "      <td>0.0</td>\n",
       "      <td>0.0</td>\n",
       "      <td>0.0</td>\n",
       "      <td>0.0</td>\n",
       "      <td>0.0</td>\n",
       "      <td>2.0</td>\n",
       "    </tr>\n",
       "  </tbody>\n",
       "</table>\n",
       "</div>"
      ],
      "text/plain": [
       "     0    1    2    3    4    5\n",
       "0  2.0  0.0  0.0  0.0  0.0  0.0\n",
       "1  0.0  3.0  0.0  0.0  0.0  0.0\n",
       "2  0.0  0.0  2.0  0.0  0.0  0.0\n",
       "3  0.0  0.0  0.0  3.0  0.0  0.0\n",
       "4  0.0  0.0  0.0  0.0  2.0  0.0\n",
       "5  0.0  0.0  0.0  0.0  0.0  2.0"
      ]
     },
     "execution_count": 1511,
     "metadata": {},
     "output_type": "execute_result"
    }
   ],
   "source": [
    "# NOTE np.diag is not working on my system for some reason, so doing this instead\n",
    "D = np.zeros((len(A), len(A)))\n",
    "for i in range(D.shape[0]):\n",
    "    D[i,i] = A.sum(axis=1)[i]\n",
    "\n",
    "pd.DataFrame(D)"
   ]
  },
  {
   "cell_type": "markdown",
   "metadata": {},
   "source": [
    "And now we form the normalized Laplacian."
   ]
  },
  {
   "cell_type": "code",
   "execution_count": 1512,
   "metadata": {},
   "outputs": [
    {
     "data": {
      "text/html": [
       "<div>\n",
       "<style scoped>\n",
       "    .dataframe tbody tr th:only-of-type {\n",
       "        vertical-align: middle;\n",
       "    }\n",
       "\n",
       "    .dataframe tbody tr th {\n",
       "        vertical-align: top;\n",
       "    }\n",
       "\n",
       "    .dataframe thead th {\n",
       "        text-align: right;\n",
       "    }\n",
       "</style>\n",
       "<table border=\"1\" class=\"dataframe\">\n",
       "  <thead>\n",
       "    <tr style=\"text-align: right;\">\n",
       "      <th></th>\n",
       "      <th>0</th>\n",
       "      <th>1</th>\n",
       "      <th>2</th>\n",
       "      <th>3</th>\n",
       "      <th>4</th>\n",
       "      <th>5</th>\n",
       "    </tr>\n",
       "  </thead>\n",
       "  <tbody>\n",
       "    <tr>\n",
       "      <th>0</th>\n",
       "      <td>0.000000</td>\n",
       "      <td>0.408248</td>\n",
       "      <td>0.500000</td>\n",
       "      <td>0.000000</td>\n",
       "      <td>0.000000</td>\n",
       "      <td>0.000000</td>\n",
       "    </tr>\n",
       "    <tr>\n",
       "      <th>1</th>\n",
       "      <td>0.408248</td>\n",
       "      <td>0.000000</td>\n",
       "      <td>0.408248</td>\n",
       "      <td>0.333333</td>\n",
       "      <td>0.000000</td>\n",
       "      <td>0.000000</td>\n",
       "    </tr>\n",
       "    <tr>\n",
       "      <th>2</th>\n",
       "      <td>0.500000</td>\n",
       "      <td>0.408248</td>\n",
       "      <td>0.000000</td>\n",
       "      <td>0.000000</td>\n",
       "      <td>0.000000</td>\n",
       "      <td>0.000000</td>\n",
       "    </tr>\n",
       "    <tr>\n",
       "      <th>3</th>\n",
       "      <td>0.000000</td>\n",
       "      <td>0.333333</td>\n",
       "      <td>0.000000</td>\n",
       "      <td>0.000000</td>\n",
       "      <td>0.408248</td>\n",
       "      <td>0.408248</td>\n",
       "    </tr>\n",
       "    <tr>\n",
       "      <th>4</th>\n",
       "      <td>0.000000</td>\n",
       "      <td>0.000000</td>\n",
       "      <td>0.000000</td>\n",
       "      <td>0.408248</td>\n",
       "      <td>0.000000</td>\n",
       "      <td>0.500000</td>\n",
       "    </tr>\n",
       "    <tr>\n",
       "      <th>5</th>\n",
       "      <td>0.000000</td>\n",
       "      <td>0.000000</td>\n",
       "      <td>0.000000</td>\n",
       "      <td>0.408248</td>\n",
       "      <td>0.500000</td>\n",
       "      <td>0.000000</td>\n",
       "    </tr>\n",
       "  </tbody>\n",
       "</table>\n",
       "</div>"
      ],
      "text/plain": [
       "          0         1         2         3         4         5\n",
       "0  0.000000  0.408248  0.500000  0.000000  0.000000  0.000000\n",
       "1  0.408248  0.000000  0.408248  0.333333  0.000000  0.000000\n",
       "2  0.500000  0.408248  0.000000  0.000000  0.000000  0.000000\n",
       "3  0.000000  0.333333  0.000000  0.000000  0.408248  0.408248\n",
       "4  0.000000  0.000000  0.000000  0.408248  0.000000  0.500000\n",
       "5  0.000000  0.000000  0.000000  0.408248  0.500000  0.000000"
      ]
     },
     "execution_count": 1512,
     "metadata": {},
     "output_type": "execute_result"
    }
   ],
   "source": [
    "L = ((sqrtm(inv(D))).dot(A)).dot(sqrtm(inv(D)))\n",
    "pd.DataFrame(L)"
   ]
  },
  {
   "cell_type": "markdown",
   "metadata": {},
   "source": [
    "# 3 Find the eigenvectors\n",
    "\n",
    "Now we find the eigenvalues and eigenvectors of the adjacency matrix. Since it is symmetric, we use the python library `eigh`. \n",
    "\n",
    "* `eigvals=(len(L) - k - 1, len(L) - 1)` selects those eigenvectors we are interested in, the ones corresponding to the largest eigenvalues."
   ]
  },
  {
   "cell_type": "code",
   "execution_count": 1513,
   "metadata": {},
   "outputs": [
    {
     "name": "stdout",
     "output_type": "stream",
     "text": [
      "          0\n",
      "0 -0.166667\n",
      "1  0.795334\n",
      "2  1.000000\n",
      "          0         1         2\n",
      "0 -0.327327 -0.445141 -0.377964\n",
      "1  0.534522 -0.322023 -0.462910\n",
      "2 -0.327327 -0.445141 -0.377964\n",
      "3  0.534522  0.322023 -0.462910\n",
      "4 -0.327327  0.445141 -0.377964\n",
      "5 -0.327327  0.445141 -0.377964\n"
     ]
    }
   ],
   "source": [
    "from scipy.linalg import eigh\n",
    "\n",
    "# number of clusters\n",
    "k = 2\n",
    "\n",
    "# find the k smallest eigenvalues and eigenvectors\n",
    "eigvals, eigvecs = eigh(L, eigvals=(len(L) - k - 1, len(L) - 1))\n",
    "print(pd.DataFrame(eigvals))\n",
    "print(pd.DataFrame(eigvecs))"
   ]
  },
  {
   "cell_type": "markdown",
   "metadata": {},
   "source": [
    "# Step 4. Normalizing the eigenvectors\n",
    "The eigenvectors are already sorted and normalized as per the Numpy implementation, so we can just take the first `k` of them."
   ]
  },
  {
   "cell_type": "code",
   "execution_count": 1514,
   "metadata": {},
   "outputs": [
    {
     "data": {
      "text/html": [
       "<div>\n",
       "<style scoped>\n",
       "    .dataframe tbody tr th:only-of-type {\n",
       "        vertical-align: middle;\n",
       "    }\n",
       "\n",
       "    .dataframe tbody tr th {\n",
       "        vertical-align: top;\n",
       "    }\n",
       "\n",
       "    .dataframe thead th {\n",
       "        text-align: right;\n",
       "    }\n",
       "</style>\n",
       "<table border=\"1\" class=\"dataframe\">\n",
       "  <thead>\n",
       "    <tr style=\"text-align: right;\">\n",
       "      <th></th>\n",
       "      <th>0</th>\n",
       "      <th>1</th>\n",
       "      <th>2</th>\n",
       "    </tr>\n",
       "  </thead>\n",
       "  <tbody>\n",
       "    <tr>\n",
       "      <th>0</th>\n",
       "      <td>-0.327327</td>\n",
       "      <td>-0.445141</td>\n",
       "      <td>-0.377964</td>\n",
       "    </tr>\n",
       "    <tr>\n",
       "      <th>1</th>\n",
       "      <td>0.534522</td>\n",
       "      <td>-0.322023</td>\n",
       "      <td>-0.462910</td>\n",
       "    </tr>\n",
       "    <tr>\n",
       "      <th>2</th>\n",
       "      <td>-0.327327</td>\n",
       "      <td>-0.445141</td>\n",
       "      <td>-0.377964</td>\n",
       "    </tr>\n",
       "    <tr>\n",
       "      <th>3</th>\n",
       "      <td>0.534522</td>\n",
       "      <td>0.322023</td>\n",
       "      <td>-0.462910</td>\n",
       "    </tr>\n",
       "    <tr>\n",
       "      <th>4</th>\n",
       "      <td>-0.327327</td>\n",
       "      <td>0.445141</td>\n",
       "      <td>-0.377964</td>\n",
       "    </tr>\n",
       "    <tr>\n",
       "      <th>5</th>\n",
       "      <td>-0.327327</td>\n",
       "      <td>0.445141</td>\n",
       "      <td>-0.377964</td>\n",
       "    </tr>\n",
       "  </tbody>\n",
       "</table>\n",
       "</div>"
      ],
      "text/plain": [
       "          0         1         2\n",
       "0 -0.327327 -0.445141 -0.377964\n",
       "1  0.534522 -0.322023 -0.462910\n",
       "2 -0.327327 -0.445141 -0.377964\n",
       "3  0.534522  0.322023 -0.462910\n",
       "4 -0.327327  0.445141 -0.377964\n",
       "5 -0.327327  0.445141 -0.377964"
      ]
     },
     "execution_count": 1514,
     "metadata": {},
     "output_type": "execute_result"
    }
   ],
   "source": [
    "Y = eigvecs\n",
    "pd.DataFrame(Y)"
   ]
  },
  {
   "cell_type": "markdown",
   "metadata": {},
   "source": [
    "# Step 5. Clustering with K-means"
   ]
  },
  {
   "cell_type": "code",
   "execution_count": 1515,
   "metadata": {},
   "outputs": [],
   "source": [
    "from sklearn.cluster import KMeans\n",
    "\n",
    "kmeans = KMeans(n_clusters=k).fit(np.asarray(Y))\n",
    "\n",
    "clusters = kmeans.labels_"
   ]
  },
  {
   "cell_type": "markdown",
   "metadata": {},
   "source": [
    "# Step 6. Assigning each node to a cluster\n",
    "Now, proceed with the assigning the original points (in our case, rows in the affinity matrix) to the clusters."
   ]
  },
  {
   "cell_type": "code",
   "execution_count": 1516,
   "metadata": {},
   "outputs": [
    {
     "data": {
      "image/png": "[encoded data removed]",
      "text/plain": [
       "<Figure size 432x288 with 1 Axes>"
      ]
     },
     "metadata": {},
     "output_type": "display_data"
    }
   ],
   "source": [
    "colors = {0: 'red', 1: 'blue'}\n",
    "nx.draw(G, node_color=[colors[cluster] for cluster in clusters])"
   ]
  },
  {
   "cell_type": "markdown",
   "metadata": {},
   "source": [
    "# `SpectralClustering` class"
   ]
  },
  {
   "cell_type": "code",
   "execution_count": 1517,
   "metadata": {},
   "outputs": [],
   "source": [
    "class SpectralClustering:\n",
    "    def __init__(self, G, k=5):\n",
    "        \"\"\"\n",
    "        Adjecency list is a networkx graph\n",
    "        \"\"\"\n",
    "        self.G = G\n",
    "        self.k = k\n",
    "        self.clusters = None\n",
    "        self.fiedler_vector = None\n",
    "\n",
    "    def fit(self, adjecency_list):\n",
    "        \"\"\"\n",
    "        This method runs the spectral clustering algorithm\n",
    "        \"\"\"\n",
    "        # step 1\n",
    "        self.A = nx.to_numpy_matrix(adjecency_list)\n",
    "        # step 2    \n",
    "        D = self.diy_diagonalize(self.A)\n",
    "        L = ((sqrtm(inv(D))).dot(self.A)).dot(sqrtm(inv(D)))\n",
    "        # step 3\n",
    "        eigvals, eigvecs = eigh(L, eigvals=(len(L) - self.k - 1, len(L) - 1))\n",
    "        # step 4\n",
    "        # NOTE the eigenvectors are already normalized\n",
    "        # step 5\n",
    "        Y = eigvecs\n",
    "        kmeans = KMeans(n_clusters=self.k).fit(np.asarray(Y))\n",
    "        # step 6 is in the plot method\n",
    "        # assign all instance fields\n",
    "        self.L = L\n",
    "        self.clusters = kmeans.labels_\n",
    "        self.fiedler_vector = self.set_fiedler_vector()\n",
    "\n",
    "    def normalize(self, matrix):\n",
    "        \"\"\"\n",
    "        This method normalizes a matrix\n",
    "        \"\"\"\n",
    "        return matrix / np.linalg.norm(matrix, axis=1)\n",
    "\n",
    "    def diy_diagonalize(self, matrix):\n",
    "        \"\"\"\n",
    "        I have the wrong np version so I can't use np.diag\n",
    "        \"\"\"\n",
    "        D = np.zeros((len(self.A), len(self.A)))\n",
    "        for i in range(D.shape[0]):\n",
    "            D[i,i] = self.A.sum(axis=1)[i]\n",
    "        return D\n",
    "\n",
    "    def set_fiedler_vector(self):\n",
    "        \"\"\"\n",
    "        This method sets the fiedler vector\n",
    "        \"\"\"\n",
    "        # degree matrix\n",
    "        D = self.diy_diagonalize(self.A)\n",
    "        L = ((sqrtm(inv(D))).dot(self.A)).dot(sqrtm(inv(D)))\n",
    "        eigvals, eigvecs = eigh(L)\n",
    "        self.eigvecs = eigvecs\n",
    "        return np.sort(eigvecs[:,1], axis=0)\n",
    "\n",
    "    def number_of_components(self, threshold = 1e-10):\n",
    "        \"\"\"\n",
    "        [From wiki] The number of times 0 appears as an eigenvalue in the Laplacian is the number of connected components in the graph\n",
    "        \"\"\"\n",
    "        eigvals, _ = LA.eigh(self.L)\n",
    "        return len([eigval for eigval in eigvals if eigval < threshold and eigval > -threshold])\n",
    "\n",
    "    def plot_fiedler_vector(self):\n",
    "        \"\"\"\n",
    "        This method plots the fiedler vector\n",
    "        \"\"\"\n",
    "        plt.plot(self.fiedler_vector)\n",
    "        plt.show()\n",
    "    \n",
    "    def plot(self):\n",
    "        \"\"\"\n",
    "        Use nx.draw to plot the graph according to some colors\n",
    "        \"\"\"\n",
    "        # The final step of the algorithm\n",
    "        colors = {0: 'red', 1: 'blue', 2: 'green', 3: 'orange', 4: 'purple', 5: 'gray', 6: 'yellow', 7: 'pink', 8: 'black', 9: 'brown', 10: 'cyan'}\n",
    "        nx.draw(self.G, node_color=[colors[cluster] for cluster in self.clusters])\n",
    "        plt.show()"
   ]
  },
  {
   "cell_type": "markdown",
   "metadata": {},
   "source": [
    "## Example 1\n",
    "\n",
    "Let's see if the class works with the data we have been provided."
   ]
  },
  {
   "cell_type": "code",
   "execution_count": 1518,
   "metadata": {},
   "outputs": [
    {
     "name": "stdout",
     "output_type": "stream",
     "text": [
      "Number of unique nodes:  241\n"
     ]
    }
   ],
   "source": [
    "example1 = './data/example1.dat'\n",
    "\n",
    "# requires us to append a weight column\n",
    "df_g1 = pd.read_csv(example1)\n",
    "df_g1['weight'] = 1\n",
    "\n",
    "print(\"Number of unique nodes: \", df_g1['from'].nunique())"
   ]
  },
  {
   "cell_type": "code",
   "execution_count": 1519,
   "metadata": {},
   "outputs": [
    {
     "data": {
      "image/png": "[encoded data removed]",
      "text/plain": [
       "<Figure size 432x288 with 1 Axes>"
      ]
     },
     "metadata": {},
     "output_type": "display_data"
    },
    {
     "name": "stdout",
     "output_type": "stream",
     "text": [
      "Number of components:  4\n"
     ]
    }
   ],
   "source": [
    "# set up the graph\n",
    "G1 = nx.from_pandas_edgelist(df=df_g1, source='from', target='to', edge_attr=['weight'])\n",
    "\n",
    "# make a new spectral clustering object and fit the graph\n",
    "sc = SpectralClustering(G=G1, k=4)\n",
    "sc.fit(G1)\n",
    "\n",
    "# plot and print the number of components\n",
    "sc.plot()\n",
    "print(\"Number of components: \", sc.number_of_components(threshold=0.005))"
   ]
  },
  {
   "cell_type": "markdown",
   "metadata": {},
   "source": [
    "Looks quite nice! We also attempt to plot the sorted *Fiedler vector*, but it is not what we expected. According to theory, we should see a clear separation between the four clusters, but in our case it is not as visible as in the lab description's example."
   ]
  },
  {
   "cell_type": "code",
   "execution_count": 1520,
   "metadata": {},
   "outputs": [
    {
     "data": {
      "image/png": "[encoded data removed]",
      "text/plain": [
       "<Figure size 432x288 with 1 Axes>"
      ]
     },
     "metadata": {
      "needs_background": "light"
     },
     "output_type": "display_data"
    }
   ],
   "source": [
    "sc.plot_fiedler_vector()"
   ]
  },
  {
   "cell_type": "markdown",
   "metadata": {},
   "source": [
    "## Example 2"
   ]
  },
  {
   "cell_type": "code",
   "execution_count": 1521,
   "metadata": {},
   "outputs": [
    {
     "name": "stdout",
     "output_type": "stream",
     "text": [
      "Number of unique nodes:  100\n"
     ]
    }
   ],
   "source": [
    "example2 = './data/example2.dat'\n",
    "df_g2 = pd.read_csv(example2)\n",
    "\n",
    "print(\"Number of unique nodes: \", df_g2['from'].nunique())"
   ]
  },
  {
   "cell_type": "code",
   "execution_count": 1522,
   "metadata": {},
   "outputs": [
    {
     "data": {
      "image/png": "[encoded data removed]",
      "text/plain": [
       "<Figure size 432x288 with 1 Axes>"
      ]
     },
     "metadata": {},
     "output_type": "display_data"
    },
    {
     "name": "stdout",
     "output_type": "stream",
     "text": [
      "Number of components:  1\n"
     ]
    }
   ],
   "source": [
    "# set up the graph\n",
    "G2 = nx.from_pandas_edgelist(df=df_g2, source='from', target='to', edge_attr=['weight'])\n",
    "\n",
    "# make a new spectral clustering object and fit the graph\n",
    "sc = SpectralClustering(G=G2, k=2)\n",
    "sc.fit(G2)\n",
    "\n",
    "# plot and print the number of components\n",
    "sc.plot()\n",
    "print(\"Number of components: \", sc.number_of_components(threshold=1e-3))"
   ]
  },
  {
   "cell_type": "markdown",
   "metadata": {},
   "source": [
    "Wow, the red and blue clusters are super-visible! Again, the fielder vector is not what we expected. We are not sure what is going on."
   ]
  },
  {
   "cell_type": "code",
   "execution_count": 1523,
   "metadata": {},
   "outputs": [
    {
     "data": {
      "image/png": "[encoded data removed]",
      "text/plain": [
       "<Figure size 432x288 with 1 Axes>"
      ]
     },
     "metadata": {
      "needs_background": "light"
     },
     "output_type": "display_data"
    }
   ],
   "source": [
    "sc.plot_fiedler_vector()"
   ]
  }
 ],
 "metadata": {
  "kernelspec": {
   "display_name": "Python 3.9.12 ('base')",
   "language": "python",
   "name": "python3"
  },
  "language_info": {
   "codemirror_mode": {
    "name": "ipython",
    "version": 3
   },
   "file_extension": ".py",
   "mimetype": "text/x-python",
   "name": "python",
   "nbconvert_exporter": "python",
   "pygments_lexer": "ipython3",
   "version": "3.9.12"
  },
  "orig_nbformat": 4,
  "vscode": {
   "interpreter": {
    "hash": "c4200fda7ae0bf3cda7b10749c5e0fe119cbdfd5a55ffd50b4380f0cc79b68b0"
   }
  }
 },
 "nbformat": 4,
 "nbformat_minor": 2
}
