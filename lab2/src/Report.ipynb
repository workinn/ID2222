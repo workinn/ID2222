{
 "cells": [
  {
   "cell_type": "markdown",
   "metadata": {},
   "source": [
    "# Frequent Itemsets\n",
    "\n",
    "By Linus Östlund and Daniel Workinn"
   ]
  },
  {
   "cell_type": "markdown",
   "metadata": {},
   "source": [
    "In this homework we implement one of the major families of techniques for characterizing data - discovering `Frequent Itemsets` and `Association Rules`.  \n",
    "\n",
    "To discover `Frequent Itemsets` we have implemented the `A-Priori Algorithm` by following the guidelines in the course litterature. \n",
    "\n",
    "We then use the frequent itemsets to mine `Association Rules`. The association rules quantify the conditional probability of item `j` existing in the basket given itemset `I` (I -> J). Association rules can be used by e.g. a retailer to learn what items are commonly bought together. "
   ]
  },
  {
   "cell_type": "markdown",
   "metadata": {},
   "source": [
    "## Implementation\n",
    "\n",
    "First, read the data from the file and create a list of baskets (also called *transactions*)."
   ]
  },
  {
   "cell_type": "code",
   "execution_count": 36,
   "metadata": {},
   "outputs": [],
   "source": [
    "def import_baskets(path_to_data):\n",
    "    with open(path_to_data) as f:\n",
    "        lines = f.readlines()\n",
    "        baskets = [set(map(int, line.strip().split(sep=' '))) for line in lines]\n",
    "    return baskets\n",
    "\n",
    "def get_unique_items(baskets):\n",
    "    \"\"\"\n",
    "    Helper method to get the number of unique items in the baskets-dataset.\n",
    "    \"\"\"\n",
    "    return set.union(*baskets)\n",
    "\n",
    "def get_number_of_baskets(baskets):\n",
    "    \"\"\"\n",
    "    Helper method to get the number of baskets. But you can also use len(baskets) 😂 I walk over the å to get the vatten.\n",
    "    \"\"\"\n",
    "    return len(baskets)"
   ]
  },
  {
   "cell_type": "markdown",
   "metadata": {},
   "source": [
    "We proceed with loading all baskets into a list of sets, where each set is a basket."
   ]
  },
  {
   "cell_type": "code",
   "execution_count": 37,
   "metadata": {},
   "outputs": [
    {
     "name": "stdout",
     "output_type": "stream",
     "text": [
      "Number of unique items: 870\n",
      "Number of baskets: 100000\n"
     ]
    }
   ],
   "source": [
    "# NOTE: this could differ depending on what OS you are using (I'm on a Mac M1)\n",
    "path_to_data = '../data/baskets.dat'\n",
    "\n",
    "baskets = import_baskets(path_to_data)\n",
    "\n",
    "print(f'Number of unique items: {len(get_unique_items(baskets))}')\n",
    "print(f'Number of baskets: {len(baskets)}')"
   ]
  },
  {
   "cell_type": "markdown",
   "metadata": {},
   "source": [
    "For the creation of `L`<sub>`1`</sub> (frequent singletons) we use a dictionary that maps each item to the baskets it is in:\n",
    "    \n",
    "```python\n",
    "    {\n",
    "    0: [1,2,3], # item 0 is in baskets 1, 2 and 3\n",
    "    1: [2, 3],  # item 1 is in baskets 2 and 3\n",
    "    # and so on\n",
    "    }\n",
    "```"
   ]
  },
  {
   "cell_type": "code",
   "execution_count": 38,
   "metadata": {},
   "outputs": [],
   "source": [
    "# get item and basket dictionary\n",
    "def item_and_basket_dictionary(baskets):\n",
    "    \"\"\"\n",
    "    Returns a dictionary with each each item as a key, and a list of all basket it appears in as a value.\n",
    "    \"\"\"\n",
    "    # set up keys as all unique items\n",
    "    keys = get_unique_items(baskets)\n",
    "\n",
    "    # values will be lists of basket's number where they occur\n",
    "    values = [[] for _ in range(len(get_unique_items(baskets)))]\n",
    "\n",
    "    items = dict(zip(keys, values))\n",
    "\n",
    "    # populate the dictionary\n",
    "    for i, basket in enumerate(baskets):\n",
    "        for item in basket:\n",
    "            items[item].append(i)\n",
    "    return items"
   ]
  },
  {
   "cell_type": "markdown",
   "metadata": {},
   "source": [
    "The above dictionary is then used to find the support (in absolute number) for each singleton item by counting the number of baskets it is in."
   ]
  },
  {
   "cell_type": "code",
   "execution_count": 39,
   "metadata": {},
   "outputs": [],
   "source": [
    "# 'singletons' is the support for all singletons\n",
    "singletons = {k: len(v) for k, v in item_and_basket_dictionary(baskets).items()}"
   ]
  },
  {
   "cell_type": "markdown",
   "metadata": {},
   "source": [
    "Next is the filter step, and removing all items that do not meet the minimum support threshold:\n",
    "\n",
    "$ \\text{Minimum support} = 0.01 * \\texttt{len(baskets)} $, in this case $0.01 * 100 000 = 1000$.\n",
    "\n",
    "The result is `L`<sub>`1`</sub> - Frequent Singletons."
   ]
  },
  {
   "cell_type": "code",
   "execution_count": 40,
   "metadata": {},
   "outputs": [
    {
     "name": "stdout",
     "output_type": "stream",
     "text": [
      "Number of significant singletons: 375 with a threshold of 0.01 (minimum support of 1000)\n"
     ]
    }
   ],
   "source": [
    "# set threshold as suggested in lecture\n",
    "threshold = 0.01\n",
    "\n",
    "# filter out all singletons with support below threshold\n",
    "frequent_singletons = {k: v for k, v in singletons.items() if v / len(baskets) >= threshold}\n",
    "\n",
    "# print the number of frequent singletons\n",
    "print(f'Number of significant singletons: {len(frequent_singletons)} with a threshold of {threshold} (minimum support of {int(threshold * len(baskets))})')"
   ]
  },
  {
   "cell_type": "markdown",
   "metadata": {},
   "source": [
    "For the second pass of the Apriori algorithm, we need a method to generate candidate itemsets. To this end, the course literature suggests the following:\n",
    "\n",
    "> **From course literature (p.226):** During the second pass, we count all the pairs that *consists of two frequent items*. We call this table *frequent-items table*.\n",
    "\n",
    "We then check if the pair is frequent, and if it is, we add it to the set of frequent itemsets.\n",
    "The algorithm for generating candidate itemsets is as follows:"
   ]
  },
  {
   "cell_type": "code",
   "execution_count": 41,
   "metadata": {},
   "outputs": [],
   "source": [
    "import numpy as np\n",
    "\n",
    "def get_frequent_items_table(baskets, frequent_items):\n",
    "    \"\"\"\n",
    "    Returns a table of frequent items, where each row is a frequent item and each column is a basket.\n",
    "    frequent_items is a list where all frequent singletons has a uniqe m-value.\n",
    "    \"\"\"\n",
    "    # NOTE there are 870 uniqe items assigned to integers [0, 1000]. \n",
    "    # This step is usually done by as a first step in the apriori alogoritm.\n",
    "    frequent_items_table = np.zeros((max(map(max, baskets))) + 1, dtype=int)\n",
    "    # assign 'm' as a unique values, used to mark the frequent items\n",
    "    m = 0\n",
    "    # identify all frequent items\n",
    "    for item in frequent_items:\n",
    "        # NOTE why dont we just use boolean values, is there a reason to use integers?\n",
    "        frequent_items_table[item] = m\n",
    "        m += 1\n",
    "    return frequent_items_table"
   ]
  },
  {
   "cell_type": "markdown",
   "metadata": {},
   "source": [
    "The Apriori algorithm requires some more methods; we have the candidate $k$-tuples are frequent.\n",
    "\n",
    "We still follow the outline as suggested in the course literature (p.226):\n",
    "\n",
    "> 1. For each basket, look in the frequent-items table to see which of its items are frequent.\n",
    "> 2. In a double loop, generate all pairs of frequent items in that basket.\n",
    "> 3. For each such pair, add one to its count in the data structure used to store counts.\n",
    "\n",
    "So we are going to look through each basket, and, by using the previous pass frequent items,filter a subset of the items to produce all combinations. The we store those in a dictionary, and increment the count for each combination. This approach is a bit different from the one found in the 1994 paper, as they propose generating all combinations from items in the previous pass. Our approach it is more efficient.\n",
    "\n",
    "To generate all unordered pairs of frequent items in a basket, we use the `combinations` function from the `itertools` library. We use `frozensets` since they are a hashable type, and can be used as keys in a dictionary."
   ]
  },
  {
   "cell_type": "code",
   "execution_count": 42,
   "metadata": {},
   "outputs": [],
   "source": [
    "from itertools import combinations\n",
    "\n",
    "def filter_frequent_items_in_basket(basket, frequent_items_table):\n",
    "    \"\"\"\n",
    "    [HELPER FUNCTION] Return the frequent items in a basket.\n",
    "    \"\"\"\n",
    "    return [item for item in basket if frequent_items_table[item] != 0]\n",
    "\n",
    "def generate_all_combinations(items, k=2):\n",
    "    \"\"\"\n",
    "    [HELPER FUNCTION] Generate all pairs of frequent items in a basket.\n",
    "    \"\"\"\n",
    "    return [frozenset(pair) for pair in combinations(items, k)]\n",
    "\n",
    "def find_candidate_tuples(baskets, frequent_items_table, k=2):\n",
    "    \"\"\"\n",
    "    Find all candidate k-tuples of frequent items.\n",
    "    \"\"\"\n",
    "    candidate_pairs = {}\n",
    "    for basket in baskets:\n",
    "        # filter out all frequent items in the basket\n",
    "        frequent_items_in_basket = filter_frequent_items_in_basket(basket, frequent_items_table)\n",
    "        # genereate all combinations of frequent items in the basket\n",
    "        basket_pairs = generate_all_combinations(frequent_items_in_basket, k=k)\n",
    "        for pair in basket_pairs:\n",
    "            if pair not in candidate_pairs:\n",
    "                candidate_pairs[pair] = 1\n",
    "            else:\n",
    "                candidate_pairs[pair] += 1\n",
    "    return candidate_pairs\n",
    "\n",
    "\n",
    "def filter_candidate_tuples(baskets, candidates, threshold):\n",
    "    \"\"\"\n",
    "    Filter out all candidate k-tuples that do not meet the threshold.\n",
    "    \"\"\"\n",
    "    #return dict(filter(lambda x: x[1] >= threshold, candidate_pairs.items())) # TODO är filter bättre?\n",
    "    return {pair: freq for pair, freq in candidates.items() if freq >= threshold*len(baskets)}"
   ]
  },
  {
   "cell_type": "markdown",
   "metadata": {},
   "source": [
    "## The Apriori algorithm\n",
    "The `apriori()`-function mimic the pseudocode from the 1994 article. In order to speed up the algorithm, we use the suggested approach in the course literature, and use the frequent-items table to filter out infrequent items in all paskets. We then produce all $k$-tuples using the remaining (frequent) items. This assumption holds due to the *monotonicity of itemsets*.\n",
    "\n",
    "### Monotonicity of Itemsets\n",
    "\n",
    "According to the paper and ch 6 of the course literature, the effectiveness of the Apriori algorithm depends on the monotonicity of the itemsets. \n",
    "\n",
    "> **Definition**: If a set $I$ of items is frequent, then so is the powerset of $I$ are also frequent (remember, the **powerset of $I$ is the set of all subsets of $I$**)\n",
    "\n",
    "For example, if the itemset $I = \\{1, 2, 3\\}$ is frequent, then so are *all* subsets, $\\mathscr{P}(I) = \\{\\{1\\}, \\{2\\}, \\{3\\}, \\{1, 2\\}, \\{1, 3\\}, \\{3, 2\\}\\}$, of $I$."
   ]
  },
  {
   "cell_type": "code",
   "execution_count": 43,
   "metadata": {},
   "outputs": [],
   "source": [
    "def apriori(baskets, singletons, threshold=0.01):\n",
    "    \"\"\"\n",
    "    Find frequent itemsets using the Apriori algorithm.\n",
    "    L1 (\"Large 1-tons\") is a frozenset of frequent singletons and their frequencies.\n",
    "    \"\"\"\n",
    "    # find frequent singletons\n",
    "    frequent_singletons = {k: v for k, v in singletons.items() if v / len(baskets) >= threshold}\n",
    "    # convert to a frozenset\n",
    "    L1 = frozenset(frequent_singletons.keys())\n",
    "    # set up initial values\n",
    "    k, L = 2, L1\n",
    "    # this while-loop is just like the pipeline in the lecture\n",
    "    while True:\n",
    "        # genereate frequent-items table\n",
    "        fit = get_frequent_items_table(baskets, L)\n",
    "        # find all candidate pairs\n",
    "        candidates = find_candidate_tuples(baskets, fit, k=k)\n",
    "        # filter candidate pairs\n",
    "        filtered_candidates = filter_candidate_tuples(baskets=baskets, candidates=candidates, threshold=threshold)\n",
    "        # if no filter candidate pairs, break loop\n",
    "        if len(filtered_candidates) == 0:\n",
    "            break\n",
    "        # else, set L to filtered candidates\n",
    "        print(f'Number of {k}-tuples: {len(filtered_candidates)}')\n",
    "        print(f'Number of unique items in {k}-tuples: {len(frozenset.union(*filtered_candidates))}\\n')\n",
    "        L = frozenset.union(*filtered_candidates.keys())\n",
    "        k += 1"
   ]
  },
  {
   "cell_type": "markdown",
   "metadata": {},
   "source": [
    "The method does what the pipeline suggest, and break the problem into smaller, handlable chunks.\n",
    "\n",
    "![Apriori pipeline](../imgs/apriori_pipeline.jpeg)"
   ]
  },
  {
   "cell_type": "code",
   "execution_count": 44,
   "metadata": {},
   "outputs": [
    {
     "name": "stdout",
     "output_type": "stream",
     "text": [
      "Number of 2-tuples: 9\n",
      "Number of unique items in 2-tuples: 12\n",
      "\n"
     ]
    }
   ],
   "source": [
    "apriori(baskets, singletons, threshold=threshold)"
   ]
  },
  {
   "cell_type": "markdown",
   "metadata": {},
   "source": [
    "Now we collect all of the above methods in one neat class that stores all results in a dictionary called `frequent_itemsets`\n",
    "```python\n",
    "# one line to rule them all\n",
    "frequent_itemsets = Apriori(baskets, min_support=0.01).frequent_itemsets\n",
    "```"
   ]
  },
  {
   "cell_type": "code",
   "execution_count": 45,
   "metadata": {},
   "outputs": [],
   "source": [
    "import numpy as np\n",
    "from itertools import combinations\n",
    "\n",
    "class Apriori:\n",
    "    def __init__(self, baskets, threshold=0.01):\n",
    "        self.threshold = threshold\n",
    "        self.max_item_id = 0\n",
    "        singletons = {k: len(v) for k, v in self.item_and_basket_dictionary(baskets).items()}\n",
    "        self.frequent_itemsets = self.apriori(baskets=baskets, singletons=singletons, threshold=self.threshold)\n",
    "\n",
    "    def get_unique_items(self, baskets):\n",
    "        \"\"\"\n",
    "        [HELPER METHOD] Get the number of unique items in the baskets-dataset.\n",
    "        \"\"\"\n",
    "        return set.union(*baskets)\n",
    "        \n",
    "    def item_and_basket_dictionary(self, baskets):\n",
    "        \"\"\"\n",
    "        Returns a dictionary with each each item as a key, \n",
    "        and a list of all baskets it appears in as a value.\n",
    "        \"\"\"\n",
    "        # set up keys as all unique items\n",
    "        keys = self.get_unique_items(baskets)\n",
    "        self.max_item_id = max(keys)\n",
    "\n",
    "        # values will be lists of basket's number where they occur\n",
    "        values = [[] for _ in range(len(get_unique_items(baskets)))]\n",
    "\n",
    "        items = dict(zip(keys, values))\n",
    "\n",
    "        # populate the dictionary\n",
    "        for i, basket in enumerate(baskets):\n",
    "            for item in basket:\n",
    "                items[item].append(i)\n",
    "        return items\n",
    "\n",
    "    def get_frequent_items_table(self, frequent_items):\n",
    "        \"\"\"\n",
    "        Returns a table of frequent items, where each row is a frequent item and each column is a basket.\n",
    "        frequent_items is a list where all frequent singletons has a uniqe m-value.\n",
    "        \"\"\"\n",
    "        # NOTE there are 870 uniqe items assigned to integers [0, 1000]. \n",
    "        # This step is usually done by as a first step in the apriori alogoritm.\n",
    "        frequent_items_table = np.zeros(self.max_item_id + 1, dtype=int) \n",
    "        # assign 'm' as a unique values, used to mark the frequent items\n",
    "        m = 1\n",
    "        # identify all frequent items\n",
    "        for item in frequent_items:\n",
    "            # NOTE why dont we just use boolean values, is there a reason to use integers?\n",
    "            frequent_items_table[item] = m\n",
    "            m += 1\n",
    "        return frequent_items_table\n",
    "\n",
    "    def filter_frequent_items_in_basket(self, basket, frequent_items_table):\n",
    "        \"\"\"\n",
    "        [HELPER FUNCTION] Return the frequent items in a basket.\n",
    "        \"\"\"\n",
    "        return [item for item in basket if frequent_items_table[item] != 0]\n",
    "\n",
    "    def generate_all_combinations(self, items, k=2):\n",
    "        \"\"\"\n",
    "        [HELPER FUNCTION] Generate all pairs of frequent items in a basket.\n",
    "        \"\"\"\n",
    "        return [frozenset(pair) for pair in combinations(items, k)]\n",
    "\n",
    "    def find_candidate_tuples(self, baskets, frequent_items_table, k=2):\n",
    "        \"\"\"\n",
    "        Find all candidate k-tuples of frequent items.\n",
    "        \"\"\"\n",
    "        candidate_pairs = {}\n",
    "        for basket in baskets:\n",
    "            # filter out all frequent items in the basket\n",
    "            frequent_items_in_basket = self.filter_frequent_items_in_basket(basket, frequent_items_table)\n",
    "            # genereate all combinations of frequent items in the basket\n",
    "            basket_pairs = self.generate_all_combinations(frequent_items_in_basket, k=k)\n",
    "            for pair in basket_pairs:\n",
    "                if pair not in candidate_pairs:\n",
    "                    candidate_pairs[pair] = 1\n",
    "                else:\n",
    "                    candidate_pairs[pair] += 1\n",
    "        return candidate_pairs\n",
    "\n",
    "\n",
    "    def filter_candidate_tuples(self, baskets, candidates, threshold):\n",
    "        \"\"\"\n",
    "        Filter out all candidate k-tuples that do not meet the threshold.\n",
    "        \"\"\"\n",
    "        #return dict(filter(lambda x: x[1] >= threshold, candidate_pairs.items())) # TODO är filter bättre?\n",
    "        return {pair: freq for pair, freq in candidates.items() if freq > threshold*len(baskets)}\n",
    "\n",
    "    def printing_the_print(self, k, filtered_candidates):\n",
    "        print(f'Number of {k}-tuples: {len(filtered_candidates)}')\n",
    "        union = len(frozenset.union(*filtered_candidates))\n",
    "        print(f'Number of unique items in {k}-tuples: {union}\\n')\n",
    "\n",
    "    def apriori(self, baskets, singletons, threshold=0.01):\n",
    "        \"\"\"\n",
    "        Find frequent itemsets using the Apriori algorithm.\n",
    "        L1 (\"Large 1-tons\") is a frozenset of frequent singletons and their frequencies.\n",
    "        \"\"\"\n",
    "        # special case - find frequent singletons\n",
    "        frequent_singletons = {frozenset([k]): v for k, v in singletons.items() if v / len(baskets) > threshold}\n",
    "        # convert to a frozenset\n",
    "        L1 = frozenset.union(*frequent_singletons.keys())\n",
    "        # print progress\n",
    "        self.printing_the_print(1, frequent_singletons)\n",
    "        results = {1: frequent_singletons}\n",
    "        # set up initial values\n",
    "        k, L = 2, L1\n",
    "        # this while-loop is just like the pipeline in the lecture\n",
    "        while True:\n",
    "            # genereate frequent-items table\n",
    "            fit = self.get_frequent_items_table(L)\n",
    "            # find all candidate pairs\n",
    "            candidates = self.find_candidate_tuples(baskets, fit, k=k)\n",
    "            # filter candidate pairs\n",
    "            filtered_candidates = self.filter_candidate_tuples(baskets=baskets, candidates=candidates, threshold=threshold)\n",
    "            # if no filter candidate pairs, break loop\n",
    "            if len(filtered_candidates) == 0:\n",
    "                break\n",
    "            # print the progress\n",
    "            self.printing_the_print(k, filtered_candidates)\n",
    "            # else, set L to filtered candidates and continue\n",
    "            L = frozenset.union(*filtered_candidates.keys())\n",
    "            results[k] = filtered_candidates\n",
    "            k += 1\n",
    "        return results\n",
    "\n",
    "    "
   ]
  },
  {
   "cell_type": "markdown",
   "metadata": {},
   "source": [
    "Here we go:"
   ]
  },
  {
   "cell_type": "code",
   "execution_count": 48,
   "metadata": {},
   "outputs": [
    {
     "name": "stdout",
     "output_type": "stream",
     "text": [
      "Number of 1-tuples: 569\n",
      "Number of unique items in 1-tuples: 569\n",
      "\n",
      "Number of 2-tuples: 339\n",
      "Number of unique items in 2-tuples: 210\n",
      "\n",
      "Number of 3-tuples: 109\n",
      "Number of unique items in 3-tuples: 92\n",
      "\n",
      "Number of 4-tuples: 42\n",
      "Number of unique items in 4-tuples: 55\n",
      "\n",
      "Number of 5-tuples: 9\n",
      "Number of unique items in 5-tuples: 20\n",
      "\n"
     ]
    }
   ],
   "source": [
    "threshold = 0.005\n",
    "frequent_itemsets = Apriori(baskets, threshold=threshold).frequent_itemsets"
   ]
  },
  {
   "cell_type": "markdown",
   "metadata": {},
   "source": [
    "# Finding Association Rules\n",
    "\n",
    "Now we find useful assosciation rules. We use the `AssociationRules` class to do this. The class takes the frequent itemsets as input, and finds all association rules that meet the minimum confidence threshold."
   ]
  },
  {
   "cell_type": "code",
   "execution_count": 69,
   "metadata": {},
   "outputs": [],
   "source": [
    "class AssosciationRules: \n",
    "    def __init__(self, frequent_itemsets):\n",
    "        self.frequent_itemsets = frequent_itemsets\n",
    "        self.rules = self.generate_rules()\n",
    "        print(f'Number of rules: {len(self.rules)}')\n",
    "        self.interesting_rules = None\n",
    "        \n",
    "    def generate_rules(self):\n",
    "        rules = {}\n",
    "        # k is the length of the frequent itemset\n",
    "        # v is the frequent itemset\n",
    "        for k, v in self.frequent_itemsets.items():\n",
    "            # skip singletons\n",
    "            if k == 1:\n",
    "                continue\n",
    "            for itemset, freq in v.items():\n",
    "                for item in itemset:\n",
    "                    # left side of the rule\n",
    "                    antecedent = frozenset(itemset - frozenset([item]))\n",
    "                    # right side of the rule\n",
    "                    consequent = frozenset([item])\n",
    "                    confidence = freq / (self.frequent_itemsets[len(antecedent)][antecedent])\n",
    "                    # store them in a dictionary with the rule as key and confidence as value\n",
    "                    rules[(antecedent, consequent)] = confidence\n",
    "        return rules\n",
    "    \n",
    "    def print_rules(self, n=10, confidence_threshold=0.5):\n",
    "        for i, (rule, confidence) in enumerate(sorted(self.rules.items(), key=lambda x: x[1], reverse=True)):\n",
    "            if i == n:\n",
    "                break\n",
    "            if confidence < confidence_threshold:\n",
    "                continue\n",
    "            else:\n",
    "                antecedent, consequent = rule\n",
    "                print(f'{antecedent} -> {consequent} (confidence: {confidence:.3f})')\n",
    "\n",
    "    def generate_interesting_rules(self, baskets, interest_threshold):\n",
    "        interesting_rules = {}\n",
    "        num_baskets = len(baskets)\n",
    "        for rule in self.rules:\n",
    "            antecedent, consequent = rule\n",
    "            confidence = self.rules[rule]\n",
    "            \n",
    "            support = self.frequent_itemsets[int(len(consequent))][consequent]\n",
    "            prob_consequent = support/num_baskets\n",
    "            interest = confidence - prob_consequent\n",
    "\n",
    "            if interest > interest_threshold or interest < -interest_threshold:\n",
    "                interesting_rules[(antecedent, consequent)] = interest\n",
    "\n",
    "        print(f'\\nNumber of interesting rules: {len(interesting_rules)}')\n",
    "        self.interesting_rules = interesting_rules\n",
    "\n",
    "    def print_interesting_rules(self, n=10):\n",
    "        for i, (rule, interest) in enumerate(sorted(self.interesting_rules.items(), key=lambda x: x[1], reverse=True)):\n",
    "            if i == n:\n",
    "                break\n",
    "            else:\n",
    "                antecedent, consequent = rule\n",
    "                print(f'{antecedent} -> {consequent} (interest: {interest:.3f})')\n",
    "       \n",
    "    def get_rules(self):\n",
    "        return self.rules\n",
    "    \n",
    "    def get_frequent_itemsets(self):\n",
    "        return self.frequent_itemsets"
   ]
  },
  {
   "cell_type": "markdown",
   "metadata": {},
   "source": [
    "To show our implementation, we run the follow cell."
   ]
  },
  {
   "cell_type": "code",
   "execution_count": 70,
   "metadata": {},
   "outputs": [
    {
     "name": "stdout",
     "output_type": "stream",
     "text": [
      "Number of 1-tuples: 569\n",
      "Number of unique items in 1-tuples: 569\n",
      "\n",
      "Number of 2-tuples: 339\n",
      "Number of unique items in 2-tuples: 210\n",
      "\n",
      "Number of 3-tuples: 109\n",
      "Number of unique items in 3-tuples: 92\n",
      "\n",
      "Number of 4-tuples: 42\n",
      "Number of unique items in 4-tuples: 55\n",
      "\n",
      "Number of 5-tuples: 9\n",
      "Number of unique items in 5-tuples: 20\n",
      "\n",
      "Number of rules: 1218\n",
      "frozenset({960, 185, 678}) -> frozenset({471}) (confidence: 0.994)\n",
      "frozenset({217, 546, 947}) -> frozenset({661}) (confidence: 0.991)\n",
      "frozenset({217, 546, 923}) -> frozenset({661}) (confidence: 0.991)\n",
      "frozenset({217, 546, 947, 923}) -> frozenset({661}) (confidence: 0.991)\n",
      "frozenset({546, 923, 947}) -> frozenset({661}) (confidence: 0.990)\n",
      "\n",
      "Number of interesting rules: 595\n",
      "frozenset({960, 185, 471}) -> frozenset({678}) (interest: 0.975)\n",
      "frozenset({217, 947, 923, 661}) -> frozenset({546}) (interest: 0.974)\n",
      "frozenset({217, 947, 661}) -> frozenset({546}) (interest: 0.971)\n",
      "frozenset({960, 678, 471}) -> frozenset({185}) (interest: 0.970)\n",
      "frozenset({923, 947, 661}) -> frozenset({546}) (interest: 0.968)\n"
     ]
    }
   ],
   "source": [
    "threshold = 0.005\n",
    "apriori = Apriori(baskets, threshold=threshold)\n",
    "assosciation_rules = AssosciationRules(apriori.frequent_itemsets)\n",
    "assosciation_rules.print_rules(n=5, confidence_threshold=0.5)\n",
    "assosciation_rules.generate_interesting_rules(baskets, interest_threshold=0.5)\n",
    "assosciation_rules.print_interesting_rules(n=5)"
   ]
  },
  {
   "cell_type": "markdown",
   "metadata": {},
   "source": [
    "## Final note\n",
    "\n",
    "There are further optimization to be done, such as using a *bitmap* to store the baskets, and using a *hash tree* to store the frequent itemsets. However, we don't believe those are the primary focus of this lab."
   ]
  },
  {
   "cell_type": "markdown",
   "metadata": {},
   "source": [
    "# Massa (onödigt?) plottande 😮‍💨"
   ]
  },
  {
   "cell_type": "markdown",
   "metadata": {},
   "source": [
    "To get some statistics of the data, I turned the list of items and how many baskets they were found in into a Panda's dataframe and used the `describe()` method."
   ]
  },
  {
   "cell_type": "code",
   "execution_count": 310,
   "metadata": {},
   "outputs": [
    {
     "data": {
      "image/png": "[encoded data removed]",
      "text/plain": [
       "<Figure size 720x576 with 3 Axes>"
      ]
     },
     "metadata": {
      "needs_background": "light"
     },
     "output_type": "display_data"
    }
   ],
   "source": [
    "import matplotlib.pyplot as plt\n",
    "import seaborn as sns\n",
    "from matplotlib import gridspec\n",
    "\n",
    "fig = plt.figure(figsize=(10, 8))\n",
    "\n",
    "ax1= fig.add_subplot(2,2,1)\n",
    "ax2= fig.add_subplot(2,2,3)\n",
    "ax3= fig.add_subplot(1,2,2)\n",
    "\n",
    "# set s and threshold\n",
    "s = 0.01\n",
    "threshold = s * get_number_of_baskets(baskets)\n",
    "\n",
    "sns.histplot(data=df['support'], bins=50, ax=ax1)\n",
    "ax1.axvline(x=threshold, color='r')\n",
    "sns.boxplot(data=df['support'], orient='h', ax=ax2)\n",
    "ax2.axvline(x=threshold, color='r')\n",
    "barplot_max_no_of_baskets = 50\n",
    "sns.barplot(data=df.sort_values(by='support', ascending=False).head(barplot_max_no_of_baskets),\n",
    "            x='support', \n",
    "            y='item', \n",
    "            orient='h',\n",
    "            order=df.sort_values(by='support', ascending=False).item.head(barplot_max_no_of_baskets),\n",
    "            ax=ax3\n",
    "            )\n",
    "\n",
    "plt.tight_layout()\n",
    "plt.show()\n"
   ]
  },
  {
   "cell_type": "markdown",
   "metadata": {},
   "source": [
    "## Monotonicity of Itemsets\n",
    "\n",
    "According to the paper and ch 6 of the course literature, the effectiveness of the Apriori algorithm depends on the monotonicity of the itemsets. \n",
    "\n",
    "> **Definition**: If a set $I$ of items is frequent, then so is the powerset of $I$ are also frequent (remember, the **powerset of $I$ is the set of all subsets of $I$**)\n",
    "\n",
    "For example, if the itemset $I = \\{1, 2, 3\\}$ is frequent, then so are *all* subsets, $\\mathscr{P}(I) = \\{\\{1\\}, \\{2\\}, \\{3\\}, \\{1, 2\\}, \\{1, 3\\}, \\{3, 2\\}\\}$, of $I$.\n",
    "In section 6.2.5 of the course literature, there is a naive algorithm for finding frequent itemsets described. The algorithm is as follows:"
   ]
  },
  {
   "cell_type": "code",
   "execution_count": 311,
   "metadata": {},
   "outputs": [],
   "source": [
    "def count_all_pairs_naive(baskets):\n",
    "    \"\"\"\n",
    "    Count the number of pairs of items that occur together in a basket.\n",
    "    \"\"\"\n",
    "    pairs = {}\n",
    "    for basket in baskets:\n",
    "        for item1 in basket:\n",
    "            for item2 in basket:\n",
    "                if item1 < item2: # TODO check if this is correct, not sure\n",
    "                    pairs[(item1, item2)] = pairs.get((item1, item2), 0) + 1\n",
    "    return pairs\n",
    "\n",
    "tuples = count_all_pairs_naive(baskets)\n"
   ]
  },
  {
   "cell_type": "markdown",
   "metadata": {},
   "source": [
    "For the dataset included in the lab, the algorithm takes 2.5 seconds to run. The algorithm is not very efficient, as it has to check every possible subset of every itemset. The Apriori algorithm is much more efficient, as it only checks the subsets of the itemsets that are frequent. The Apriori algorithm is described in section 6.2.6 of the course literature, but also in the article. "
   ]
  },
  {
   "cell_type": "code",
   "execution_count": 312,
   "metadata": {},
   "outputs": [],
   "source": [
    "def get_support_for_all_pairs(items):\n",
    "    return dict(map(lambda x: (x[0], len(x[1])), items.items()))"
   ]
  },
  {
   "cell_type": "code",
   "execution_count": 313,
   "metadata": {},
   "outputs": [
    {
     "data": {
      "image/png": "[encoded data removed]",
      "text/plain": [
       "<Figure size 720x360 with 1 Axes>"
      ]
     },
     "metadata": {
      "needs_background": "light"
     },
     "output_type": "display_data"
    }
   ],
   "source": [
    "# first step of the aprori algorithm is to count the number singletons, which we already did (?)\n",
    "# TODO here I overwrite the previous defintion of 'singletons', and I believe this is better.\n",
    "singletons = get_support_for_all_pairs(items)\n",
    "\n",
    "# between the passes of A-Priori, we will store the frequent singletons in 'frequent_singletons'\n",
    "df_singletons = pd.DataFrame.from_dict(singletons, orient='index', columns=['support'])\n",
    "\n",
    "# we can now filter out all singletons that do not meet the threshold\n",
    "df_freq_singletons = df_singletons[df_singletons['support'] >= s * get_number_of_baskets(baskets)]\n",
    "\n",
    "# make a histplot of the support of the singletons above the threshold\n",
    "df_freq_singletons.plot(kind='hist', bins=50, figsize=(10, 5)).set_title('Support of frequent singletons');"
   ]
  },
  {
   "cell_type": "code",
   "execution_count": 314,
   "metadata": {},
   "outputs": [
    {
     "data": {
      "text/plain": [
       "<matplotlib.lines.Line2D at 0x2c7d1d160>"
      ]
     },
     "execution_count": 314,
     "metadata": {},
     "output_type": "execute_result"
    },
    {
     "data": {
      "image/png": "[encoded data removed]",
      "text/plain": [
       "<Figure size 432x288 with 1 Axes>"
      ]
     },
     "metadata": {
      "needs_background": "light"
     },
     "output_type": "display_data"
    }
   ],
   "source": [
    "# plot the distribution of the support of the pairs\n",
    "\n",
    "# TODO Threshold is off for pairs #FML\n",
    "plot = sns.histplot(data=tuples.values(), bins=50)\n",
    "plot.set(xlabel='support', ylabel='log(count)', title='Support of pairs of items')\n",
    "plot.set_yscale('log')\n",
    "\n",
    "# add a red vertical line at the threshold\n",
    "plot.axvline(x=threshold, color='r')"
   ]
  },
  {
   "cell_type": "markdown",
   "metadata": {},
   "source": [
    "For the second pass of the Apriori algorithm, we need to generate candidate itemsets. \n",
    "\n",
    "> **From course literature (p.226):** During the second pass, we count all the pairs that *consists of two frequent items*. We call this table *frequent-items table*.\n",
    "\n",
    "We then check if the pair is frequent, and if it is, we add it to the set of frequent itemsets.\n",
    "The algorithm for generating candidate itemsets is as follows:"
   ]
  },
  {
   "cell_type": "code",
   "execution_count": 315,
   "metadata": {},
   "outputs": [],
   "source": [
    "freq_singletons = list(zip(df_freq_singletons.index, df_freq_singletons['support']))"
   ]
  },
  {
   "cell_type": "code",
   "execution_count": 316,
   "metadata": {},
   "outputs": [],
   "source": [
    "def get_frequent_items_table(baskets, freq_singletons):\n",
    "    \"\"\"\n",
    "    Returns a table of frequent items, where each row is a frequent item and each column is a basket.\n",
    "    \"\"\"\n",
    "    num_of_items = len(get_unique_items(baskets))\n",
    "    frequent_items_table = np.zeros(1000, dtype=int)\n",
    "\n",
    "    # assign 'm' as a unique values, used to mark the frequent items\n",
    "    m = 0\n",
    "\n",
    "    # identify all frequent items\n",
    "    for item, freq in freq_singletons:\n",
    "        frequent_items_table[item] = m\n",
    "        m += 1\n",
    "    return frequent_items_table"
   ]
  },
  {
   "cell_type": "markdown",
   "metadata": {},
   "source": [
    "Now we do the 2nd pass of the Apriori algorithm, where we check if the candidate itemsets are frequent.\n",
    "\n",
    "From the course literature, page 226:\n",
    "\n",
    "1. For each basket, look in the frequent-items table to see which of its items are frequent.\n",
    "2. In a double loop, generate all pairs of frequint items in that basket.\n",
    "3. For each such pair, add one to its count in the data structure used to store counts.\n",
    "\n",
    "To generate all pairs of frequent items in a basket, we use the `combinations` function from the `itertools` library. We use `frozensets` since they are a hashable type, and can be used as keys in a dictionary."
   ]
  },
  {
   "cell_type": "code",
   "execution_count": 317,
   "metadata": {},
   "outputs": [],
   "source": [
    "from itertools import combinations\n",
    "\n",
    "def get_frequent_item_from_basket(basket, frequent_items_table):\n",
    "    \"\"\"\n",
    "    [HELPER FUNCTION] Return the frequent items in a basket.\n",
    "    \"\"\"\n",
    "    return [item for item in basket if frequent_items_table[item] != 0]\n",
    "\n",
    "def generate_all_combinations(items, k=2):\n",
    "    \"\"\"\n",
    "    [HELPER FUNCTION] Generate all pairs of frequent items in a basket.\n",
    "    \"\"\"\n",
    "    return [frozenset(pair) for pair in combinations(items, k)]\n",
    "\n",
    "def find_candidate_pairs(baskets, frequent_items_table, k=2):\n",
    "    \"\"\"\n",
    "    Find all candidate pairs of frequent items.\n",
    "    \"\"\"\n",
    "    candidate_pairs = {}\n",
    "    for basket in baskets:\n",
    "        freq_items_in_basket = get_frequent_item_from_basket(basket, frequent_items_table)\n",
    "        basket_pairs = generate_all_combinations(freq_items_in_basket, k=k)\n",
    "        for pair in basket_pairs:\n",
    "            if pair not in candidate_pairs:\n",
    "                candidate_pairs[pair] = 1\n",
    "            else:\n",
    "                candidate_pairs[pair] += 1\n",
    "    return candidate_pairs\n",
    "\n",
    "\n",
    "def filter_candidate_pairs(candidate_pairs, threshold):\n",
    "    \"\"\"\n",
    "    Filter out all candidate pairs that do not meet the threshold.\n",
    "    \"\"\"\n",
    "    #return dict(filter(lambda x: x[1] >= threshold, candidate_pairs.items())) # TODO är filter bättre?\n",
    "    return {pair: freq for pair, freq in candidate_pairs.items() if freq >= threshold}"
   ]
  },
  {
   "cell_type": "markdown",
   "metadata": {},
   "source": [
    "Here I try to filter all the frequent itemsets that have a support of 0.01 or higher. I do this by creating a new dictionary where I only add the frequent itemsets that have a support of 0.01 or higher. I then sort the dictionary by the support of the itemsets."
   ]
  },
  {
   "cell_type": "code",
   "execution_count": 318,
   "metadata": {},
   "outputs": [
    {
     "name": "stdout",
     "output_type": "stream",
     "text": [
      "Number of candidate pairs: 69751, and threshold: 697\n"
     ]
    }
   ],
   "source": [
    "frequent_items_table = get_frequent_items_table(baskets, freq_singletons)\n",
    "candidate_pairs = find_candidate_pairs(baskets, frequent_items_table)\n",
    "\n",
    "# TODO uncertain if this is correct\n",
    "threshold = int(0.01 * len(candidate_pairs))\n",
    "print(f'Number of candidate pairs: {len(candidate_pairs)}, and threshold: {threshold}')\n",
    "\n",
    "frequent_candidate_pairs = filter_candidate_pairs(candidate_pairs, threshold)"
   ]
  },
  {
   "cell_type": "markdown",
   "metadata": {},
   "source": [
    "WHEN YOU LOOK CLOSE ENOUGH EVERYTHING IS A HEATMAP"
   ]
  },
  {
   "cell_type": "code",
   "execution_count": 319,
   "metadata": {},
   "outputs": [
    {
     "data": {
      "image/png": "[encoded data removed]",
      "text/plain": [
       "<Figure size 432x288 with 2 Axes>"
      ]
     },
     "metadata": {
      "needs_background": "light"
     },
     "output_type": "display_data"
    }
   ],
   "source": [
    "%matplotlib inline\n",
    "\n",
    "# 'unboxed' is the dictionary with frozensets, unwrapped into a matrix\n",
    "unboxed = []\n",
    "for item in frequent_candidate_pairs.items():\n",
    "    x, y = item[0]\n",
    "    count = item[1]\n",
    "    unboxed.append((x, y, count))\n",
    "\n",
    "# Hettkarta över antal förekomster av par\n",
    "df = pd.DataFrame(unboxed, columns=['item1', 'item2', 'support'])\n",
    "sns.heatmap(df.pivot_table(index='item1', columns='item2', values='support').fillna(0)).set_title('Vilket skulle visa hur många gånger par förekommer i varje varukorg');"
   ]
  },
  {
   "cell_type": "markdown",
   "metadata": {},
   "source": [
    "## Apriori Pipeline\n",
    "\n",
    "![Apriori pipeline](../imgs/apriori_pipeline.jpeg)\n",
    "\n",
    "I think next step is to implement the Apriori algorithm in Spark. I think it would be interesting to see how the performance of the algorithm changes when we use Spark instead of Python.\n",
    "No but make a pipeline that returns most frequent pairs as described in the image."
   ]
  },
  {
   "cell_type": "code",
   "execution_count": 320,
   "metadata": {},
   "outputs": [],
   "source": [
    "# construct a pipeline as described in the course material\n",
    "# TODO perhaps makes more sense to make it a class?\n",
    "# TODO namnge first pass och second pass tydligt i koden...\n",
    "def apriori_pipeline(items, basket, s=0.01, pipeline_length=2):\n",
    "    items = item_and_basket_dictionary(baskets)\n",
    "    singletons = get_support_for_all_pairs(items) # TODO fult namn och fel att ha i Pajplajnen? Borde returnera en df direkt\n",
    "    df_singletons = pd.DataFrame.from_dict(singletons, orient='index', columns=['support'])\n",
    "    df_freq_singletons = df_singletons[df_singletons['support'] >= s * get_number_of_baskets(baskets)]\n",
    "    freq_singletons = list(zip(df_freq_singletons.index, df_freq_singletons['support']))\n",
    "    frequent_items_table = get_frequent_items_table(baskets, freq_singletons)\n",
    "    candidate_pairs = find_candidate_pairs(baskets, frequent_items_table)\n",
    "    threshold = int(s * len(candidate_pairs))\n",
    "    frequent_candidate_pairs = filter_candidate_pairs(candidate_pairs, threshold)\n",
    "    return frequent_candidate_pairs"
   ]
  },
  {
   "cell_type": "code",
   "execution_count": 321,
   "metadata": {},
   "outputs": [
    {
     "data": {
      "text/plain": [
       "{frozenset({448, 538}): 723,\n",
       " frozenset({39, 704}): 1107,\n",
       " frozenset({704, 825}): 1102,\n",
       " frozenset({39, 825}): 1187,\n",
       " frozenset({529, 782}): 862,\n",
       " frozenset({227, 390}): 1049,\n",
       " frozenset({623, 795}): 805,\n",
       " frozenset({795, 853}): 806,\n",
       " frozenset({571, 795}): 838,\n",
       " frozenset({175, 910}): 713,\n",
       " frozenset({623, 853}): 791,\n",
       " frozenset({571, 623}): 783,\n",
       " frozenset({571, 853}): 793,\n",
       " frozenset({392, 862}): 881,\n",
       " frozenset({411, 803}): 826,\n",
       " frozenset({290, 458}): 786,\n",
       " frozenset({208, 290}): 803,\n",
       " frozenset({290, 888}): 826,\n",
       " frozenset({208, 458}): 796,\n",
       " frozenset({458, 888}): 796,\n",
       " frozenset({208, 888}): 829,\n",
       " frozenset({192, 935}): 775,\n",
       " frozenset({471, 678}): 810,\n",
       " frozenset({789, 829}): 1194,\n",
       " frozenset({296, 829}): 736,\n",
       " frozenset({392, 489}): 866,\n",
       " frozenset({368, 829}): 1194,\n",
       " frozenset({72, 541}): 846,\n",
       " frozenset({368, 937}): 701,\n",
       " frozenset({6, 676}): 769,\n",
       " frozenset({21, 857}): 729,\n",
       " frozenset({21, 793}): 765,\n",
       " frozenset({793, 857}): 734,\n",
       " frozenset({598, 782}): 800,\n",
       " frozenset({529, 598}): 943,\n",
       " frozenset({214, 354}): 775,\n",
       " frozenset({12, 132}): 785,\n",
       " frozenset({538, 878}): 767,\n",
       " frozenset({57, 937}): 782,\n",
       " frozenset({33, 515}): 824,\n",
       " frozenset({33, 217}): 852,\n",
       " frozenset({33, 346}): 844,\n",
       " frozenset({33, 283}): 845,\n",
       " frozenset({217, 515}): 843,\n",
       " frozenset({346, 515}): 849,\n",
       " frozenset({283, 515}): 835,\n",
       " frozenset({217, 346}): 1336,\n",
       " frozenset({217, 283}): 926,\n",
       " frozenset({283, 346}): 910,\n",
       " frozenset({69, 362}): 757,\n",
       " frozenset({923, 947}): 859,\n",
       " frozenset({75, 684}): 797,\n",
       " frozenset({75, 438}): 772,\n",
       " frozenset({438, 684}): 825,\n",
       " frozenset({21, 413}): 756,\n",
       " frozenset({413, 857}): 731,\n",
       " frozenset({413, 793}): 766,\n",
       " frozenset({70, 684}): 860,\n",
       " frozenset({70, 819}): 798,\n",
       " frozenset({70, 765}): 789,\n",
       " frozenset({684, 819}): 800,\n",
       " frozenset({684, 765}): 812,\n",
       " frozenset({765, 819}): 787,\n",
       " frozenset({32, 947}): 720,\n",
       " frozenset({788, 956}): 733,\n",
       " frozenset({470, 995}): 754,\n",
       " frozenset({534, 995}): 750,\n",
       " frozenset({470, 534}): 764,\n",
       " frozenset({494, 862}): 720,\n",
       " frozenset({75, 775}): 787,\n",
       " frozenset({368, 682}): 1193,\n",
       " frozenset({494, 682}): 714,\n",
       " frozenset({368, 494}): 860,\n",
       " frozenset({368, 692}): 928,\n",
       " frozenset({227, 722}): 995,\n",
       " frozenset({675, 886}): 823,\n",
       " frozenset({390, 722}): 1042,\n",
       " frozenset({12, 722}): 740,\n",
       " frozenset({401, 571}): 708,\n",
       " frozenset({217, 947}): 716,\n",
       " frozenset({39, 145}): 734,\n",
       " frozenset({471, 960}): 935}"
      ]
     },
     "execution_count": 321,
     "metadata": {},
     "output_type": "execute_result"
    }
   ],
   "source": [
    "apriori_pipeline(items, baskets)"
   ]
  },
  {
   "cell_type": "code",
   "execution_count": null,
   "metadata": {},
   "outputs": [],
   "source": []
  }
 ],
 "metadata": {
  "kernelspec": {
   "display_name": "Python 3.8.0 64-bit",
   "language": "python",
   "name": "python3"
  },
  "language_info": {
   "codemirror_mode": {
    "name": "ipython",
    "version": 3
   },
   "file_extension": ".py",
   "mimetype": "text/x-python",
   "name": "python",
   "nbconvert_exporter": "python",
   "pygments_lexer": "ipython3",
   "version": "3.8.0"
  },
  "orig_nbformat": 4,
  "vscode": {
   "interpreter": {
    "hash": "6b75d418c9c326d7aaeaf58c1d55517f17bf57fa9a587eb451d9ce82208dc144"
   }
  }
 },
 "nbformat": 4,
 "nbformat_minor": 2
}
